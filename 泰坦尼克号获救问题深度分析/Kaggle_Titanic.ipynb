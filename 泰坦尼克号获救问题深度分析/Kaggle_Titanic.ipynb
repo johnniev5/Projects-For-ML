{
 "cells": [
  {
   "cell_type": "code",
   "execution_count": 1,
   "metadata": {},
   "outputs": [],
   "source": [
    "import numpy as np\n",
    "import pandas as pd\n",
    "import matplotlib.pyplot as plt\n",
    "import sklearn\n",
    "%matplotlib inline\n",
    "plt.style.available\n",
    "plt.style.use('classic')"
   ]
  },
  {
   "cell_type": "code",
   "execution_count": 2,
   "metadata": {},
   "outputs": [],
   "source": [
    "# 查找matplotlib支持的系统字体\n",
    "# import matplotlib.font_manager\n",
    "# matplotlib.font_manager.findSystemFonts()"
   ]
  },
  {
   "cell_type": "code",
   "execution_count": 3,
   "metadata": {},
   "outputs": [],
   "source": [
    "# 读取数据，看下数据分布情况\n",
    "\n",
    "train = pd.read_csv('./train.csv')\n",
    "test = pd.read_csv('./test.csv')"
   ]
  },
  {
   "cell_type": "code",
   "execution_count": 4,
   "metadata": {},
   "outputs": [
    {
     "data": {
      "text/html": [
       "<div>\n",
       "<style scoped>\n",
       "    .dataframe tbody tr th:only-of-type {\n",
       "        vertical-align: middle;\n",
       "    }\n",
       "\n",
       "    .dataframe tbody tr th {\n",
       "        vertical-align: top;\n",
       "    }\n",
       "\n",
       "    .dataframe thead th {\n",
       "        text-align: right;\n",
       "    }\n",
       "</style>\n",
       "<table border=\"1\" class=\"dataframe\">\n",
       "  <thead>\n",
       "    <tr style=\"text-align: right;\">\n",
       "      <th></th>\n",
       "      <th>PassengerId</th>\n",
       "      <th>Survived</th>\n",
       "      <th>Pclass</th>\n",
       "      <th>Name</th>\n",
       "      <th>Sex</th>\n",
       "      <th>Age</th>\n",
       "      <th>SibSp</th>\n",
       "      <th>Parch</th>\n",
       "      <th>Ticket</th>\n",
       "      <th>Fare</th>\n",
       "      <th>Cabin</th>\n",
       "      <th>Embarked</th>\n",
       "    </tr>\n",
       "  </thead>\n",
       "  <tbody>\n",
       "    <tr>\n",
       "      <th>0</th>\n",
       "      <td>1</td>\n",
       "      <td>0</td>\n",
       "      <td>3</td>\n",
       "      <td>Braund, Mr. Owen Harris</td>\n",
       "      <td>male</td>\n",
       "      <td>22.0</td>\n",
       "      <td>1</td>\n",
       "      <td>0</td>\n",
       "      <td>A/5 21171</td>\n",
       "      <td>7.2500</td>\n",
       "      <td>NaN</td>\n",
       "      <td>S</td>\n",
       "    </tr>\n",
       "    <tr>\n",
       "      <th>1</th>\n",
       "      <td>2</td>\n",
       "      <td>1</td>\n",
       "      <td>1</td>\n",
       "      <td>Cumings, Mrs. John Bradley (Florence Briggs Th...</td>\n",
       "      <td>female</td>\n",
       "      <td>38.0</td>\n",
       "      <td>1</td>\n",
       "      <td>0</td>\n",
       "      <td>PC 17599</td>\n",
       "      <td>71.2833</td>\n",
       "      <td>C85</td>\n",
       "      <td>C</td>\n",
       "    </tr>\n",
       "    <tr>\n",
       "      <th>2</th>\n",
       "      <td>3</td>\n",
       "      <td>1</td>\n",
       "      <td>3</td>\n",
       "      <td>Heikkinen, Miss. Laina</td>\n",
       "      <td>female</td>\n",
       "      <td>26.0</td>\n",
       "      <td>0</td>\n",
       "      <td>0</td>\n",
       "      <td>STON/O2. 3101282</td>\n",
       "      <td>7.9250</td>\n",
       "      <td>NaN</td>\n",
       "      <td>S</td>\n",
       "    </tr>\n",
       "    <tr>\n",
       "      <th>3</th>\n",
       "      <td>4</td>\n",
       "      <td>1</td>\n",
       "      <td>1</td>\n",
       "      <td>Futrelle, Mrs. Jacques Heath (Lily May Peel)</td>\n",
       "      <td>female</td>\n",
       "      <td>35.0</td>\n",
       "      <td>1</td>\n",
       "      <td>0</td>\n",
       "      <td>113803</td>\n",
       "      <td>53.1000</td>\n",
       "      <td>C123</td>\n",
       "      <td>S</td>\n",
       "    </tr>\n",
       "    <tr>\n",
       "      <th>4</th>\n",
       "      <td>5</td>\n",
       "      <td>0</td>\n",
       "      <td>3</td>\n",
       "      <td>Allen, Mr. William Henry</td>\n",
       "      <td>male</td>\n",
       "      <td>35.0</td>\n",
       "      <td>0</td>\n",
       "      <td>0</td>\n",
       "      <td>373450</td>\n",
       "      <td>8.0500</td>\n",
       "      <td>NaN</td>\n",
       "      <td>S</td>\n",
       "    </tr>\n",
       "  </tbody>\n",
       "</table>\n",
       "</div>"
      ],
      "text/plain": [
       "   PassengerId  Survived  Pclass  \\\n",
       "0            1         0       3   \n",
       "1            2         1       1   \n",
       "2            3         1       3   \n",
       "3            4         1       1   \n",
       "4            5         0       3   \n",
       "\n",
       "                                                Name     Sex   Age  SibSp  \\\n",
       "0                            Braund, Mr. Owen Harris    male  22.0      1   \n",
       "1  Cumings, Mrs. John Bradley (Florence Briggs Th...  female  38.0      1   \n",
       "2                             Heikkinen, Miss. Laina  female  26.0      0   \n",
       "3       Futrelle, Mrs. Jacques Heath (Lily May Peel)  female  35.0      1   \n",
       "4                           Allen, Mr. William Henry    male  35.0      0   \n",
       "\n",
       "   Parch            Ticket     Fare Cabin Embarked  \n",
       "0      0         A/5 21171   7.2500   NaN        S  \n",
       "1      0          PC 17599  71.2833   C85        C  \n",
       "2      0  STON/O2. 3101282   7.9250   NaN        S  \n",
       "3      0            113803  53.1000  C123        S  \n",
       "4      0            373450   8.0500   NaN        S  "
      ]
     },
     "execution_count": 4,
     "metadata": {},
     "output_type": "execute_result"
    }
   ],
   "source": [
    "train.head()"
   ]
  },
  {
   "cell_type": "code",
   "execution_count": 5,
   "metadata": {},
   "outputs": [
    {
     "data": {
      "text/plain": [
       "Index(['PassengerId', 'Survived', 'Pclass', 'Name', 'Sex', 'Age', 'SibSp',\n",
       "       'Parch', 'Ticket', 'Fare', 'Cabin', 'Embarked'],\n",
       "      dtype='object')"
      ]
     },
     "execution_count": 5,
     "metadata": {},
     "output_type": "execute_result"
    }
   ],
   "source": [
    "train.columns"
   ]
  },
  {
   "cell_type": "markdown",
   "metadata": {},
   "source": [
    "猜测可能与Survived相关的特征：\n",
    "\n",
    "* Pclass - 乘客等级：关联到乘客的财富、社会地位等属性，可能会作为Survived考虑的因素。\n",
    "* Sex - 性别：强相关特征，因在沉船时，船长说了，『lady and kid first！』\n",
    "* Age - 年龄：中度相关，年龄字段可以筛选出老人小孩，年轻女人等，可以作为参考\n",
    "* SibSp - 兄弟/姊妹数：中度相关，可能会作为当事人考虑的因素\n",
    "* Parch - 父母/小孩数：中度相关，同上\n",
    "* Ticket - 船票信息：弱特征，待查看\n",
    "* Fare - 票价：可能是中度相关特征，和Age特征一样\n",
    "* Cabin - 船舱号：有船舱号的，票价会贵很多，可作为参考因素\n",
    "* Embarked - 登船港口：可能与Pclass字段存在关联，待验证"
   ]
  },
  {
   "cell_type": "code",
   "execution_count": 6,
   "metadata": {},
   "outputs": [
    {
     "name": "stdout",
     "output_type": "stream",
     "text": [
      "<class 'pandas.core.frame.DataFrame'>\n",
      "RangeIndex: 891 entries, 0 to 890\n",
      "Data columns (total 12 columns):\n",
      "PassengerId    891 non-null int64\n",
      "Survived       891 non-null int64\n",
      "Pclass         891 non-null int64\n",
      "Name           891 non-null object\n",
      "Sex            891 non-null object\n",
      "Age            714 non-null float64\n",
      "SibSp          891 non-null int64\n",
      "Parch          891 non-null int64\n",
      "Ticket         891 non-null object\n",
      "Fare           891 non-null float64\n",
      "Cabin          204 non-null object\n",
      "Embarked       889 non-null object\n",
      "dtypes: float64(2), int64(5), object(5)\n",
      "memory usage: 83.6+ KB\n"
     ]
    }
   ],
   "source": [
    "train.info()"
   ]
  },
  {
   "cell_type": "markdown",
   "metadata": {},
   "source": [
    "从以上可以看到，数据并不是完整的，而是存在缺失值的，数据类型有文本型字符串，整型和浮点型。\n",
    "\n",
    "对于离散型的数据的处理，我们需要对其进行LabelEncoder或者One-hot Encoder，让计算机能够识别每个字段的类别。\n",
    "\n",
    "而对于连续性的数据，主要是针对缺失值的处理。而缺失值的处理方法一般有以下几种：\n",
    "\n",
    "* 存在大量缺失值的样本，一般就不能使用了，该样本不具备用于预测的完整性要求，且可能会带入噪声数据，反而影响最后的预测结果；\n",
    "* 存在部分的缺失值的情况，对于离散型的类别数据，我们可以将缺失值的NaN的数据单独作为一个类别，加入特征。或者也可以将其补充上，比如使用无缺失值的特征训练出模型填充上存在缺失值数据该部分特征；\n",
    "* 而存在部分缺失值的连续值的处理，思路也跟离散型差不多，只是，我们会将连续值离散化，也就是分桶的思想，特别用于类别划分时，比如在树模型中的属性划分；\n",
    "* 存在少量的缺失值的情况，我们一般会采用缺失值填充的方法，比如填充均值、中位数、众数、拉格朗日插值，或使用机器学习训练出模型来填充。"
   ]
  },
  {
   "cell_type": "markdown",
   "metadata": {},
   "source": [
    "以上存在缺失值的字段有，Age字段 - 可以采用模型训练填充法；Cabin字段 - 缺失值被视为无船舱号处理；Embarked字段 - 也可以采用模型训练法填充。"
   ]
  },
  {
   "cell_type": "code",
   "execution_count": 7,
   "metadata": {},
   "outputs": [
    {
     "data": {
      "text/html": [
       "<div>\n",
       "<style scoped>\n",
       "    .dataframe tbody tr th:only-of-type {\n",
       "        vertical-align: middle;\n",
       "    }\n",
       "\n",
       "    .dataframe tbody tr th {\n",
       "        vertical-align: top;\n",
       "    }\n",
       "\n",
       "    .dataframe thead th {\n",
       "        text-align: right;\n",
       "    }\n",
       "</style>\n",
       "<table border=\"1\" class=\"dataframe\">\n",
       "  <thead>\n",
       "    <tr style=\"text-align: right;\">\n",
       "      <th></th>\n",
       "      <th>PassengerId</th>\n",
       "      <th>Survived</th>\n",
       "      <th>Pclass</th>\n",
       "      <th>Age</th>\n",
       "      <th>SibSp</th>\n",
       "      <th>Parch</th>\n",
       "      <th>Fare</th>\n",
       "    </tr>\n",
       "  </thead>\n",
       "  <tbody>\n",
       "    <tr>\n",
       "      <th>count</th>\n",
       "      <td>891.000000</td>\n",
       "      <td>891.000000</td>\n",
       "      <td>891.000000</td>\n",
       "      <td>714.000000</td>\n",
       "      <td>891.000000</td>\n",
       "      <td>891.000000</td>\n",
       "      <td>891.000000</td>\n",
       "    </tr>\n",
       "    <tr>\n",
       "      <th>mean</th>\n",
       "      <td>446.000000</td>\n",
       "      <td>0.383838</td>\n",
       "      <td>2.308642</td>\n",
       "      <td>29.699118</td>\n",
       "      <td>0.523008</td>\n",
       "      <td>0.381594</td>\n",
       "      <td>32.204208</td>\n",
       "    </tr>\n",
       "    <tr>\n",
       "      <th>std</th>\n",
       "      <td>257.353842</td>\n",
       "      <td>0.486592</td>\n",
       "      <td>0.836071</td>\n",
       "      <td>14.526497</td>\n",
       "      <td>1.102743</td>\n",
       "      <td>0.806057</td>\n",
       "      <td>49.693429</td>\n",
       "    </tr>\n",
       "    <tr>\n",
       "      <th>min</th>\n",
       "      <td>1.000000</td>\n",
       "      <td>0.000000</td>\n",
       "      <td>1.000000</td>\n",
       "      <td>0.420000</td>\n",
       "      <td>0.000000</td>\n",
       "      <td>0.000000</td>\n",
       "      <td>0.000000</td>\n",
       "    </tr>\n",
       "    <tr>\n",
       "      <th>25%</th>\n",
       "      <td>223.500000</td>\n",
       "      <td>0.000000</td>\n",
       "      <td>2.000000</td>\n",
       "      <td>20.125000</td>\n",
       "      <td>0.000000</td>\n",
       "      <td>0.000000</td>\n",
       "      <td>7.910400</td>\n",
       "    </tr>\n",
       "    <tr>\n",
       "      <th>50%</th>\n",
       "      <td>446.000000</td>\n",
       "      <td>0.000000</td>\n",
       "      <td>3.000000</td>\n",
       "      <td>28.000000</td>\n",
       "      <td>0.000000</td>\n",
       "      <td>0.000000</td>\n",
       "      <td>14.454200</td>\n",
       "    </tr>\n",
       "    <tr>\n",
       "      <th>75%</th>\n",
       "      <td>668.500000</td>\n",
       "      <td>1.000000</td>\n",
       "      <td>3.000000</td>\n",
       "      <td>38.000000</td>\n",
       "      <td>1.000000</td>\n",
       "      <td>0.000000</td>\n",
       "      <td>31.000000</td>\n",
       "    </tr>\n",
       "    <tr>\n",
       "      <th>max</th>\n",
       "      <td>891.000000</td>\n",
       "      <td>1.000000</td>\n",
       "      <td>3.000000</td>\n",
       "      <td>80.000000</td>\n",
       "      <td>8.000000</td>\n",
       "      <td>6.000000</td>\n",
       "      <td>512.329200</td>\n",
       "    </tr>\n",
       "  </tbody>\n",
       "</table>\n",
       "</div>"
      ],
      "text/plain": [
       "       PassengerId    Survived      Pclass         Age       SibSp  \\\n",
       "count   891.000000  891.000000  891.000000  714.000000  891.000000   \n",
       "mean    446.000000    0.383838    2.308642   29.699118    0.523008   \n",
       "std     257.353842    0.486592    0.836071   14.526497    1.102743   \n",
       "min       1.000000    0.000000    1.000000    0.420000    0.000000   \n",
       "25%     223.500000    0.000000    2.000000   20.125000    0.000000   \n",
       "50%     446.000000    0.000000    3.000000   28.000000    0.000000   \n",
       "75%     668.500000    1.000000    3.000000   38.000000    1.000000   \n",
       "max     891.000000    1.000000    3.000000   80.000000    8.000000   \n",
       "\n",
       "            Parch        Fare  \n",
       "count  891.000000  891.000000  \n",
       "mean     0.381594   32.204208  \n",
       "std      0.806057   49.693429  \n",
       "min      0.000000    0.000000  \n",
       "25%      0.000000    7.910400  \n",
       "50%      0.000000   14.454200  \n",
       "75%      0.000000   31.000000  \n",
       "max      6.000000  512.329200  "
      ]
     },
     "execution_count": 7,
     "metadata": {},
     "output_type": "execute_result"
    }
   ],
   "source": [
    "train.describe()"
   ]
  },
  {
   "cell_type": "markdown",
   "metadata": {},
   "source": [
    "从上面的数据分布可以看出如下：\n",
    "\n",
    "* Survived字段：最后的生还率为0.38\n",
    "* Pclass字段：我们看分为区间，从min到max，1等乘客数明显要少于2/3等乘客数\n",
    "* Age字段：乘客的平均年龄在29岁，同时，我们可以看下min最小值为0.42的乘客，是不是婴儿？\n",
    "* SibSp字段：约有一半的人都有兄弟姊妹\n",
    "* SibSp字段：约有1/3多的人父母健在，或有小孩\n",
    "* Fare字段：船票的价格，从min到max，可以筛选最小船票价格的乘客"
   ]
  },
  {
   "cell_type": "code",
   "execution_count": 8,
   "metadata": {},
   "outputs": [
    {
     "data": {
      "text/html": [
       "<div>\n",
       "<style scoped>\n",
       "    .dataframe tbody tr th:only-of-type {\n",
       "        vertical-align: middle;\n",
       "    }\n",
       "\n",
       "    .dataframe tbody tr th {\n",
       "        vertical-align: top;\n",
       "    }\n",
       "\n",
       "    .dataframe thead th {\n",
       "        text-align: right;\n",
       "    }\n",
       "</style>\n",
       "<table border=\"1\" class=\"dataframe\">\n",
       "  <thead>\n",
       "    <tr style=\"text-align: right;\">\n",
       "      <th></th>\n",
       "      <th>PassengerId</th>\n",
       "      <th>Survived</th>\n",
       "      <th>Pclass</th>\n",
       "      <th>Name</th>\n",
       "      <th>Sex</th>\n",
       "      <th>Age</th>\n",
       "      <th>SibSp</th>\n",
       "      <th>Parch</th>\n",
       "      <th>Ticket</th>\n",
       "      <th>Fare</th>\n",
       "      <th>Cabin</th>\n",
       "      <th>Embarked</th>\n",
       "    </tr>\n",
       "  </thead>\n",
       "  <tbody>\n",
       "    <tr>\n",
       "      <th>803</th>\n",
       "      <td>804</td>\n",
       "      <td>1</td>\n",
       "      <td>3</td>\n",
       "      <td>Thomas, Master. Assad Alexander</td>\n",
       "      <td>male</td>\n",
       "      <td>0.42</td>\n",
       "      <td>0</td>\n",
       "      <td>1</td>\n",
       "      <td>2625</td>\n",
       "      <td>8.5167</td>\n",
       "      <td>NaN</td>\n",
       "      <td>C</td>\n",
       "    </tr>\n",
       "  </tbody>\n",
       "</table>\n",
       "</div>"
      ],
      "text/plain": [
       "     PassengerId  Survived  Pclass                             Name   Sex  \\\n",
       "803          804         1       3  Thomas, Master. Assad Alexander  male   \n",
       "\n",
       "      Age  SibSp  Parch Ticket    Fare Cabin Embarked  \n",
       "803  0.42      0      1   2625  8.5167   NaN        C  "
      ]
     },
     "execution_count": 8,
     "metadata": {},
     "output_type": "execute_result"
    }
   ],
   "source": [
    "train[train['Age'] == 0.42] # 可能是婴儿"
   ]
  },
  {
   "cell_type": "code",
   "execution_count": 9,
   "metadata": {
    "scrolled": false
   },
   "outputs": [],
   "source": [
    "# train[train['Fare'] <= 10]"
   ]
  },
  {
   "cell_type": "code",
   "execution_count": 10,
   "metadata": {
    "scrolled": false
   },
   "outputs": [],
   "source": [
    "# train[train['Cabin'].isnull()].sort_values('Fare', ascending=False)"
   ]
  },
  {
   "cell_type": "markdown",
   "metadata": {},
   "source": [
    "我们看到大部分没有船舱号的乘客的票价都较低，而某些票价高的乘客也没有船舱号，而票价低的乘客却有船舱号，试猜想，试试在沉船时，互相认识的人，或者之前不认识，但是而后为了让其活下去，而互换了船票呢！我们看下这些人是否得救呢？"
   ]
  },
  {
   "cell_type": "code",
   "execution_count": 11,
   "metadata": {},
   "outputs": [
    {
     "data": {
      "text/html": [
       "<div>\n",
       "<style scoped>\n",
       "    .dataframe tbody tr th:only-of-type {\n",
       "        vertical-align: middle;\n",
       "    }\n",
       "\n",
       "    .dataframe tbody tr th {\n",
       "        vertical-align: top;\n",
       "    }\n",
       "\n",
       "    .dataframe thead th {\n",
       "        text-align: right;\n",
       "    }\n",
       "</style>\n",
       "<table border=\"1\" class=\"dataframe\">\n",
       "  <thead>\n",
       "    <tr style=\"text-align: right;\">\n",
       "      <th></th>\n",
       "      <th>PassengerId</th>\n",
       "      <th>Survived</th>\n",
       "      <th>Pclass</th>\n",
       "      <th>Name</th>\n",
       "      <th>Sex</th>\n",
       "      <th>Age</th>\n",
       "      <th>SibSp</th>\n",
       "      <th>Parch</th>\n",
       "      <th>Ticket</th>\n",
       "      <th>Fare</th>\n",
       "      <th>Cabin</th>\n",
       "      <th>Embarked</th>\n",
       "    </tr>\n",
       "  </thead>\n",
       "  <tbody>\n",
       "    <tr>\n",
       "      <th>75</th>\n",
       "      <td>76</td>\n",
       "      <td>0</td>\n",
       "      <td>3</td>\n",
       "      <td>Moen, Mr. Sigurd Hansen</td>\n",
       "      <td>male</td>\n",
       "      <td>25.0</td>\n",
       "      <td>0</td>\n",
       "      <td>0</td>\n",
       "      <td>348123</td>\n",
       "      <td>7.65</td>\n",
       "      <td>F G73</td>\n",
       "      <td>S</td>\n",
       "    </tr>\n",
       "    <tr>\n",
       "      <th>263</th>\n",
       "      <td>264</td>\n",
       "      <td>0</td>\n",
       "      <td>1</td>\n",
       "      <td>Harrison, Mr. William</td>\n",
       "      <td>male</td>\n",
       "      <td>40.0</td>\n",
       "      <td>0</td>\n",
       "      <td>0</td>\n",
       "      <td>112059</td>\n",
       "      <td>0.00</td>\n",
       "      <td>B94</td>\n",
       "      <td>S</td>\n",
       "    </tr>\n",
       "    <tr>\n",
       "      <th>429</th>\n",
       "      <td>430</td>\n",
       "      <td>1</td>\n",
       "      <td>3</td>\n",
       "      <td>Pickard, Mr. Berk (Berk Trembisky)</td>\n",
       "      <td>male</td>\n",
       "      <td>32.0</td>\n",
       "      <td>0</td>\n",
       "      <td>0</td>\n",
       "      <td>SOTON/O.Q. 392078</td>\n",
       "      <td>8.05</td>\n",
       "      <td>E10</td>\n",
       "      <td>S</td>\n",
       "    </tr>\n",
       "    <tr>\n",
       "      <th>699</th>\n",
       "      <td>700</td>\n",
       "      <td>0</td>\n",
       "      <td>3</td>\n",
       "      <td>Humblen, Mr. Adolf Mathias Nicolai Olsen</td>\n",
       "      <td>male</td>\n",
       "      <td>42.0</td>\n",
       "      <td>0</td>\n",
       "      <td>0</td>\n",
       "      <td>348121</td>\n",
       "      <td>7.65</td>\n",
       "      <td>F G63</td>\n",
       "      <td>S</td>\n",
       "    </tr>\n",
       "    <tr>\n",
       "      <th>715</th>\n",
       "      <td>716</td>\n",
       "      <td>0</td>\n",
       "      <td>3</td>\n",
       "      <td>Soholt, Mr. Peter Andreas Lauritz Andersen</td>\n",
       "      <td>male</td>\n",
       "      <td>19.0</td>\n",
       "      <td>0</td>\n",
       "      <td>0</td>\n",
       "      <td>348124</td>\n",
       "      <td>7.65</td>\n",
       "      <td>F G73</td>\n",
       "      <td>S</td>\n",
       "    </tr>\n",
       "    <tr>\n",
       "      <th>776</th>\n",
       "      <td>777</td>\n",
       "      <td>0</td>\n",
       "      <td>3</td>\n",
       "      <td>Tobin, Mr. Roger</td>\n",
       "      <td>male</td>\n",
       "      <td>NaN</td>\n",
       "      <td>0</td>\n",
       "      <td>0</td>\n",
       "      <td>383121</td>\n",
       "      <td>7.75</td>\n",
       "      <td>F38</td>\n",
       "      <td>Q</td>\n",
       "    </tr>\n",
       "    <tr>\n",
       "      <th>806</th>\n",
       "      <td>807</td>\n",
       "      <td>0</td>\n",
       "      <td>1</td>\n",
       "      <td>Andrews, Mr. Thomas Jr</td>\n",
       "      <td>male</td>\n",
       "      <td>39.0</td>\n",
       "      <td>0</td>\n",
       "      <td>0</td>\n",
       "      <td>112050</td>\n",
       "      <td>0.00</td>\n",
       "      <td>A36</td>\n",
       "      <td>S</td>\n",
       "    </tr>\n",
       "    <tr>\n",
       "      <th>815</th>\n",
       "      <td>816</td>\n",
       "      <td>0</td>\n",
       "      <td>1</td>\n",
       "      <td>Fry, Mr. Richard</td>\n",
       "      <td>male</td>\n",
       "      <td>NaN</td>\n",
       "      <td>0</td>\n",
       "      <td>0</td>\n",
       "      <td>112058</td>\n",
       "      <td>0.00</td>\n",
       "      <td>B102</td>\n",
       "      <td>S</td>\n",
       "    </tr>\n",
       "    <tr>\n",
       "      <th>872</th>\n",
       "      <td>873</td>\n",
       "      <td>0</td>\n",
       "      <td>1</td>\n",
       "      <td>Carlsson, Mr. Frans Olof</td>\n",
       "      <td>male</td>\n",
       "      <td>33.0</td>\n",
       "      <td>0</td>\n",
       "      <td>0</td>\n",
       "      <td>695</td>\n",
       "      <td>5.00</td>\n",
       "      <td>B51 B53 B55</td>\n",
       "      <td>S</td>\n",
       "    </tr>\n",
       "  </tbody>\n",
       "</table>\n",
       "</div>"
      ],
      "text/plain": [
       "     PassengerId  Survived  Pclass  \\\n",
       "75            76         0       3   \n",
       "263          264         0       1   \n",
       "429          430         1       3   \n",
       "699          700         0       3   \n",
       "715          716         0       3   \n",
       "776          777         0       3   \n",
       "806          807         0       1   \n",
       "815          816         0       1   \n",
       "872          873         0       1   \n",
       "\n",
       "                                           Name   Sex   Age  SibSp  Parch  \\\n",
       "75                      Moen, Mr. Sigurd Hansen  male  25.0      0      0   \n",
       "263                       Harrison, Mr. William  male  40.0      0      0   \n",
       "429          Pickard, Mr. Berk (Berk Trembisky)  male  32.0      0      0   \n",
       "699    Humblen, Mr. Adolf Mathias Nicolai Olsen  male  42.0      0      0   \n",
       "715  Soholt, Mr. Peter Andreas Lauritz Andersen  male  19.0      0      0   \n",
       "776                            Tobin, Mr. Roger  male   NaN      0      0   \n",
       "806                      Andrews, Mr. Thomas Jr  male  39.0      0      0   \n",
       "815                            Fry, Mr. Richard  male   NaN      0      0   \n",
       "872                    Carlsson, Mr. Frans Olof  male  33.0      0      0   \n",
       "\n",
       "                Ticket  Fare        Cabin Embarked  \n",
       "75              348123  7.65        F G73        S  \n",
       "263             112059  0.00          B94        S  \n",
       "429  SOTON/O.Q. 392078  8.05          E10        S  \n",
       "699             348121  7.65        F G63        S  \n",
       "715             348124  7.65        F G73        S  \n",
       "776             383121  7.75          F38        Q  \n",
       "806             112050  0.00          A36        S  \n",
       "815             112058  0.00         B102        S  \n",
       "872                695  5.00  B51 B53 B55        S  "
      ]
     },
     "execution_count": 11,
     "metadata": {},
     "output_type": "execute_result"
    }
   ],
   "source": [
    "Cabin = train[train['Fare'] <= 10]\n",
    "Cabin[Cabin['Cabin'].notnull()]"
   ]
  },
  {
   "cell_type": "markdown",
   "metadata": {},
   "source": [
    "看来并不是啊！！！再看看呢~~"
   ]
  },
  {
   "cell_type": "code",
   "execution_count": 12,
   "metadata": {
    "scrolled": false
   },
   "outputs": [
    {
     "data": {
      "text/plain": [
       "female    38\n",
       "male      29\n",
       "Name: Sex, dtype: int64"
      ]
     },
     "execution_count": 12,
     "metadata": {},
     "output_type": "execute_result"
    }
   ],
   "source": [
    "Cabin[Cabin['Survived'] == 1]['Sex'].value_counts()"
   ]
  },
  {
   "cell_type": "markdown",
   "metadata": {},
   "source": [
    "得救的这部分人大多是女性！好了言归正传，我们来详细分析一下！！"
   ]
  },
  {
   "cell_type": "code",
   "execution_count": 13,
   "metadata": {
    "scrolled": false
   },
   "outputs": [
    {
     "data": {
      "text/plain": [
       "Text(0.5,1,'各登船口岸上船人数 - 图5')"
      ]
     },
     "execution_count": 13,
     "metadata": {},
     "output_type": "execute_result"
    },
    {
     "data": {
      "image/png": "[encoded data removed]",
      "text/plain": [
       "<Figure size 1152x576 with 5 Axes>"
      ]
     },
     "metadata": {},
     "output_type": "display_data"
    }
   ],
   "source": [
    "from matplotlib.font_manager import FontProperties\n",
    "\n",
    "font = FontProperties(family='sans-serif', \n",
    "                      fname='/Users/johnnie/Library/Fonts/Microsoft YaHei.ttf', \n",
    "                      style='italic', weight='bold', size='large')\n",
    "\n",
    "fig = plt.figure(figsize=(16, 8), facecolor='#D5D8DC')\n",
    "\n",
    "# 获救情况\n",
    "plt.subplot2grid((2, 3), (0, 0))\n",
    "survived = train['Survived'].value_counts()\n",
    "plt.bar(survived.index, survived.values,\n",
    "        width=0.3, color='blue',\n",
    "        align='center')\n",
    "plt.xticks(np.arange(2))\n",
    "plt.grid(linestyle='dashed', alpha=0.2)\n",
    "plt.ylabel('人数', fontproperties=font)\n",
    "plt.title('获救情况（1为获救）- 图1', fontproperties=font)\n",
    "\n",
    "# 乘客等级分布\n",
    "plt.subplot2grid((2, 3), (0, 1))\n",
    "pclass = train[train['Pclass'].notnull()]['Pclass'].value_counts()\n",
    "plt.bar(pclass.index, pclass.values,\n",
    "        width=0.4, color='blue',\n",
    "        align='center')\n",
    "plt.xticks(np.arange(1, 4))\n",
    "plt.grid(linestyle='dashed', alpha=0.2)\n",
    "plt.ylabel('人数', fontproperties=font)\n",
    "plt.title('按乘客等级统计获救情况 - 图2', fontproperties=font)\n",
    "\n",
    "# 按乘客年龄统计获救情况 - 注意不要把简单事情复杂化\n",
    "plt.subplot2grid((2, 3), (0, 2))\n",
    "survived_by_age = train[train['Age'].notnull()]\n",
    "plt.scatter(survived_by_age['Survived'], survived_by_age['Age'], color='blue', alpha=0.1)\n",
    "plt.xticks(np.arange(0, 2))\n",
    "plt.grid(linestyle='dashed', alpha=0.2)\n",
    "plt.ylabel('年龄', fontproperties=font)\n",
    "plt.title('按乘客年龄统计获救情况（1为获救）- 图3', fontproperties=font)\n",
    "\n",
    "# 各等级的乘客年龄分布\n",
    "plt.subplot2grid((2, 3), (1, 0), colspan=2)\n",
    "pclass1_by_age = survived_by_age[survived_by_age.Pclass == 1]\n",
    "pclass2_by_age = survived_by_age[survived_by_age.Pclass == 2]\n",
    "pclass3_by_age = survived_by_age[survived_by_age.Pclass == 3]\n",
    "pclass1_by_age.Age.plot(kind='kde', linewidth=1.2)\n",
    "pclass2_by_age.Age.plot(kind='kde', linewidth=1.2)\n",
    "pclass3_by_age.Age.plot(kind='kde', linewidth=1.2)\n",
    "plt.xlabel('年龄', fontproperties=font)\n",
    "plt.ylabel('密度', fontproperties=font)\n",
    "plt.grid(linestyle='dashed', alpha=0.2)\n",
    "plt.legend(['头等舱', '二等舱', '三等舱'], prop=font)\n",
    "plt.title('各等级的乘客年龄分布 - 图4', fontproperties=font)\n",
    "\n",
    "# 各登船口岸上船人数\n",
    "plt.subplot2grid((2, 3), (1, 2))\n",
    "embarked = train[train['Embarked'].notnull()]['Embarked'].value_counts()\n",
    "plt.bar(embarked.index, embarked.values,\n",
    "        width=0.4, color='blue',\n",
    "        align='center')\n",
    "plt.grid(linestyle='dashed', alpha=0.2)\n",
    "plt.ylabel('人数', fontproperties=font)\n",
    "plt.title('各登船口岸上船人数 - 图5', fontproperties=font)"
   ]
  },
  {
   "cell_type": "markdown",
   "metadata": {
    "scrolled": false
   },
   "source": [
    "* 图2验证了我们看到的数据分布情况，2/3等乘客数明显多于1等乘客数；\n",
    "* 图3中的获救和未获救乘客的年龄分布都比较均匀，并没有明显的特点，比如说获救的年龄较小的多！不过，注意到没，获救乘客最上面有一个80岁的老人，我们可以看下这位乘客的情况！\n",
    "* 图4中不同舱位的乘客年龄分布也比较有意思，头等舱的乘客平均年龄接近40岁，而2/3等舱的年龄就相对较小，大概20-30岁之间，这也比较符合不同年龄层次的消费能力，哈哈！！"
   ]
  },
  {
   "cell_type": "code",
   "execution_count": 14,
   "metadata": {},
   "outputs": [
    {
     "data": {
      "text/html": [
       "<div>\n",
       "<style scoped>\n",
       "    .dataframe tbody tr th:only-of-type {\n",
       "        vertical-align: middle;\n",
       "    }\n",
       "\n",
       "    .dataframe tbody tr th {\n",
       "        vertical-align: top;\n",
       "    }\n",
       "\n",
       "    .dataframe thead th {\n",
       "        text-align: right;\n",
       "    }\n",
       "</style>\n",
       "<table border=\"1\" class=\"dataframe\">\n",
       "  <thead>\n",
       "    <tr style=\"text-align: right;\">\n",
       "      <th></th>\n",
       "      <th>PassengerId</th>\n",
       "      <th>Survived</th>\n",
       "      <th>Pclass</th>\n",
       "      <th>Name</th>\n",
       "      <th>Sex</th>\n",
       "      <th>Age</th>\n",
       "      <th>SibSp</th>\n",
       "      <th>Parch</th>\n",
       "      <th>Ticket</th>\n",
       "      <th>Fare</th>\n",
       "      <th>Cabin</th>\n",
       "      <th>Embarked</th>\n",
       "    </tr>\n",
       "  </thead>\n",
       "  <tbody>\n",
       "    <tr>\n",
       "      <th>630</th>\n",
       "      <td>631</td>\n",
       "      <td>1</td>\n",
       "      <td>1</td>\n",
       "      <td>Barkworth, Mr. Algernon Henry Wilson</td>\n",
       "      <td>male</td>\n",
       "      <td>80.0</td>\n",
       "      <td>0</td>\n",
       "      <td>0</td>\n",
       "      <td>27042</td>\n",
       "      <td>30.0</td>\n",
       "      <td>A23</td>\n",
       "      <td>S</td>\n",
       "    </tr>\n",
       "  </tbody>\n",
       "</table>\n",
       "</div>"
      ],
      "text/plain": [
       "     PassengerId  Survived  Pclass                                  Name  \\\n",
       "630          631         1       1  Barkworth, Mr. Algernon Henry Wilson   \n",
       "\n",
       "      Sex   Age  SibSp  Parch Ticket  Fare Cabin Embarked  \n",
       "630  male  80.0      0      0  27042  30.0   A23        S  "
      ]
     },
     "execution_count": 14,
     "metadata": {},
     "output_type": "execute_result"
    }
   ],
   "source": [
    "survived_by_age[survived_by_age.Age > 75] # 原来是位老爷爷！\n",
    "# 关于他的信息：\n",
    "# https://www.encyclopedia-titanica.org/titanic-survivor/algernon-barkworth.html\n",
    "# https://www.wikitree.com/wiki/Barkworth-2"
   ]
  },
  {
   "cell_type": "markdown",
   "metadata": {},
   "source": [
    "这个时候我们可能会想到：\n",
    "\n",
    "* 不同等级/登船港口的乘客可能会影响后面的是否生还！\n",
    "* 不同年龄也可能是决策因素\n",
    "* 另外不知道登船口岸是否有关\n",
    "\n",
    "我们一一来分析下~~"
   ]
  },
  {
   "cell_type": "code",
   "execution_count": 15,
   "metadata": {},
   "outputs": [
    {
     "data": {
      "text/plain": [
       "<matplotlib.legend.Legend at 0x108887e48>"
      ]
     },
     "execution_count": 15,
     "metadata": {},
     "output_type": "execute_result"
    },
    {
     "data": {
      "image/png": "[encoded data removed]",
      "text/plain": [
       "<Figure size 1152x576 with 1 Axes>"
      ]
     },
     "metadata": {},
     "output_type": "display_data"
    }
   ],
   "source": [
    "# 乘客等级与是否获救分析\n",
    "\n",
    "survived_by_pclass = train[train.Pclass.notnull()]\n",
    "survived_by_pclass_0 = pd.DataFrame(survived_by_pclass[survived_by_pclass.Survived == 0].Pclass.value_counts().values,\n",
    "                                    index=survived_by_pclass[survived_by_pclass.Survived == 0].Pclass.value_counts().index,\n",
    "                                    columns=['未获救'])\n",
    "survived_by_pclass_1 = pd.DataFrame(survived_by_pclass[survived_by_pclass.Survived == 1].Pclass.value_counts().values,\n",
    "                                    index=survived_by_pclass[survived_by_pclass.Survived == 1].Pclass.value_counts().index,\n",
    "                                    columns=['获救'])\n",
    "survived_by_pclass_count = survived_by_pclass_0.merge(survived_by_pclass_1, left_index=True, right_index=True)\n",
    "survived_by_pclass_count.sort_index(inplace=True, ascending=True)\n",
    "survived_by_pclass_count.plot(kind='bar', stacked=True, figsize=(16, 8))\n",
    "plt.grid(linestyle='dashed', alpha=0.2)\n",
    "plt.xlabel('等级', fontproperties=font)\n",
    "plt.ylabel('人数', fontproperties=font)\n",
    "plt.legend(['未获救', '获救'], loc='best', prop=font)"
   ]
  },
  {
   "cell_type": "code",
   "execution_count": 16,
   "metadata": {},
   "outputs": [
    {
     "data": {
      "text/html": [
       "<div>\n",
       "<style scoped>\n",
       "    .dataframe tbody tr th:only-of-type {\n",
       "        vertical-align: middle;\n",
       "    }\n",
       "\n",
       "    .dataframe tbody tr th {\n",
       "        vertical-align: top;\n",
       "    }\n",
       "\n",
       "    .dataframe thead th {\n",
       "        text-align: right;\n",
       "    }\n",
       "</style>\n",
       "<table border=\"1\" class=\"dataframe\">\n",
       "  <thead>\n",
       "    <tr style=\"text-align: right;\">\n",
       "      <th></th>\n",
       "      <th>未获救</th>\n",
       "      <th>获救</th>\n",
       "      <th>获救率</th>\n",
       "    </tr>\n",
       "  </thead>\n",
       "  <tbody>\n",
       "    <tr>\n",
       "      <th>1</th>\n",
       "      <td>80</td>\n",
       "      <td>136</td>\n",
       "      <td>0.629630</td>\n",
       "    </tr>\n",
       "    <tr>\n",
       "      <th>2</th>\n",
       "      <td>97</td>\n",
       "      <td>87</td>\n",
       "      <td>0.472826</td>\n",
       "    </tr>\n",
       "    <tr>\n",
       "      <th>3</th>\n",
       "      <td>372</td>\n",
       "      <td>119</td>\n",
       "      <td>0.242363</td>\n",
       "    </tr>\n",
       "  </tbody>\n",
       "</table>\n",
       "</div>"
      ],
      "text/plain": [
       "   未获救   获救       获救率\n",
       "1   80  136  0.629630\n",
       "2   97   87  0.472826\n",
       "3  372  119  0.242363"
      ]
     },
     "execution_count": 16,
     "metadata": {},
     "output_type": "execute_result"
    }
   ],
   "source": [
    "survived_by_pclass_count['获救率'] = survived_by_pclass_count['获救'] / (survived_by_pclass_count['获救'] + survived_by_pclass_count['未获救'])\n",
    "survived_by_pclass_count"
   ]
  },
  {
   "cell_type": "markdown",
   "metadata": {},
   "source": [
    "无论从图表中，还是确证的数据来看，都是等级越高，获救率也就越高，果然是那啥的~~"
   ]
  },
  {
   "cell_type": "code",
   "execution_count": 17,
   "metadata": {},
   "outputs": [
    {
     "data": {
      "text/plain": [
       "<matplotlib.legend.Legend at 0x109033e80>"
      ]
     },
     "execution_count": 17,
     "metadata": {},
     "output_type": "execute_result"
    },
    {
     "data": {
      "image/png": "[encoded data removed]",
      "text/plain": [
       "<Figure size 1152x576 with 1 Axes>"
      ]
     },
     "metadata": {},
     "output_type": "display_data"
    }
   ],
   "source": [
    "# 登录港口与是否获救分析\n",
    "\n",
    "survived_by_embarked = train[train.Embarked.notnull()]\n",
    "survived_by_embarked_0 = pd.DataFrame(survived_by_embarked[survived_by_embarked.Survived == 0].Embarked.value_counts().values,\n",
    "                                    index=survived_by_embarked[survived_by_embarked.Survived == 0].Embarked.value_counts().index,\n",
    "                                    columns=['未获救'])\n",
    "survived_by_embarked_1 = pd.DataFrame(survived_by_embarked[survived_by_embarked.Survived == 1].Embarked.value_counts().values,\n",
    "                                    index=survived_by_embarked[survived_by_embarked.Survived == 1].Embarked.value_counts().index,\n",
    "                                    columns=['获救'])\n",
    "survived_by_embarked_count = survived_by_embarked_0.merge(survived_by_embarked_1, left_index=True, right_index=True)\n",
    "survived_by_embarked_count.plot(kind='bar', stacked=True, figsize=(16, 8))\n",
    "plt.grid(linestyle='dashed', alpha=0.2)\n",
    "plt.xlabel('登船港口', fontproperties=font)\n",
    "plt.ylabel('人数', fontproperties=font)\n",
    "plt.legend(['未获救', '获救'], loc='best', prop=font)"
   ]
  },
  {
   "cell_type": "code",
   "execution_count": 18,
   "metadata": {},
   "outputs": [
    {
     "data": {
      "text/html": [
       "<div>\n",
       "<style scoped>\n",
       "    .dataframe tbody tr th:only-of-type {\n",
       "        vertical-align: middle;\n",
       "    }\n",
       "\n",
       "    .dataframe tbody tr th {\n",
       "        vertical-align: top;\n",
       "    }\n",
       "\n",
       "    .dataframe thead th {\n",
       "        text-align: right;\n",
       "    }\n",
       "</style>\n",
       "<table border=\"1\" class=\"dataframe\">\n",
       "  <thead>\n",
       "    <tr style=\"text-align: right;\">\n",
       "      <th></th>\n",
       "      <th>未获救</th>\n",
       "      <th>获救</th>\n",
       "      <th>获救率</th>\n",
       "    </tr>\n",
       "  </thead>\n",
       "  <tbody>\n",
       "    <tr>\n",
       "      <th>S</th>\n",
       "      <td>427</td>\n",
       "      <td>217</td>\n",
       "      <td>0.336957</td>\n",
       "    </tr>\n",
       "    <tr>\n",
       "      <th>C</th>\n",
       "      <td>75</td>\n",
       "      <td>93</td>\n",
       "      <td>0.553571</td>\n",
       "    </tr>\n",
       "    <tr>\n",
       "      <th>Q</th>\n",
       "      <td>47</td>\n",
       "      <td>30</td>\n",
       "      <td>0.389610</td>\n",
       "    </tr>\n",
       "  </tbody>\n",
       "</table>\n",
       "</div>"
      ],
      "text/plain": [
       "   未获救   获救       获救率\n",
       "S  427  217  0.336957\n",
       "C   75   93  0.553571\n",
       "Q   47   30  0.389610"
      ]
     },
     "execution_count": 18,
     "metadata": {},
     "output_type": "execute_result"
    }
   ],
   "source": [
    "survived_by_embarked_count['获救率'] = survived_by_embarked_count['获救'] / (survived_by_embarked_count['获救'] + survived_by_embarked_count['未获救'])\n",
    "survived_by_embarked_count"
   ]
  },
  {
   "cell_type": "markdown",
   "metadata": {},
   "source": [
    "C港口可能对应一等乘客身份，Q为二等乘客，S为三等乘客，也是C > Q > S。以上我们得到Pclass和Embarked，均为有效特征。"
   ]
  },
  {
   "cell_type": "code",
   "execution_count": 19,
   "metadata": {},
   "outputs": [
    {
     "data": {
      "text/plain": [
       "<matplotlib.legend.Legend at 0x10f5e0550>"
      ]
     },
     "execution_count": 19,
     "metadata": {},
     "output_type": "execute_result"
    },
    {
     "data": {
      "image/png": "[encoded data removed]",
      "text/plain": [
       "<Figure size 1152x576 with 1 Axes>"
      ]
     },
     "metadata": {},
     "output_type": "display_data"
    }
   ],
   "source": [
    "# 再看下性别特征是否有关\n",
    "\n",
    "survived_by_sex = train[train.Sex.notnull()]\n",
    "survived_by_sex_0 = pd.DataFrame(survived_by_sex[survived_by_sex.Survived == 0].Sex.value_counts().values,\n",
    "                                    index=survived_by_sex[survived_by_sex.Survived == 0].Sex.value_counts().index,\n",
    "                                    columns=['未获救'])\n",
    "survived_by_sex_1 = pd.DataFrame(survived_by_sex[survived_by_sex.Survived == 1].Sex.value_counts().values,\n",
    "                                    index=survived_by_sex[survived_by_sex.Survived == 1].Sex.value_counts().index,\n",
    "                                    columns=['获救'])\n",
    "survived_by_sex_count = pd.concat([survived_by_sex_0.T, survived_by_sex_1.T])\n",
    "survived_by_sex_count.plot(kind='bar', stacked=True, figsize=(16, 8))\n",
    "plt.grid(linestyle='dashed', alpha=0.2)\n",
    "plt.xticks(np.arange(0, 2), ('未获救', '获救'), fontproperties=font)\n",
    "plt.xlabel('性别', fontproperties=font)\n",
    "plt.ylabel('人数', fontproperties=font)\n",
    "plt.legend(['女性', '男性'], loc='best', prop=font)"
   ]
  },
  {
   "cell_type": "code",
   "execution_count": 20,
   "metadata": {},
   "outputs": [
    {
     "data": {
      "text/html": [
       "<div>\n",
       "<style scoped>\n",
       "    .dataframe tbody tr th:only-of-type {\n",
       "        vertical-align: middle;\n",
       "    }\n",
       "\n",
       "    .dataframe tbody tr th {\n",
       "        vertical-align: top;\n",
       "    }\n",
       "\n",
       "    .dataframe thead th {\n",
       "        text-align: right;\n",
       "    }\n",
       "</style>\n",
       "<table border=\"1\" class=\"dataframe\">\n",
       "  <thead>\n",
       "    <tr style=\"text-align: right;\">\n",
       "      <th></th>\n",
       "      <th>female</th>\n",
       "      <th>male</th>\n",
       "    </tr>\n",
       "  </thead>\n",
       "  <tbody>\n",
       "    <tr>\n",
       "      <th>获救</th>\n",
       "      <td>0.742038</td>\n",
       "      <td>0.188908</td>\n",
       "    </tr>\n",
       "  </tbody>\n",
       "</table>\n",
       "</div>"
      ],
      "text/plain": [
       "      female      male\n",
       "获救  0.742038  0.188908"
      ]
     },
     "execution_count": 20,
     "metadata": {},
     "output_type": "execute_result"
    }
   ],
   "source": [
    "survived_by_sex_count.loc[['获救']] / survived_by_sex_count.sum()"
   ]
  },
  {
   "cell_type": "markdown",
   "metadata": {},
   "source": [
    "从图表和数据都证实了女生的生还率要高于男性，毕竟女性是孕育生命的摇篮！！"
   ]
  },
  {
   "cell_type": "code",
   "execution_count": 21,
   "metadata": {
    "scrolled": false
   },
   "outputs": [
    {
     "data": {
      "text/plain": [
       "[<matplotlib.axis.XTick at 0x10f8f2fd0>,\n",
       " <matplotlib.axis.XTick at 0x10f8f2908>]"
      ]
     },
     "execution_count": 21,
     "metadata": {},
     "output_type": "execute_result"
    },
    {
     "data": {
      "image/png": "[encoded data removed]",
      "text/plain": [
       "<Figure size 1152x1152 with 6 Axes>"
      ]
     },
     "metadata": {},
     "output_type": "display_data"
    }
   ],
   "source": [
    "fig, axes = plt.subplots(2, 3, figsize=(16, 16), facecolor='#D5D8DC')\n",
    "\n",
    "survived_by_sex_and_pclass = pd.DataFrame(train.groupby(['Survived', 'Sex', 'Pclass']).PassengerId.count())\n",
    "survived_by_sex_and_pclass.reset_index(inplace=True)\n",
    "survived_by_female_and_pclass1 = survived_by_sex_and_pclass[(survived_by_sex_and_pclass.Sex == 'female') & (survived_by_sex_and_pclass.Pclass == 1)]\n",
    "survived_by_female_and_pclass2 = survived_by_sex_and_pclass[(survived_by_sex_and_pclass.Sex == 'female') & (survived_by_sex_and_pclass.Pclass == 2)]\n",
    "survived_by_female_and_pclass3 = survived_by_sex_and_pclass[(survived_by_sex_and_pclass.Sex == 'female') & (survived_by_sex_and_pclass.Pclass == 3)]\n",
    "survived_by_male_and_pclass1 = survived_by_sex_and_pclass[(survived_by_sex_and_pclass.Sex == 'male') & (survived_by_sex_and_pclass.Pclass == 1)]\n",
    "survived_by_male_and_pclass2 = survived_by_sex_and_pclass[(survived_by_sex_and_pclass.Sex == 'male') & (survived_by_sex_and_pclass.Pclass == 2)]\n",
    "survived_by_male_and_pclass3 = survived_by_sex_and_pclass[(survived_by_sex_and_pclass.Sex == 'male') & (survived_by_sex_and_pclass.Pclass == 3)]\n",
    "\n",
    "axes[0, 0].bar(survived_by_female_and_pclass1.Survived, survived_by_female_and_pclass1.PassengerId, width=0.3, align='center', color='#F5B7B1')\n",
    "axes[0, 0].set_xticks([0, 1])\n",
    "axes[0, 0].legend(['女性/头等舱'], prop=font, loc='best')\n",
    "axes[0, 1].bar(survived_by_female_and_pclass2.Survived, survived_by_female_and_pclass2.PassengerId, width=0.3, align='center', color='#FADBD8')\n",
    "axes[0, 1].set_xticks([0, 1])\n",
    "axes[0, 1].legend(['女性/二等舱'], prop=font, loc='best')\n",
    "axes[0, 2].bar(survived_by_female_and_pclass3.Survived, survived_by_female_and_pclass3.PassengerId, width=0.3, align='center', color='#FDEDEC')\n",
    "axes[0, 2].set_xticks([0, 1])\n",
    "axes[0, 2].legend(['女性/三等舱'], prop=font, loc='best')\n",
    "axes[1, 0].bar(survived_by_male_and_pclass1.Survived, survived_by_male_and_pclass1.PassengerId, width=0.3, align='center', color='#AED6F1')\n",
    "axes[1, 0].set_xticks([0, 1])\n",
    "axes[1, 0].legend(['男性/头等舱'], prop=font, loc='best')\n",
    "axes[1, 1].bar(survived_by_male_and_pclass2.Survived, survived_by_male_and_pclass2.PassengerId, width=0.3, align='center', color='#D6EAF8')\n",
    "axes[1, 1].set_xticks([0, 1])\n",
    "axes[1, 1].legend(['男性/二等舱'], prop=font, loc='best')\n",
    "axes[1, 2].bar(survived_by_male_and_pclass3.Survived, survived_by_male_and_pclass3.PassengerId, width=0.3, align='center', color='#EBF5FB')\n",
    "axes[1, 2].legend(['男性/三等舱'], prop=font, loc='best')\n",
    "axes[1, 2].set_xticks([0, 1])"
   ]
  },
  {
   "cell_type": "markdown",
   "metadata": {},
   "source": [
    "我们再来看下SibSp字段和Parch字段，或许会有关！"
   ]
  },
  {
   "cell_type": "code",
   "execution_count": 22,
   "metadata": {},
   "outputs": [
    {
     "data": {
      "text/html": [
       "<div>\n",
       "<style scoped>\n",
       "    .dataframe tbody tr th:only-of-type {\n",
       "        vertical-align: middle;\n",
       "    }\n",
       "\n",
       "    .dataframe tbody tr th {\n",
       "        vertical-align: top;\n",
       "    }\n",
       "\n",
       "    .dataframe thead th {\n",
       "        text-align: right;\n",
       "    }\n",
       "</style>\n",
       "<table border=\"1\" class=\"dataframe\">\n",
       "  <thead>\n",
       "    <tr style=\"text-align: right;\">\n",
       "      <th></th>\n",
       "      <th>SibSp_0</th>\n",
       "      <th>Survived_0</th>\n",
       "      <th>PassengerId_0</th>\n",
       "      <th>SibSp_1</th>\n",
       "      <th>Survived_1</th>\n",
       "      <th>PassengerId_1</th>\n",
       "      <th>survivedRate</th>\n",
       "    </tr>\n",
       "  </thead>\n",
       "  <tbody>\n",
       "    <tr>\n",
       "      <th>0</th>\n",
       "      <td>0</td>\n",
       "      <td>0</td>\n",
       "      <td>398</td>\n",
       "      <td>0</td>\n",
       "      <td>1</td>\n",
       "      <td>210</td>\n",
       "      <td>0.345395</td>\n",
       "    </tr>\n",
       "    <tr>\n",
       "      <th>1</th>\n",
       "      <td>1</td>\n",
       "      <td>0</td>\n",
       "      <td>97</td>\n",
       "      <td>1</td>\n",
       "      <td>1</td>\n",
       "      <td>112</td>\n",
       "      <td>0.535885</td>\n",
       "    </tr>\n",
       "    <tr>\n",
       "      <th>2</th>\n",
       "      <td>2</td>\n",
       "      <td>0</td>\n",
       "      <td>15</td>\n",
       "      <td>2</td>\n",
       "      <td>1</td>\n",
       "      <td>13</td>\n",
       "      <td>0.464286</td>\n",
       "    </tr>\n",
       "    <tr>\n",
       "      <th>3</th>\n",
       "      <td>3</td>\n",
       "      <td>0</td>\n",
       "      <td>12</td>\n",
       "      <td>3</td>\n",
       "      <td>1</td>\n",
       "      <td>4</td>\n",
       "      <td>0.250000</td>\n",
       "    </tr>\n",
       "    <tr>\n",
       "      <th>4</th>\n",
       "      <td>4</td>\n",
       "      <td>0</td>\n",
       "      <td>15</td>\n",
       "      <td>4</td>\n",
       "      <td>1</td>\n",
       "      <td>3</td>\n",
       "      <td>0.166667</td>\n",
       "    </tr>\n",
       "    <tr>\n",
       "      <th>5</th>\n",
       "      <td>5</td>\n",
       "      <td>0</td>\n",
       "      <td>5</td>\n",
       "      <td>5</td>\n",
       "      <td>1</td>\n",
       "      <td>0</td>\n",
       "      <td>0.000000</td>\n",
       "    </tr>\n",
       "    <tr>\n",
       "      <th>6</th>\n",
       "      <td>8</td>\n",
       "      <td>0</td>\n",
       "      <td>7</td>\n",
       "      <td>8</td>\n",
       "      <td>1</td>\n",
       "      <td>0</td>\n",
       "      <td>0.000000</td>\n",
       "    </tr>\n",
       "  </tbody>\n",
       "</table>\n",
       "</div>"
      ],
      "text/plain": [
       "   SibSp_0  Survived_0  PassengerId_0  SibSp_1  Survived_1  PassengerId_1  \\\n",
       "0        0           0            398        0           1            210   \n",
       "1        1           0             97        1           1            112   \n",
       "2        2           0             15        2           1             13   \n",
       "3        3           0             12        3           1              4   \n",
       "4        4           0             15        4           1              3   \n",
       "5        5           0              5        5           1              0   \n",
       "6        8           0              7        8           1              0   \n",
       "\n",
       "   survivedRate  \n",
       "0      0.345395  \n",
       "1      0.535885  \n",
       "2      0.464286  \n",
       "3      0.250000  \n",
       "4      0.166667  \n",
       "5      0.000000  \n",
       "6      0.000000  "
      ]
     },
     "execution_count": 22,
     "metadata": {},
     "output_type": "execute_result"
    }
   ],
   "source": [
    "# 验证SibSp字段是否与Survived存在关联\n",
    "\n",
    "survived_by_sibsp = train[train.SibSp.notnull()]\n",
    "survived_by_sibsp_count = pd.DataFrame(survived_by_sibsp.groupby(['SibSp', 'Survived'])['PassengerId'].count())\n",
    "survived_by_sibsp_count.reset_index(inplace=True)\n",
    "survived_by_sibsp_count_0 = survived_by_sibsp_count[0:10:2]\n",
    "survived_by_sibsp_count_0.reset_index(inplace=True, drop=True)\n",
    "survived_by_sibsp_count_1 = survived_by_sibsp_count[1:10:2]\n",
    "survived_by_sibsp_count_1.reset_index(inplace=True, drop=True)\n",
    "survived_by_sibsp_count_0_partial = survived_by_sibsp_count[10:]\n",
    "survived_by_sibsp_count_0_partial.reset_index(inplace=True, drop=True)\n",
    "survived_by_sibsp_count_1_partial = pd.DataFrame({'SibSp': [5, 8],\n",
    "                                                 'Survived': [1, 1],\n",
    "                                                 'PassengerId': [0, 0]}, columns=['SibSp', 'Survived', 'PassengerId'])\n",
    "survived_by_sibsp_count_1_partial.reset_index(inplace=True, drop=True)\n",
    "survived_by_sibsp_count_01 = pd.concat([survived_by_sibsp_count_0, survived_by_sibsp_count_1], axis=1)\n",
    "survived_by_sibsp_count_01_partial = pd.concat([survived_by_sibsp_count_0_partial, survived_by_sibsp_count_1_partial], axis=1)\n",
    "survived_by_sibsp_count_rate = pd.concat([survived_by_sibsp_count_01, survived_by_sibsp_count_01_partial], ignore_index=True)\n",
    "survived_by_sibsp_count_rate.columns = ['SibSp_0', 'Survived_0', 'PassengerId_0', 'SibSp_1', 'Survived_1', 'PassengerId_1']\n",
    "survived_by_sibsp_count_rate['survivedRate'] = survived_by_sibsp_count_rate.PassengerId_1 / (survived_by_sibsp_count_rate.PassengerId_1 + survived_by_sibsp_count_rate.PassengerId_0)\n",
    "survived_by_sibsp_count_rate"
   ]
  },
  {
   "cell_type": "markdown",
   "metadata": {},
   "source": [
    "从以上数据我们可以看到，没有兄弟姊妹的，也就是说独生子的，生还率有点低，可能当时也没有选择，也可能是无牵无挂，更可能迫不得已，我们等下可以看下这部分数据的是否父母健在，是否有孩子！\n",
    "\n",
    "而对于有兄弟姊妹的，随着人数增多，生还率也在下降，这就说明某种程度上存在选择关系，有多个的，在当下可能会选择谁“活下来”！如果兄弟姊妹越多，他自己的生还率就变低了！"
   ]
  },
  {
   "cell_type": "code",
   "execution_count": 23,
   "metadata": {},
   "outputs": [
    {
     "data": {
      "text/plain": [
       "0    537\n",
       "1     38\n",
       "2     29\n",
       "5      2\n",
       "4      1\n",
       "3      1\n",
       "Name: Parch, dtype: int64"
      ]
     },
     "execution_count": 23,
     "metadata": {},
     "output_type": "execute_result"
    }
   ],
   "source": [
    "survived_by_sibsp[survived_by_sibsp.SibSp == 0]['Parch'].value_counts()"
   ]
  },
  {
   "cell_type": "markdown",
   "metadata": {},
   "source": [
    "可以看到是独生子的乘客，大部分也是无父母和小孩，还是还是挺悲惨的！"
   ]
  },
  {
   "cell_type": "code",
   "execution_count": 24,
   "metadata": {},
   "outputs": [
    {
     "data": {
      "text/html": [
       "<div>\n",
       "<style scoped>\n",
       "    .dataframe tbody tr th:only-of-type {\n",
       "        vertical-align: middle;\n",
       "    }\n",
       "\n",
       "    .dataframe tbody tr th {\n",
       "        vertical-align: top;\n",
       "    }\n",
       "\n",
       "    .dataframe thead th {\n",
       "        text-align: right;\n",
       "    }\n",
       "</style>\n",
       "<table border=\"1\" class=\"dataframe\">\n",
       "  <thead>\n",
       "    <tr style=\"text-align: right;\">\n",
       "      <th></th>\n",
       "      <th>Parch_0</th>\n",
       "      <th>Survived_0</th>\n",
       "      <th>PassengerId_0</th>\n",
       "      <th>Parch_1</th>\n",
       "      <th>Survived_1</th>\n",
       "      <th>PassengerId_1</th>\n",
       "      <th>survivedRate</th>\n",
       "    </tr>\n",
       "  </thead>\n",
       "  <tbody>\n",
       "    <tr>\n",
       "      <th>0</th>\n",
       "      <td>0</td>\n",
       "      <td>0</td>\n",
       "      <td>445</td>\n",
       "      <td>0</td>\n",
       "      <td>1</td>\n",
       "      <td>233</td>\n",
       "      <td>0.369255</td>\n",
       "    </tr>\n",
       "    <tr>\n",
       "      <th>1</th>\n",
       "      <td>1</td>\n",
       "      <td>0</td>\n",
       "      <td>53</td>\n",
       "      <td>1</td>\n",
       "      <td>1</td>\n",
       "      <td>65</td>\n",
       "      <td>0.401235</td>\n",
       "    </tr>\n",
       "    <tr>\n",
       "      <th>2</th>\n",
       "      <td>2</td>\n",
       "      <td>0</td>\n",
       "      <td>40</td>\n",
       "      <td>2</td>\n",
       "      <td>1</td>\n",
       "      <td>40</td>\n",
       "      <td>0.727273</td>\n",
       "    </tr>\n",
       "    <tr>\n",
       "      <th>3</th>\n",
       "      <td>3</td>\n",
       "      <td>0</td>\n",
       "      <td>2</td>\n",
       "      <td>3</td>\n",
       "      <td>1</td>\n",
       "      <td>3</td>\n",
       "      <td>0.200000</td>\n",
       "    </tr>\n",
       "    <tr>\n",
       "      <th>4</th>\n",
       "      <td>5</td>\n",
       "      <td>0</td>\n",
       "      <td>4</td>\n",
       "      <td>5</td>\n",
       "      <td>1</td>\n",
       "      <td>1</td>\n",
       "      <td>0.062500</td>\n",
       "    </tr>\n",
       "    <tr>\n",
       "      <th>5</th>\n",
       "      <td>4</td>\n",
       "      <td>0</td>\n",
       "      <td>4</td>\n",
       "      <td>4</td>\n",
       "      <td>1</td>\n",
       "      <td>0</td>\n",
       "      <td>0.000000</td>\n",
       "    </tr>\n",
       "    <tr>\n",
       "      <th>6</th>\n",
       "      <td>6</td>\n",
       "      <td>0</td>\n",
       "      <td>1</td>\n",
       "      <td>6</td>\n",
       "      <td>1</td>\n",
       "      <td>0</td>\n",
       "      <td>0.000000</td>\n",
       "    </tr>\n",
       "  </tbody>\n",
       "</table>\n",
       "</div>"
      ],
      "text/plain": [
       "   Parch_0  Survived_0  PassengerId_0  Parch_1  Survived_1  PassengerId_1  \\\n",
       "0        0           0            445        0           1            233   \n",
       "1        1           0             53        1           1             65   \n",
       "2        2           0             40        2           1             40   \n",
       "3        3           0              2        3           1              3   \n",
       "4        5           0              4        5           1              1   \n",
       "5        4           0              4        4           1              0   \n",
       "6        6           0              1        6           1              0   \n",
       "\n",
       "   survivedRate  \n",
       "0      0.369255  \n",
       "1      0.401235  \n",
       "2      0.727273  \n",
       "3      0.200000  \n",
       "4      0.062500  \n",
       "5      0.000000  \n",
       "6      0.000000  "
      ]
     },
     "execution_count": 24,
     "metadata": {},
     "output_type": "execute_result"
    }
   ],
   "source": [
    "# 再来分析下Parch字段\n",
    "\n",
    "survived_by_parch = train[train.Parch.notnull()]\n",
    "survived_by_parch_count = pd.DataFrame(survived_by_parch.groupby(['Parch', 'Survived'])['PassengerId'].count())\n",
    "survived_by_parch_count.reset_index(inplace=True)\n",
    "survived_by_parch_count_0 = survived_by_parch_count.loc[[0, 2, 4, 6, 9]]\n",
    "survived_by_parch_count_0.reset_index(inplace=True, drop=True)\n",
    "survived_by_parch_count_1 = survived_by_parch_count.loc[[1, 3, 5, 7, 10]]\n",
    "survived_by_parch_count_1.reset_index(inplace=True, drop=True)\n",
    "survived_by_parch_count_0_partial = survived_by_parch_count.loc[[8, 11]]\n",
    "survived_by_parch_count_0_partial.reset_index(inplace=True, drop=True)\n",
    "survived_by_parch_count_01 = pd.concat([survived_by_parch_count_0, survived_by_parch_count_1], axis=1)\n",
    "survived_by_parch_count_1_partial = pd.DataFrame({'Parch': [4, 6],\n",
    "                                                 'Survived': [1, 1],\n",
    "                                                 'PassengerId': [0, 0]},\n",
    "                                                columns=['Parch', 'Survived', 'PassengerId'])\n",
    "survived_by_parch_count_01_partial = pd.concat([survived_by_parch_count_0_partial, survived_by_parch_count_1_partial], axis=1)\n",
    "survived_by_parch_count_rate = pd.concat([survived_by_parch_count_01, survived_by_parch_count_01_partial], ignore_index=True)\n",
    "survived_by_parch_count_rate.columns = ['Parch_0', 'Survived_0', 'PassengerId_0', 'Parch_1', 'Survived_1', 'PassengerId_1']\n",
    "survived_by_parch_count_rate['survivedRate'] = survived_by_parch_count_rate.PassengerId_1 / (survived_by_parch_count_rate.PassengerId_1 + survived_by_sibsp_count_rate.PassengerId_0)\n",
    "survived_by_parch_count_rate"
   ]
  },
  {
   "cell_type": "markdown",
   "metadata": {},
   "source": [
    "父母不在或没有小孩的生环率较低，与前面的SibSp字段对应；家里的人越多，生还率直线下降，与SibSp类似！"
   ]
  },
  {
   "cell_type": "markdown",
   "metadata": {},
   "source": [
    "到此我们看下，Sex字段，Pclass和Embarked字段都是强相关特征，SibSp和Parch字段是中度相关特征。"
   ]
  },
  {
   "cell_type": "markdown",
   "metadata": {},
   "source": [
    "Ticket字段，为船票信息，应该与Survived字段关系不大！我们来看下Cabin字段，这个字段缺失值太多，我们可以看下有无缺失对于Survived的影响！"
   ]
  },
  {
   "cell_type": "code",
   "execution_count": 25,
   "metadata": {},
   "outputs": [],
   "source": [
    "# train.Cabin.value_counts()"
   ]
  },
  {
   "cell_type": "markdown",
   "metadata": {},
   "source": [
    "ABCD可能是甲板编号，后面的数字可能是用于区分不同乘客的，maybe是房间号。这个类目过于分散，如果one-hot encoder后，特征会很多，每个新特征是否与Survived相关，还不一定！？我们可以先看下Cabin有无与Survived的情况..."
   ]
  },
  {
   "cell_type": "code",
   "execution_count": 26,
   "metadata": {},
   "outputs": [
    {
     "data": {
      "text/plain": [
       "<matplotlib.legend.Legend at 0x10ff2e0f0>"
      ]
     },
     "execution_count": 26,
     "metadata": {},
     "output_type": "execute_result"
    },
    {
     "data": {
      "image/png": "[encoded data removed]",
      "text/plain": [
       "<Figure size 1152x576 with 1 Axes>"
      ]
     },
     "metadata": {},
     "output_type": "display_data"
    }
   ],
   "source": [
    "survived_by_cabin_notnull = train[train.Cabin.notnull()]\n",
    "survived_by_cabin_isnull = train[train.Cabin.isnull()]\n",
    "survived_by_cabin_notnull_count = pd.DataFrame(survived_by_cabin_notnull.Survived.value_counts())\n",
    "survived_by_cabin_notnull_count.reset_index(inplace=True, drop=True)\n",
    "survived_by_cabin_isnull_count = pd.DataFrame(survived_by_cabin_isnull.Survived.value_counts())\n",
    "survived_by_cabin_isnull_count.reset_index(inplace=True, drop=True)\n",
    "\n",
    "survived_by_cabin_count = pd.concat([survived_by_cabin_notnull_count, survived_by_cabin_isnull_count], axis=1)\n",
    "survived_by_cabin_count.columns = ['有', '无']\n",
    "survived_by_cabin_count.plot(kind='bar', stacked=True, figsize=(16, 8))\n",
    "plt.grid(linestyle='dashed', alpha=0.2)\n",
    "plt.xticks(np.arange(0, 2), ('无', '有'), fontproperties=font)\n",
    "plt.xlabel('Cabin有无', fontproperties=font)\n",
    "plt.ylabel('人数', fontproperties=font)\n",
    "plt.legend(['获救', '未获救'], loc='best', prop=font)"
   ]
  },
  {
   "cell_type": "code",
   "execution_count": 27,
   "metadata": {},
   "outputs": [
    {
     "data": {
      "text/html": [
       "<div>\n",
       "<style scoped>\n",
       "    .dataframe tbody tr th:only-of-type {\n",
       "        vertical-align: middle;\n",
       "    }\n",
       "\n",
       "    .dataframe tbody tr th {\n",
       "        vertical-align: top;\n",
       "    }\n",
       "\n",
       "    .dataframe thead th {\n",
       "        text-align: right;\n",
       "    }\n",
       "</style>\n",
       "<table border=\"1\" class=\"dataframe\">\n",
       "  <thead>\n",
       "    <tr style=\"text-align: right;\">\n",
       "      <th></th>\n",
       "      <th>0</th>\n",
       "      <th>1</th>\n",
       "      <th>survivedRate</th>\n",
       "    </tr>\n",
       "  </thead>\n",
       "  <tbody>\n",
       "    <tr>\n",
       "      <th>有</th>\n",
       "      <td>136</td>\n",
       "      <td>68</td>\n",
       "      <td>0.333333</td>\n",
       "    </tr>\n",
       "    <tr>\n",
       "      <th>无</th>\n",
       "      <td>481</td>\n",
       "      <td>206</td>\n",
       "      <td>0.299854</td>\n",
       "    </tr>\n",
       "  </tbody>\n",
       "</table>\n",
       "</div>"
      ],
      "text/plain": [
       "     0    1  survivedRate\n",
       "有  136   68      0.333333\n",
       "无  481  206      0.299854"
      ]
     },
     "execution_count": 27,
     "metadata": {},
     "output_type": "execute_result"
    }
   ],
   "source": [
    "survived_by_cabin_count_rate = survived_by_cabin_count.T\n",
    "survived_by_cabin_count_rate['survivedRate'] = survived_by_cabin_count_rate[1] / (survived_by_cabin_count_rate[0] + survived_by_cabin_count_rate[1])\n",
    "survived_by_cabin_count_rate"
   ]
  },
  {
   "cell_type": "markdown",
   "metadata": {},
   "source": [
    "显然有房间号的乘客的生还率要稍高于无房间号的乘客！按照这种思路，我们先把Cabin字段分为两类，Yes和No..."
   ]
  },
  {
   "cell_type": "code",
   "execution_count": 28,
   "metadata": {
    "scrolled": false
   },
   "outputs": [],
   "source": [
    "train.loc[(train.Cabin.notnull()), 'Cabin'] = 'Yes'"
   ]
  },
  {
   "cell_type": "code",
   "execution_count": 29,
   "metadata": {},
   "outputs": [],
   "source": [
    "train.loc[(train.Cabin.isnull()), 'Cabin'] = 'No'"
   ]
  },
  {
   "cell_type": "code",
   "execution_count": 30,
   "metadata": {},
   "outputs": [
    {
     "data": {
      "text/plain": [
       "No     687\n",
       "Yes    204\n",
       "Name: Cabin, dtype: int64"
      ]
     },
     "execution_count": 30,
     "metadata": {},
     "output_type": "execute_result"
    }
   ],
   "source": [
    "train.Cabin.value_counts()"
   ]
  },
  {
   "cell_type": "code",
   "execution_count": 31,
   "metadata": {},
   "outputs": [],
   "source": [
    "# 使用交叉验证来评估模型\n",
    "\n",
    "from sklearn.model_selection import cross_val_score, train_test_split\n",
    "from sklearn.preprocessing import LabelEncoder\n",
    "\n",
    "def cross_validate_score_for_discrete_values(estimator, trainingData, test_size, random_state=0):\n",
    "    le = LabelEncoder()\n",
    "    splite_train, splite_test = train_test_split(trainingData, test_size=test_size, random_state=random_state)\n",
    "    X_splite_train = splite_train.as_matrix()[:, :-1]\n",
    "    X_splite_test = splite_test.as_matrix()[:, :-1]\n",
    "    y_splite_train = le.fit_transform(splite_train.as_matrix()[:, -1])\n",
    "    y_splite_test = le.fit_transform(splite_test.as_matrix()[:, -1])\n",
    "    estimator.fit(X_splite_train, y_splite_train)\n",
    "    predictResult = estimator.predict(X_splite_test)\n",
    "    val_score = estimator.score(X_splite_test, y_splite_test)\n",
    "    return val_score, predictResult, y_splite_test\n",
    "\n",
    "def cross_validate_score_for_continuous_values(estimator, trainingData, test_size, random_state=0):\n",
    "    splite_train, splite_test = train_test_split(trainingData, test_size=test_size, random_state=random_state)\n",
    "    X_splite_train = splite_train.as_matrix()[:, :-1]\n",
    "    X_splite_test = splite_test.as_matrix()[:, :-1]\n",
    "    y_splite_train = splite_train.as_matrix()[:, -1]\n",
    "    y_splite_test = splite_test.as_matrix()[:, -1]\n",
    "    estimator.fit(X_splite_train, y_splite_train)\n",
    "    predictResult = estimator.predict(X_splite_test)\n",
    "    val_score = estimator.score(X_splite_test, y_splite_test)\n",
    "    return val_score, predictResult, y_splite_test"
   ]
  },
  {
   "cell_type": "markdown",
   "metadata": {},
   "source": [
    "我们对Name字段做处理，Name字段中一般都会包含Mr、Mrs和Miss，这几个称为会与不同年龄区间相关！"
   ]
  },
  {
   "cell_type": "code",
   "execution_count": 32,
   "metadata": {
    "scrolled": false
   },
   "outputs": [
    {
     "name": "stderr",
     "output_type": "stream",
     "text": [
      "/Users/johnnie/anaconda3/lib/python3.6/site-packages/ipykernel_launcher.py:2: SettingWithCopyWarning: \n",
      "A value is trying to be set on a copy of a slice from a DataFrame\n",
      "\n",
      "See the caveats in the documentation: http://pandas.pydata.org/pandas-docs/stable/indexing.html#indexing-view-versus-copy\n",
      "  \n",
      "/Users/johnnie/anaconda3/lib/python3.6/site-packages/pandas/core/indexing.py:537: SettingWithCopyWarning: \n",
      "A value is trying to be set on a copy of a slice from a DataFrame.\n",
      "Try using .loc[row_indexer,col_indexer] = value instead\n",
      "\n",
      "See the caveats in the documentation: http://pandas.pydata.org/pandas-docs/stable/indexing.html#indexing-view-versus-copy\n",
      "  self.obj[item] = s\n"
     ]
    }
   ],
   "source": [
    "trainNameMrs = train[train.Name.str.contains('Mrs')]\n",
    "trainNameMrs.drop([199, 427], inplace=True)\n",
    "trainNameMiss = train[train.Name.str.contains('Miss')]\n",
    "trainNameMr = train[(train.Name.str.contains('Mr')) & (train.Name.str.contains('Mrs') == False)]\n",
    "trainNamenotMrsMrMiss = train[(train.Name.str.contains('Mr') == False) & \n",
    "                              (train.Name.str.contains('Miss') == False)]\n",
    "\n",
    "trainNameMrs.loc[:].Name = 'Mrs'\n",
    "trainNameMiss.loc[:].Name = 'Miss'\n",
    "trainNameMr.loc[:].Name = 'Mr'\n",
    "trainNamenotMrsMrMiss.loc[(trainNamenotMrsMrMiss.Sex == 'female'), 'Name'] = 'unknown'\n",
    "trainNamenotMrsMrMiss.loc[(trainNamenotMrsMrMiss.Sex == 'male'), 'Name'] = 'Mr'\n",
    "\n",
    "trainName = pd.concat([trainNameMrs, trainNameMiss, trainNameMr, trainNamenotMrsMrMiss])\n",
    "trainName.sort_values('PassengerId', inplace=True)"
   ]
  },
  {
   "cell_type": "markdown",
   "metadata": {},
   "source": [
    "注意：在这里有两条数据在筛选合并时，出现重复，找到他们，并将其纠正~"
   ]
  },
  {
   "cell_type": "code",
   "execution_count": 33,
   "metadata": {},
   "outputs": [
    {
     "data": {
      "text/html": [
       "<div>\n",
       "<style scoped>\n",
       "    .dataframe tbody tr th:only-of-type {\n",
       "        vertical-align: middle;\n",
       "    }\n",
       "\n",
       "    .dataframe tbody tr th {\n",
       "        vertical-align: top;\n",
       "    }\n",
       "\n",
       "    .dataframe thead th {\n",
       "        text-align: right;\n",
       "    }\n",
       "</style>\n",
       "<table border=\"1\" class=\"dataframe\">\n",
       "  <thead>\n",
       "    <tr style=\"text-align: right;\">\n",
       "      <th></th>\n",
       "      <th>PassengerId</th>\n",
       "      <th>Survived</th>\n",
       "      <th>Pclass</th>\n",
       "      <th>Name</th>\n",
       "      <th>Sex</th>\n",
       "      <th>Age</th>\n",
       "      <th>SibSp</th>\n",
       "      <th>Parch</th>\n",
       "      <th>Ticket</th>\n",
       "      <th>Fare</th>\n",
       "      <th>Cabin</th>\n",
       "      <th>Embarked</th>\n",
       "    </tr>\n",
       "  </thead>\n",
       "  <tbody>\n",
       "    <tr>\n",
       "      <th>199</th>\n",
       "      <td>200</td>\n",
       "      <td>0</td>\n",
       "      <td>2</td>\n",
       "      <td>Miss</td>\n",
       "      <td>female</td>\n",
       "      <td>24.0</td>\n",
       "      <td>0</td>\n",
       "      <td>0</td>\n",
       "      <td>248747</td>\n",
       "      <td>13.0</td>\n",
       "      <td>No</td>\n",
       "      <td>S</td>\n",
       "    </tr>\n",
       "    <tr>\n",
       "      <th>427</th>\n",
       "      <td>428</td>\n",
       "      <td>1</td>\n",
       "      <td>2</td>\n",
       "      <td>Miss</td>\n",
       "      <td>female</td>\n",
       "      <td>19.0</td>\n",
       "      <td>0</td>\n",
       "      <td>0</td>\n",
       "      <td>250655</td>\n",
       "      <td>26.0</td>\n",
       "      <td>No</td>\n",
       "      <td>S</td>\n",
       "    </tr>\n",
       "  </tbody>\n",
       "</table>\n",
       "</div>"
      ],
      "text/plain": [
       "     PassengerId  Survived  Pclass  Name     Sex   Age  SibSp  Parch  Ticket  \\\n",
       "199          200         0       2  Miss  female  24.0      0      0  248747   \n",
       "427          428         1       2  Miss  female  19.0      0      0  250655   \n",
       "\n",
       "     Fare Cabin Embarked  \n",
       "199  13.0    No        S  \n",
       "427  26.0    No        S  "
      ]
     },
     "execution_count": 33,
     "metadata": {},
     "output_type": "execute_result"
    }
   ],
   "source": [
    "trainName[(trainName['PassengerId'] == 200) | (trainName['PassengerId'] == 428)] "
   ]
  },
  {
   "cell_type": "markdown",
   "metadata": {},
   "source": [
    "我们注意到Name字段里还有几个数据是unknown的，虽然都是女性，但是不知道该如何称谓，是Miss，还是Mrs，现在让机器学习来告诉我们！"
   ]
  },
  {
   "cell_type": "code",
   "execution_count": 34,
   "metadata": {},
   "outputs": [
    {
     "data": {
      "text/html": [
       "<div>\n",
       "<style scoped>\n",
       "    .dataframe tbody tr th:only-of-type {\n",
       "        vertical-align: middle;\n",
       "    }\n",
       "\n",
       "    .dataframe tbody tr th {\n",
       "        vertical-align: top;\n",
       "    }\n",
       "\n",
       "    .dataframe thead th {\n",
       "        text-align: right;\n",
       "    }\n",
       "</style>\n",
       "<table border=\"1\" class=\"dataframe\">\n",
       "  <thead>\n",
       "    <tr style=\"text-align: right;\">\n",
       "      <th></th>\n",
       "      <th>PassengerId</th>\n",
       "      <th>Survived</th>\n",
       "      <th>Pclass</th>\n",
       "      <th>Name</th>\n",
       "      <th>Sex</th>\n",
       "      <th>Age</th>\n",
       "      <th>SibSp</th>\n",
       "      <th>Parch</th>\n",
       "      <th>Ticket</th>\n",
       "      <th>Fare</th>\n",
       "      <th>Cabin</th>\n",
       "      <th>Embarked</th>\n",
       "    </tr>\n",
       "  </thead>\n",
       "  <tbody>\n",
       "    <tr>\n",
       "      <th>369</th>\n",
       "      <td>370</td>\n",
       "      <td>1</td>\n",
       "      <td>1</td>\n",
       "      <td>unknown</td>\n",
       "      <td>female</td>\n",
       "      <td>24.0</td>\n",
       "      <td>0</td>\n",
       "      <td>0</td>\n",
       "      <td>PC 17477</td>\n",
       "      <td>69.3000</td>\n",
       "      <td>Yes</td>\n",
       "      <td>C</td>\n",
       "    </tr>\n",
       "    <tr>\n",
       "      <th>443</th>\n",
       "      <td>444</td>\n",
       "      <td>1</td>\n",
       "      <td>2</td>\n",
       "      <td>unknown</td>\n",
       "      <td>female</td>\n",
       "      <td>28.0</td>\n",
       "      <td>0</td>\n",
       "      <td>0</td>\n",
       "      <td>230434</td>\n",
       "      <td>13.0000</td>\n",
       "      <td>No</td>\n",
       "      <td>S</td>\n",
       "    </tr>\n",
       "    <tr>\n",
       "      <th>641</th>\n",
       "      <td>642</td>\n",
       "      <td>1</td>\n",
       "      <td>1</td>\n",
       "      <td>unknown</td>\n",
       "      <td>female</td>\n",
       "      <td>24.0</td>\n",
       "      <td>0</td>\n",
       "      <td>0</td>\n",
       "      <td>PC 17477</td>\n",
       "      <td>69.3000</td>\n",
       "      <td>Yes</td>\n",
       "      <td>C</td>\n",
       "    </tr>\n",
       "    <tr>\n",
       "      <th>759</th>\n",
       "      <td>760</td>\n",
       "      <td>1</td>\n",
       "      <td>1</td>\n",
       "      <td>unknown</td>\n",
       "      <td>female</td>\n",
       "      <td>33.0</td>\n",
       "      <td>0</td>\n",
       "      <td>0</td>\n",
       "      <td>110152</td>\n",
       "      <td>86.5000</td>\n",
       "      <td>Yes</td>\n",
       "      <td>S</td>\n",
       "    </tr>\n",
       "    <tr>\n",
       "      <th>796</th>\n",
       "      <td>797</td>\n",
       "      <td>1</td>\n",
       "      <td>1</td>\n",
       "      <td>unknown</td>\n",
       "      <td>female</td>\n",
       "      <td>49.0</td>\n",
       "      <td>0</td>\n",
       "      <td>0</td>\n",
       "      <td>17465</td>\n",
       "      <td>25.9292</td>\n",
       "      <td>Yes</td>\n",
       "      <td>S</td>\n",
       "    </tr>\n",
       "  </tbody>\n",
       "</table>\n",
       "</div>"
      ],
      "text/plain": [
       "     PassengerId  Survived  Pclass     Name     Sex   Age  SibSp  Parch  \\\n",
       "369          370         1       1  unknown  female  24.0      0      0   \n",
       "443          444         1       2  unknown  female  28.0      0      0   \n",
       "641          642         1       1  unknown  female  24.0      0      0   \n",
       "759          760         1       1  unknown  female  33.0      0      0   \n",
       "796          797         1       1  unknown  female  49.0      0      0   \n",
       "\n",
       "       Ticket     Fare Cabin Embarked  \n",
       "369  PC 17477  69.3000   Yes        C  \n",
       "443    230434  13.0000    No        S  \n",
       "641  PC 17477  69.3000   Yes        C  \n",
       "759    110152  86.5000   Yes        S  \n",
       "796     17465  25.9292   Yes        S  "
      ]
     },
     "execution_count": 34,
     "metadata": {},
     "output_type": "execute_result"
    }
   ],
   "source": [
    "trainName[trainName.Name == 'unknown']"
   ]
  },
  {
   "cell_type": "markdown",
   "metadata": {},
   "source": [
    "训练之前我们需要去除掉Age字段为空的部分，因为Age字段对于预测结果是一个很重要的特征，这里不能不用，而要用，也得去掉缺失值，就用无缺失部分来预测!!"
   ]
  },
  {
   "cell_type": "code",
   "execution_count": 35,
   "metadata": {},
   "outputs": [
    {
     "data": {
      "text/plain": [
       "BaggingClassifier(base_estimator=OneVsOneClassifier(estimator=SVC(C=1.0, cache_size=200, class_weight=None, coef0=0.0,\n",
       "  decision_function_shape='ovr', degree=3, gamma='auto', kernel='rbf',\n",
       "  max_iter=-1, probability=False, random_state=None, shrinking=True,\n",
       "  tol=0.001, verbose=False),\n",
       "          n_jobs=1),\n",
       "         bootstrap=True, bootstrap_features=False, max_features=1.0,\n",
       "         max_samples=0.8, n_estimators=10, n_jobs=-1, oob_score=False,\n",
       "         random_state=None, verbose=0, warm_start=False)"
      ]
     },
     "execution_count": 35,
     "metadata": {},
     "output_type": "execute_result"
    }
   ],
   "source": [
    "from sklearn.preprocessing import StandardScaler, LabelEncoder\n",
    "from sklearn.linear_model import LogisticRegression\n",
    "from sklearn.ensemble import RandomForestClassifier\n",
    "from sklearn.svm import SVC\n",
    "from sklearn.multiclass import OneVsOneClassifier\n",
    "from sklearn.neighbors import KNeighborsClassifier\n",
    "from sklearn.ensemble import BaggingClassifier\n",
    "\n",
    "trainNameAgeNotnull = trainName.loc[(trainName.Age.notnull())]\n",
    "\n",
    "name = trainNameAgeNotnull[['Survived', 'Pclass', 'SibSp', 'Parch', 'Sex', 'Cabin', 'Embarked', 'Age', 'Fare', 'Name']]\n",
    "\n",
    "name_dummies_Survived = pd.get_dummies(name.Survived, prefix='Survived')\n",
    "name_dummies_Pclass = pd.get_dummies(name.Pclass, prefix='Pclass')\n",
    "name_dummies_SibSp = pd.get_dummies(name.SibSp, prefix='SibSp')\n",
    "name_dummies_Parch = pd.get_dummies(name.Parch, prefix='Parch')\n",
    "name_dummies_Sex= pd.get_dummies(name.Sex, prefix='Sex')\n",
    "name_dummies_Cabin_Embarked = pd.get_dummies(name[['Cabin', 'Embarked']])\n",
    "\n",
    "scalerName = StandardScaler()\n",
    "name.insert(9, 'Age_Scaled', scalerName.fit_transform(name.Age[:, np.newaxis]))\n",
    "name.insert(10, 'Fare_Scaled', scalerName.fit_transform(name.Fare[:, np.newaxis]))\n",
    "\n",
    "name_concated = pd.concat([name_dummies_Survived, name_dummies_Pclass, name_dummies_SibSp,\n",
    "                          name_dummies_Parch, name_dummies_Sex, name_dummies_Cabin_Embarked,\n",
    "                          name], axis=1)\n",
    "final_name = name_concated.drop(['Survived', 'Pclass', 'SibSp', 'Parch', 'Sex', 'Cabin', 'Embarked', 'Age', 'Fare'], axis=1)\n",
    "\n",
    "known_name = final_name[final_name.Name != 'unknown']\n",
    "unknown_name = final_name[final_name.Name == 'unknown']\n",
    "\n",
    "X_train_name = known_name.as_matrix()[:, :-1]\n",
    "y_train_name = known_name.as_matrix()[:, -1]\n",
    "\n",
    "X_predict_name = unknown_name.as_matrix()[:, :-1]\n",
    "\n",
    "leName = LabelEncoder()\n",
    "y_train_name_label = leName.fit_transform(y_train_name)\n",
    "\n",
    "lrName = LogisticRegression(penalty='l1', tol=1e-6, random_state=0, multi_class='ovr')\n",
    "lrName.fit(X_train_name, y_train_name_label)\n",
    "\n",
    "bagginglrName = BaggingClassifier(lrName, n_estimators=10, max_samples=0.8, max_features=1.0, bootstrap=True, bootstrap_features=False, n_jobs=-1)\n",
    "bagginglrName.fit(X_train_name, y_train_name_label)\n",
    "\n",
    "rfcName = RandomForestClassifier(n_estimators=2000, n_jobs=-1)\n",
    "rfcName.fit(X_train_name, y_train_name_label)\n",
    "\n",
    "ovoName = OneVsOneClassifier(SVC(kernel='rbf'))\n",
    "ovoName.fit(X_train_name, y_train_name_label)\n",
    "\n",
    "baggingovoName = BaggingClassifier(ovoName, n_estimators=10, max_samples=0.8, max_features=1.0, bootstrap=True, bootstrap_features=False, n_jobs=-1)\n",
    "baggingovoName.fit(X_train_name, y_train_name_label)"
   ]
  },
  {
   "cell_type": "code",
   "execution_count": 36,
   "metadata": {},
   "outputs": [
    {
     "data": {
      "text/plain": [
       "array([0, 0, 0, 0, 2])"
      ]
     },
     "execution_count": 36,
     "metadata": {},
     "output_type": "execute_result"
    }
   ],
   "source": [
    "lrName.predict(X_predict_name)"
   ]
  },
  {
   "cell_type": "code",
   "execution_count": 37,
   "metadata": {},
   "outputs": [
    {
     "data": {
      "text/plain": [
       "array([0, 0, 0, 0, 2])"
      ]
     },
     "execution_count": 37,
     "metadata": {},
     "output_type": "execute_result"
    }
   ],
   "source": [
    "bagginglrName.predict(X_predict_name)"
   ]
  },
  {
   "cell_type": "code",
   "execution_count": 38,
   "metadata": {},
   "outputs": [
    {
     "data": {
      "text/plain": [
       "array([0, 0, 0, 0, 2])"
      ]
     },
     "execution_count": 38,
     "metadata": {},
     "output_type": "execute_result"
    }
   ],
   "source": [
    "rfcName.predict(X_predict_name)"
   ]
  },
  {
   "cell_type": "code",
   "execution_count": 39,
   "metadata": {},
   "outputs": [
    {
     "data": {
      "text/plain": [
       "array([0, 0, 0, 0, 2])"
      ]
     },
     "execution_count": 39,
     "metadata": {},
     "output_type": "execute_result"
    }
   ],
   "source": [
    "ovoName.predict(X_predict_name)"
   ]
  },
  {
   "cell_type": "code",
   "execution_count": 40,
   "metadata": {},
   "outputs": [
    {
     "data": {
      "text/plain": [
       "array([0, 0, 0, 0, 2])"
      ]
     },
     "execution_count": 40,
     "metadata": {},
     "output_type": "execute_result"
    }
   ],
   "source": [
    "baggingovoName.predict(X_predict_name)"
   ]
  },
  {
   "cell_type": "code",
   "execution_count": 41,
   "metadata": {},
   "outputs": [],
   "source": [
    "val_scoreName_lr, val_predictName_lr, val_splitName_test_lr = cross_validate_score_for_discrete_values(lrName, known_name, 0.3)"
   ]
  },
  {
   "cell_type": "code",
   "execution_count": 42,
   "metadata": {},
   "outputs": [
    {
     "data": {
      "text/plain": [
       "0.9107981220657277"
      ]
     },
     "execution_count": 42,
     "metadata": {},
     "output_type": "execute_result"
    }
   ],
   "source": [
    "val_scoreName_lr"
   ]
  },
  {
   "cell_type": "code",
   "execution_count": 43,
   "metadata": {},
   "outputs": [],
   "source": [
    "val_scoreName_bagginglr, val_predictName_bagginglr, val_splitName_test_bagginglr = cross_validate_score_for_discrete_values(bagginglrName, known_name, 0.3)"
   ]
  },
  {
   "cell_type": "code",
   "execution_count": 44,
   "metadata": {},
   "outputs": [
    {
     "data": {
      "text/plain": [
       "0.9061032863849765"
      ]
     },
     "execution_count": 44,
     "metadata": {},
     "output_type": "execute_result"
    }
   ],
   "source": [
    "val_scoreName_bagginglr"
   ]
  },
  {
   "cell_type": "code",
   "execution_count": 45,
   "metadata": {},
   "outputs": [],
   "source": [
    "val_scoreName_rfc, val_predictName_rfc, val_splitName_test_rfc = cross_validate_score_for_discrete_values(rfcName, known_name, 0.3)"
   ]
  },
  {
   "cell_type": "code",
   "execution_count": 46,
   "metadata": {},
   "outputs": [
    {
     "data": {
      "text/plain": [
       "0.9295774647887324"
      ]
     },
     "execution_count": 46,
     "metadata": {},
     "output_type": "execute_result"
    }
   ],
   "source": [
    "val_scoreName_rfc"
   ]
  },
  {
   "cell_type": "code",
   "execution_count": 47,
   "metadata": {},
   "outputs": [],
   "source": [
    "val_scoreName_ovo, val_predictName_ovo, val_splitName_test_ovo = cross_validate_score_for_discrete_values(ovoName, known_name, 0.3)"
   ]
  },
  {
   "cell_type": "code",
   "execution_count": 48,
   "metadata": {},
   "outputs": [
    {
     "data": {
      "text/plain": [
       "0.8967136150234741"
      ]
     },
     "execution_count": 48,
     "metadata": {},
     "output_type": "execute_result"
    }
   ],
   "source": [
    "val_scoreName_ovo"
   ]
  },
  {
   "cell_type": "code",
   "execution_count": 49,
   "metadata": {},
   "outputs": [],
   "source": [
    "val_scoreName_baggingovo, val_predictName_baggingovo, val_splitName_test_baggingovo = cross_validate_score_for_discrete_values(baggingovoName, known_name, 0.3)"
   ]
  },
  {
   "cell_type": "code",
   "execution_count": 50,
   "metadata": {},
   "outputs": [
    {
     "data": {
      "text/plain": [
       "0.8967136150234741"
      ]
     },
     "execution_count": 50,
     "metadata": {},
     "output_type": "execute_result"
    }
   ],
   "source": [
    "val_scoreName_baggingovo"
   ]
  },
  {
   "cell_type": "code",
   "execution_count": 51,
   "metadata": {},
   "outputs": [
    {
     "data": {
      "text/html": [
       "<div>\n",
       "<style scoped>\n",
       "    .dataframe tbody tr th:only-of-type {\n",
       "        vertical-align: middle;\n",
       "    }\n",
       "\n",
       "    .dataframe tbody tr th {\n",
       "        vertical-align: top;\n",
       "    }\n",
       "\n",
       "    .dataframe thead th {\n",
       "        text-align: right;\n",
       "    }\n",
       "</style>\n",
       "<table border=\"1\" class=\"dataframe\">\n",
       "  <thead>\n",
       "    <tr style=\"text-align: right;\">\n",
       "      <th></th>\n",
       "      <th>PassengerId</th>\n",
       "      <th>Survived</th>\n",
       "      <th>Pclass</th>\n",
       "      <th>Name</th>\n",
       "      <th>Sex</th>\n",
       "      <th>Age</th>\n",
       "      <th>SibSp</th>\n",
       "      <th>Parch</th>\n",
       "      <th>Ticket</th>\n",
       "      <th>Fare</th>\n",
       "      <th>Cabin</th>\n",
       "      <th>Embarked</th>\n",
       "    </tr>\n",
       "  </thead>\n",
       "  <tbody>\n",
       "    <tr>\n",
       "      <th>20</th>\n",
       "      <td>21</td>\n",
       "      <td>0</td>\n",
       "      <td>2</td>\n",
       "      <td>Mr</td>\n",
       "      <td>male</td>\n",
       "      <td>35.0</td>\n",
       "      <td>0</td>\n",
       "      <td>0</td>\n",
       "      <td>239865</td>\n",
       "      <td>26.0000</td>\n",
       "      <td>No</td>\n",
       "      <td>S</td>\n",
       "    </tr>\n",
       "    <tr>\n",
       "      <th>29</th>\n",
       "      <td>30</td>\n",
       "      <td>0</td>\n",
       "      <td>3</td>\n",
       "      <td>Mr</td>\n",
       "      <td>male</td>\n",
       "      <td>NaN</td>\n",
       "      <td>0</td>\n",
       "      <td>0</td>\n",
       "      <td>349216</td>\n",
       "      <td>7.8958</td>\n",
       "      <td>No</td>\n",
       "      <td>S</td>\n",
       "    </tr>\n",
       "    <tr>\n",
       "      <th>45</th>\n",
       "      <td>46</td>\n",
       "      <td>0</td>\n",
       "      <td>3</td>\n",
       "      <td>Mr</td>\n",
       "      <td>male</td>\n",
       "      <td>NaN</td>\n",
       "      <td>0</td>\n",
       "      <td>0</td>\n",
       "      <td>S.C./A.4. 23567</td>\n",
       "      <td>8.0500</td>\n",
       "      <td>No</td>\n",
       "      <td>S</td>\n",
       "    </tr>\n",
       "    <tr>\n",
       "      <th>56</th>\n",
       "      <td>57</td>\n",
       "      <td>1</td>\n",
       "      <td>2</td>\n",
       "      <td>Miss</td>\n",
       "      <td>female</td>\n",
       "      <td>21.0</td>\n",
       "      <td>0</td>\n",
       "      <td>0</td>\n",
       "      <td>C.A. 31026</td>\n",
       "      <td>10.5000</td>\n",
       "      <td>No</td>\n",
       "      <td>S</td>\n",
       "    </tr>\n",
       "    <tr>\n",
       "      <th>69</th>\n",
       "      <td>70</td>\n",
       "      <td>0</td>\n",
       "      <td>3</td>\n",
       "      <td>Mr</td>\n",
       "      <td>male</td>\n",
       "      <td>26.0</td>\n",
       "      <td>2</td>\n",
       "      <td>0</td>\n",
       "      <td>315151</td>\n",
       "      <td>8.6625</td>\n",
       "      <td>No</td>\n",
       "      <td>S</td>\n",
       "    </tr>\n",
       "    <tr>\n",
       "      <th>73</th>\n",
       "      <td>74</td>\n",
       "      <td>0</td>\n",
       "      <td>3</td>\n",
       "      <td>Mr</td>\n",
       "      <td>male</td>\n",
       "      <td>26.0</td>\n",
       "      <td>1</td>\n",
       "      <td>0</td>\n",
       "      <td>2680</td>\n",
       "      <td>14.4542</td>\n",
       "      <td>No</td>\n",
       "      <td>C</td>\n",
       "    </tr>\n",
       "    <tr>\n",
       "      <th>83</th>\n",
       "      <td>84</td>\n",
       "      <td>0</td>\n",
       "      <td>1</td>\n",
       "      <td>Mr</td>\n",
       "      <td>male</td>\n",
       "      <td>28.0</td>\n",
       "      <td>0</td>\n",
       "      <td>0</td>\n",
       "      <td>113059</td>\n",
       "      <td>47.1000</td>\n",
       "      <td>No</td>\n",
       "      <td>S</td>\n",
       "    </tr>\n",
       "    <tr>\n",
       "      <th>88</th>\n",
       "      <td>89</td>\n",
       "      <td>1</td>\n",
       "      <td>1</td>\n",
       "      <td>Miss</td>\n",
       "      <td>female</td>\n",
       "      <td>23.0</td>\n",
       "      <td>3</td>\n",
       "      <td>2</td>\n",
       "      <td>19950</td>\n",
       "      <td>263.0000</td>\n",
       "      <td>Yes</td>\n",
       "      <td>S</td>\n",
       "    </tr>\n",
       "    <tr>\n",
       "      <th>89</th>\n",
       "      <td>90</td>\n",
       "      <td>0</td>\n",
       "      <td>3</td>\n",
       "      <td>Mr</td>\n",
       "      <td>male</td>\n",
       "      <td>24.0</td>\n",
       "      <td>0</td>\n",
       "      <td>0</td>\n",
       "      <td>343275</td>\n",
       "      <td>8.0500</td>\n",
       "      <td>No</td>\n",
       "      <td>S</td>\n",
       "    </tr>\n",
       "    <tr>\n",
       "      <th>104</th>\n",
       "      <td>105</td>\n",
       "      <td>0</td>\n",
       "      <td>3</td>\n",
       "      <td>Mr</td>\n",
       "      <td>male</td>\n",
       "      <td>37.0</td>\n",
       "      <td>2</td>\n",
       "      <td>0</td>\n",
       "      <td>3101276</td>\n",
       "      <td>7.9250</td>\n",
       "      <td>No</td>\n",
       "      <td>S</td>\n",
       "    </tr>\n",
       "    <tr>\n",
       "      <th>138</th>\n",
       "      <td>139</td>\n",
       "      <td>0</td>\n",
       "      <td>3</td>\n",
       "      <td>Mr</td>\n",
       "      <td>male</td>\n",
       "      <td>16.0</td>\n",
       "      <td>0</td>\n",
       "      <td>0</td>\n",
       "      <td>7534</td>\n",
       "      <td>9.2167</td>\n",
       "      <td>No</td>\n",
       "      <td>S</td>\n",
       "    </tr>\n",
       "    <tr>\n",
       "      <th>149</th>\n",
       "      <td>150</td>\n",
       "      <td>0</td>\n",
       "      <td>2</td>\n",
       "      <td>Mr</td>\n",
       "      <td>male</td>\n",
       "      <td>42.0</td>\n",
       "      <td>0</td>\n",
       "      <td>0</td>\n",
       "      <td>244310</td>\n",
       "      <td>13.0000</td>\n",
       "      <td>No</td>\n",
       "      <td>S</td>\n",
       "    </tr>\n",
       "    <tr>\n",
       "      <th>151</th>\n",
       "      <td>152</td>\n",
       "      <td>1</td>\n",
       "      <td>1</td>\n",
       "      <td>Mrs</td>\n",
       "      <td>female</td>\n",
       "      <td>22.0</td>\n",
       "      <td>1</td>\n",
       "      <td>0</td>\n",
       "      <td>113776</td>\n",
       "      <td>66.6000</td>\n",
       "      <td>Yes</td>\n",
       "      <td>S</td>\n",
       "    </tr>\n",
       "    <tr>\n",
       "      <th>169</th>\n",
       "      <td>170</td>\n",
       "      <td>0</td>\n",
       "      <td>3</td>\n",
       "      <td>Mr</td>\n",
       "      <td>male</td>\n",
       "      <td>28.0</td>\n",
       "      <td>0</td>\n",
       "      <td>0</td>\n",
       "      <td>1601</td>\n",
       "      <td>56.4958</td>\n",
       "      <td>No</td>\n",
       "      <td>S</td>\n",
       "    </tr>\n",
       "    <tr>\n",
       "      <th>209</th>\n",
       "      <td>210</td>\n",
       "      <td>1</td>\n",
       "      <td>1</td>\n",
       "      <td>Mr</td>\n",
       "      <td>male</td>\n",
       "      <td>40.0</td>\n",
       "      <td>0</td>\n",
       "      <td>0</td>\n",
       "      <td>112277</td>\n",
       "      <td>31.0000</td>\n",
       "      <td>Yes</td>\n",
       "      <td>C</td>\n",
       "    </tr>\n",
       "  </tbody>\n",
       "</table>\n",
       "</div>"
      ],
      "text/plain": [
       "     PassengerId  Survived  Pclass  Name     Sex   Age  SibSp  Parch  \\\n",
       "20            21         0       2    Mr    male  35.0      0      0   \n",
       "29            30         0       3    Mr    male   NaN      0      0   \n",
       "45            46         0       3    Mr    male   NaN      0      0   \n",
       "56            57         1       2  Miss  female  21.0      0      0   \n",
       "69            70         0       3    Mr    male  26.0      2      0   \n",
       "73            74         0       3    Mr    male  26.0      1      0   \n",
       "83            84         0       1    Mr    male  28.0      0      0   \n",
       "88            89         1       1  Miss  female  23.0      3      2   \n",
       "89            90         0       3    Mr    male  24.0      0      0   \n",
       "104          105         0       3    Mr    male  37.0      2      0   \n",
       "138          139         0       3    Mr    male  16.0      0      0   \n",
       "149          150         0       2    Mr    male  42.0      0      0   \n",
       "151          152         1       1   Mrs  female  22.0      1      0   \n",
       "169          170         0       3    Mr    male  28.0      0      0   \n",
       "209          210         1       1    Mr    male  40.0      0      0   \n",
       "\n",
       "              Ticket      Fare Cabin Embarked  \n",
       "20            239865   26.0000    No        S  \n",
       "29            349216    7.8958    No        S  \n",
       "45   S.C./A.4. 23567    8.0500    No        S  \n",
       "56        C.A. 31026   10.5000    No        S  \n",
       "69            315151    8.6625    No        S  \n",
       "73              2680   14.4542    No        C  \n",
       "83            113059   47.1000    No        S  \n",
       "88             19950  263.0000   Yes        S  \n",
       "89            343275    8.0500    No        S  \n",
       "104          3101276    7.9250    No        S  \n",
       "138             7534    9.2167    No        S  \n",
       "149           244310   13.0000    No        S  \n",
       "151           113776   66.6000   Yes        S  \n",
       "169             1601   56.4958    No        S  \n",
       "209           112277   31.0000   Yes        C  "
      ]
     },
     "execution_count": 51,
     "metadata": {},
     "output_type": "execute_result"
    }
   ],
   "source": [
    "# Name字段预测错误的数据\n",
    "\n",
    "trainName.loc[val_predictName_rfc != val_splitName_test_rfc]"
   ]
  },
  {
   "cell_type": "code",
   "execution_count": 52,
   "metadata": {},
   "outputs": [
    {
     "data": {
      "text/plain": [
       "array(['Mr', 'Mrs', 'Miss', 'Mrs', 'Mr', 'Mr', 'Mr', 'Mrs', 'Mrs', 'Miss'],\n",
       "      dtype=object)"
      ]
     },
     "execution_count": 52,
     "metadata": {},
     "output_type": "execute_result"
    }
   ],
   "source": [
    "y_train_name[:10]"
   ]
  },
  {
   "cell_type": "code",
   "execution_count": 53,
   "metadata": {},
   "outputs": [
    {
     "data": {
      "text/plain": [
       "array([1, 2, 0, 2, 1, 1, 1, 2, 2, 0])"
      ]
     },
     "execution_count": 53,
     "metadata": {},
     "output_type": "execute_result"
    }
   ],
   "source": [
    "y_train_name_label[:10]"
   ]
  },
  {
   "cell_type": "code",
   "execution_count": 54,
   "metadata": {},
   "outputs": [
    {
     "data": {
      "text/html": [
       "<div>\n",
       "<style scoped>\n",
       "    .dataframe tbody tr th:only-of-type {\n",
       "        vertical-align: middle;\n",
       "    }\n",
       "\n",
       "    .dataframe tbody tr th {\n",
       "        vertical-align: top;\n",
       "    }\n",
       "\n",
       "    .dataframe thead th {\n",
       "        text-align: right;\n",
       "    }\n",
       "</style>\n",
       "<table border=\"1\" class=\"dataframe\">\n",
       "  <thead>\n",
       "    <tr style=\"text-align: right;\">\n",
       "      <th></th>\n",
       "      <th>PassengerId</th>\n",
       "      <th>Survived</th>\n",
       "      <th>Pclass</th>\n",
       "      <th>Name</th>\n",
       "      <th>Sex</th>\n",
       "      <th>Age</th>\n",
       "      <th>SibSp</th>\n",
       "      <th>Parch</th>\n",
       "      <th>Ticket</th>\n",
       "      <th>Fare</th>\n",
       "      <th>Cabin</th>\n",
       "      <th>Embarked</th>\n",
       "    </tr>\n",
       "  </thead>\n",
       "  <tbody>\n",
       "    <tr>\n",
       "      <th>369</th>\n",
       "      <td>370</td>\n",
       "      <td>1</td>\n",
       "      <td>1</td>\n",
       "      <td>unknown</td>\n",
       "      <td>female</td>\n",
       "      <td>24.0</td>\n",
       "      <td>0</td>\n",
       "      <td>0</td>\n",
       "      <td>PC 17477</td>\n",
       "      <td>69.3000</td>\n",
       "      <td>Yes</td>\n",
       "      <td>C</td>\n",
       "    </tr>\n",
       "    <tr>\n",
       "      <th>443</th>\n",
       "      <td>444</td>\n",
       "      <td>1</td>\n",
       "      <td>2</td>\n",
       "      <td>unknown</td>\n",
       "      <td>female</td>\n",
       "      <td>28.0</td>\n",
       "      <td>0</td>\n",
       "      <td>0</td>\n",
       "      <td>230434</td>\n",
       "      <td>13.0000</td>\n",
       "      <td>No</td>\n",
       "      <td>S</td>\n",
       "    </tr>\n",
       "    <tr>\n",
       "      <th>641</th>\n",
       "      <td>642</td>\n",
       "      <td>1</td>\n",
       "      <td>1</td>\n",
       "      <td>unknown</td>\n",
       "      <td>female</td>\n",
       "      <td>24.0</td>\n",
       "      <td>0</td>\n",
       "      <td>0</td>\n",
       "      <td>PC 17477</td>\n",
       "      <td>69.3000</td>\n",
       "      <td>Yes</td>\n",
       "      <td>C</td>\n",
       "    </tr>\n",
       "    <tr>\n",
       "      <th>759</th>\n",
       "      <td>760</td>\n",
       "      <td>1</td>\n",
       "      <td>1</td>\n",
       "      <td>unknown</td>\n",
       "      <td>female</td>\n",
       "      <td>33.0</td>\n",
       "      <td>0</td>\n",
       "      <td>0</td>\n",
       "      <td>110152</td>\n",
       "      <td>86.5000</td>\n",
       "      <td>Yes</td>\n",
       "      <td>S</td>\n",
       "    </tr>\n",
       "    <tr>\n",
       "      <th>796</th>\n",
       "      <td>797</td>\n",
       "      <td>1</td>\n",
       "      <td>1</td>\n",
       "      <td>unknown</td>\n",
       "      <td>female</td>\n",
       "      <td>49.0</td>\n",
       "      <td>0</td>\n",
       "      <td>0</td>\n",
       "      <td>17465</td>\n",
       "      <td>25.9292</td>\n",
       "      <td>Yes</td>\n",
       "      <td>S</td>\n",
       "    </tr>\n",
       "  </tbody>\n",
       "</table>\n",
       "</div>"
      ],
      "text/plain": [
       "     PassengerId  Survived  Pclass     Name     Sex   Age  SibSp  Parch  \\\n",
       "369          370         1       1  unknown  female  24.0      0      0   \n",
       "443          444         1       2  unknown  female  28.0      0      0   \n",
       "641          642         1       1  unknown  female  24.0      0      0   \n",
       "759          760         1       1  unknown  female  33.0      0      0   \n",
       "796          797         1       1  unknown  female  49.0      0      0   \n",
       "\n",
       "       Ticket     Fare Cabin Embarked  \n",
       "369  PC 17477  69.3000   Yes        C  \n",
       "443    230434  13.0000    No        S  \n",
       "641  PC 17477  69.3000   Yes        C  \n",
       "759    110152  86.5000   Yes        S  \n",
       "796     17465  25.9292   Yes        S  "
      ]
     },
     "execution_count": 54,
     "metadata": {},
     "output_type": "execute_result"
    }
   ],
   "source": [
    "trainName[trainName.Name == 'unknown']"
   ]
  },
  {
   "cell_type": "markdown",
   "metadata": {},
   "source": [
    "说明：LabelEncoder后：1 $\\Rightarrow$ Mr $\\hspace{1cm}$ 2 $\\Rightarrow$ Mrs  $\\hspace{1cm}$  0 $\\Rightarrow$ Miss，而预测的结果为[0, 0, 0, 0,2]，也就是['Miss', 'Miss', 'Miss', 'Miss', 'Mrs']"
   ]
  },
  {
   "cell_type": "code",
   "execution_count": 55,
   "metadata": {},
   "outputs": [
    {
     "data": {
      "text/plain": [
       "BaggingClassifier(base_estimator=KNeighborsClassifier(algorithm='auto', leaf_size=30, metric='minkowski',\n",
       "           metric_params=None, n_jobs=-1, n_neighbors=3, p=2,\n",
       "           weights='uniform'),\n",
       "         bootstrap=True, bootstrap_features=False, max_features=1.0,\n",
       "         max_samples=0.8, n_estimators=10, n_jobs=-1, oob_score=False,\n",
       "         random_state=None, verbose=0, warm_start=False)"
      ]
     },
     "execution_count": 55,
     "metadata": {},
     "output_type": "execute_result"
    }
   ],
   "source": [
    "# 我们再来用KNN试下预测结果\n",
    "\n",
    "kncName = KNeighborsClassifier(n_neighbors=3, n_jobs=-1)\n",
    "kncName.fit(X_train_name, y_train_name_label)\n",
    "\n",
    "baggingkncName = BaggingClassifier(kncName, n_estimators=10, max_samples=0.8, max_features=1.0, bootstrap=True, bootstrap_features=False, n_jobs=-1)\n",
    "baggingkncName.fit(X_train_name, y_train_name_label)"
   ]
  },
  {
   "cell_type": "code",
   "execution_count": 56,
   "metadata": {},
   "outputs": [
    {
     "data": {
      "text/plain": [
       "array([0, 0, 0, 0, 0])"
      ]
     },
     "execution_count": 56,
     "metadata": {},
     "output_type": "execute_result"
    }
   ],
   "source": [
    "kncName.predict(X_predict_name)"
   ]
  },
  {
   "cell_type": "code",
   "execution_count": 57,
   "metadata": {},
   "outputs": [
    {
     "data": {
      "text/plain": [
       "array([0, 0, 0, 0, 1])"
      ]
     },
     "execution_count": 57,
     "metadata": {},
     "output_type": "execute_result"
    }
   ],
   "source": [
    "baggingkncName.predict(X_predict_name)"
   ]
  },
  {
   "cell_type": "code",
   "execution_count": 58,
   "metadata": {},
   "outputs": [],
   "source": [
    "val_scoreName_knc, val_predictName_knc, val_splitName_test_knc = cross_validate_score_for_discrete_values(kncName, known_name, 0.3)"
   ]
  },
  {
   "cell_type": "code",
   "execution_count": 59,
   "metadata": {},
   "outputs": [
    {
     "data": {
      "text/plain": [
       "0.9107981220657277"
      ]
     },
     "execution_count": 59,
     "metadata": {},
     "output_type": "execute_result"
    }
   ],
   "source": [
    "val_scoreName_knc"
   ]
  },
  {
   "cell_type": "code",
   "execution_count": 60,
   "metadata": {},
   "outputs": [],
   "source": [
    "val_scoreName_baggingknc, val_predictName_baggingknc, val_splitName_test_baggingknc = cross_validate_score_for_discrete_values(baggingkncName, known_name, 0.3)"
   ]
  },
  {
   "cell_type": "code",
   "execution_count": 61,
   "metadata": {},
   "outputs": [
    {
     "data": {
      "text/plain": [
       "0.892018779342723"
      ]
     },
     "execution_count": 61,
     "metadata": {},
     "output_type": "execute_result"
    }
   ],
   "source": [
    "val_scoreName_baggingknc"
   ]
  },
  {
   "cell_type": "markdown",
   "metadata": {},
   "source": [
    "KNN预测出一个为Miss，另一个为Mr，显然应该是Miss，最终结果还是应该为['Miss', 'Miss', 'Miss', 'Miss', 'Mrs']，拿这个结果来填充unknow..."
   ]
  },
  {
   "cell_type": "code",
   "execution_count": 62,
   "metadata": {},
   "outputs": [],
   "source": [
    "trainName.loc[(trainName.Name == 'unknown'), 'Name'] = ['Miss', 'Miss', 'Miss', 'Miss', 'Mrs']"
   ]
  },
  {
   "cell_type": "markdown",
   "metadata": {},
   "source": [
    "对于Age字段我们需要做一些缺失值的填充，比较好的方法就是预测缺失部分数据，采用哪种模型呢，线性回归？树回归？支持向量回归？或者用模型融合随机森林？线性回归在这里不是很适合，线性关系不明显，而树回归存在过拟合，干脆直接使用随机森林吧！（也可以使用支持向量回归，不过还是使用融合模型比较放心~）注意这边的模型融合不同于集成模型，当然随机森林也可以说是集成模型，集成模型更类似同类基学习器的融合，而融合模型，可以使用不同的基学习器！"
   ]
  },
  {
   "cell_type": "code",
   "execution_count": 63,
   "metadata": {
    "scrolled": false
   },
   "outputs": [
    {
     "name": "stderr",
     "output_type": "stream",
     "text": [
      "/Users/johnnie/anaconda3/lib/python3.6/site-packages/sklearn/utils/validation.py:475: DataConversionWarning: Data with input dtype int64 was converted to float64 by StandardScaler.\n",
      "  warnings.warn(msg, DataConversionWarning)\n"
     ]
    }
   ],
   "source": [
    "from sklearn.ensemble import RandomForestRegressor\n",
    "from sklearn.preprocessing import StandardScaler\n",
    "from sklearn.svm import SVR\n",
    "from sklearn.ensemble import BaggingRegressor\n",
    "\n",
    "# 提取与预测Age字段相关的特征字段\n",
    "trainAge = trainName[['PassengerId', 'Survived', 'Pclass', 'SibSp', 'Parch', 'Fare', 'Ticket', 'Name', 'Cabin', 'Age']]\n",
    "\n",
    "# 多个类别字段离散化\n",
    "age_dummies_Survived = pd.get_dummies(trainAge['Survived'], prefix='Survived')\n",
    "age_dummies_Pclass = pd.get_dummies(trainAge['Pclass'], prefix='Pclass')\n",
    "age_dummies_SibSp = pd.get_dummies(trainAge['SibSp'], prefix='SibSp')\n",
    "age_dummies_Parch = pd.get_dummies(trainAge['Parch'], prefix='Parch')\n",
    "age_dummies_Ticket = pd.get_dummies(trainAge['Ticket'], prefix='Ticket')\n",
    "age_dummies_Name = pd.get_dummies(trainAge['Name'], prefix='Name')\n",
    "age_dummies_Cabin = pd.get_dummies(trainAge['Cabin'], prefix='Cabin')\n",
    "\n",
    "age_concated = pd.concat([age_dummies_Survived, age_dummies_Pclass,\n",
    "                            age_dummies_SibSp, age_dummies_Parch, age_dummies_Name,\n",
    "                            age_dummies_Ticket, \n",
    "                           age_dummies_Cabin, trainAge], axis=1)\n",
    "\n",
    "scalerAge = StandardScaler()\n",
    "age_concated.insert(0, 'PassengerId_Scaled', scalerAge.fit_transform(trainAge.PassengerId[:, np.newaxis]))\n",
    "age_concated.insert(1, 'Fare_Scaled', scalerAge.fit_transform(trainAge.Fare[:, np.newaxis]))\n",
    "\n",
    "age_final = age_concated.drop(['PassengerId', 'Survived', 'Pclass', 'SibSp', 'Parch', 'Fare', 'Ticket', 'Cabin', 'Name'], axis=1)\n",
    "\n",
    "# 数据划分成已知年龄和未知年龄需要预测的\n",
    "known_age = age_final[age_final['Age'].notnull()]\n",
    "unknown_age = age_final[age_final['Age'].isnull()]\n",
    "\n",
    "# X特征值提取\n",
    "X_train_age = known_age.as_matrix()[:,:-1]\n",
    "X_predict_age = unknown_age.as_matrix()[:,:-1]\n",
    "\n",
    "# y目标值提取\n",
    "y_train_age = known_age.as_matrix()[:,-1]\n",
    "\n",
    "# 模型拟合\n",
    "rfrAge = RandomForestRegressor(n_estimators=2000, random_state=0, n_jobs=-1)\n",
    "rfrAge.fit(X_train_age, y_train_age)\n",
    "\n",
    "svrAge = SVR(kernel='rbf')\n",
    "svrAge.fit(X_train_age, y_train_age)\n",
    "\n",
    "predictAge = rfrAge.predict(X_predict_age)"
   ]
  },
  {
   "cell_type": "code",
   "execution_count": 64,
   "metadata": {
    "scrolled": false
   },
   "outputs": [],
   "source": [
    "trainName.loc[(trainName.Age.isnull()), 'Age'] = predictAge"
   ]
  },
  {
   "cell_type": "code",
   "execution_count": 65,
   "metadata": {},
   "outputs": [],
   "source": [
    "val_scoreAge_rfr, val_predictAge_rfr, val_splitAge_test_rfr = cross_validate_score_for_continuous_values(rfrAge, known_age, 0.3)"
   ]
  },
  {
   "cell_type": "code",
   "execution_count": 66,
   "metadata": {},
   "outputs": [
    {
     "data": {
      "text/plain": [
       "0.28616579867285774"
      ]
     },
     "execution_count": 66,
     "metadata": {},
     "output_type": "execute_result"
    }
   ],
   "source": [
    "val_scoreAge_rfr"
   ]
  },
  {
   "cell_type": "code",
   "execution_count": 67,
   "metadata": {},
   "outputs": [
    {
     "name": "stdout",
     "output_type": "stream",
     "text": [
      "均方根误差为： 7.665636576389758\n",
      "中位数相对误差为： 3.023999999999999\n"
     ]
    }
   ],
   "source": [
    "from sklearn.metrics import mean_squared_error, median_absolute_error\n",
    "\n",
    "mse = mean_squared_error(y_train_age, rfrAge.predict(X_train_age))\n",
    "rmse = np.sqrt(mse)\n",
    "\n",
    "mape = median_absolute_error(y_train_age, rfrAge.predict(X_train_age))\n",
    "\n",
    "print('均方根误差为：', rmse)\n",
    "print('中位数相对误差为：', mape)"
   ]
  },
  {
   "cell_type": "code",
   "execution_count": 68,
   "metadata": {},
   "outputs": [
    {
     "data": {
      "text/html": [
       "<div>\n",
       "<style scoped>\n",
       "    .dataframe tbody tr th:only-of-type {\n",
       "        vertical-align: middle;\n",
       "    }\n",
       "\n",
       "    .dataframe tbody tr th {\n",
       "        vertical-align: top;\n",
       "    }\n",
       "\n",
       "    .dataframe thead th {\n",
       "        text-align: right;\n",
       "    }\n",
       "</style>\n",
       "<table border=\"1\" class=\"dataframe\">\n",
       "  <thead>\n",
       "    <tr style=\"text-align: right;\">\n",
       "      <th></th>\n",
       "      <th>PassengerId</th>\n",
       "      <th>Survived</th>\n",
       "      <th>Pclass</th>\n",
       "      <th>Name</th>\n",
       "      <th>Sex</th>\n",
       "      <th>Age</th>\n",
       "      <th>SibSp</th>\n",
       "      <th>Parch</th>\n",
       "      <th>Ticket</th>\n",
       "      <th>Fare</th>\n",
       "      <th>Cabin</th>\n",
       "      <th>Embarked</th>\n",
       "    </tr>\n",
       "  </thead>\n",
       "  <tbody>\n",
       "    <tr>\n",
       "      <th>61</th>\n",
       "      <td>62</td>\n",
       "      <td>1</td>\n",
       "      <td>1</td>\n",
       "      <td>Miss</td>\n",
       "      <td>female</td>\n",
       "      <td>38.0</td>\n",
       "      <td>0</td>\n",
       "      <td>0</td>\n",
       "      <td>113572</td>\n",
       "      <td>80.0</td>\n",
       "      <td>Yes</td>\n",
       "      <td>NaN</td>\n",
       "    </tr>\n",
       "    <tr>\n",
       "      <th>829</th>\n",
       "      <td>830</td>\n",
       "      <td>1</td>\n",
       "      <td>1</td>\n",
       "      <td>Mrs</td>\n",
       "      <td>female</td>\n",
       "      <td>62.0</td>\n",
       "      <td>0</td>\n",
       "      <td>0</td>\n",
       "      <td>113572</td>\n",
       "      <td>80.0</td>\n",
       "      <td>Yes</td>\n",
       "      <td>NaN</td>\n",
       "    </tr>\n",
       "  </tbody>\n",
       "</table>\n",
       "</div>"
      ],
      "text/plain": [
       "     PassengerId  Survived  Pclass  Name     Sex   Age  SibSp  Parch  Ticket  \\\n",
       "61            62         1       1  Miss  female  38.0      0      0  113572   \n",
       "829          830         1       1   Mrs  female  62.0      0      0  113572   \n",
       "\n",
       "     Fare Cabin Embarked  \n",
       "61   80.0   Yes      NaN  \n",
       "829  80.0   Yes      NaN  "
      ]
     },
     "execution_count": 68,
     "metadata": {},
     "output_type": "execute_result"
    }
   ],
   "source": [
    "trainName[trainName.Embarked.isnull()]"
   ]
  },
  {
   "cell_type": "markdown",
   "metadata": {},
   "source": [
    "再来填充下这2个缺失值！如果使用树模型，或随机森林来分类，需要将连续值离散化，比较麻烦，涉及到如何选择合适的区间来作为属性分类区间。我们可以使用逻辑回归，或者支持向量机来分类..."
   ]
  },
  {
   "cell_type": "code",
   "execution_count": 69,
   "metadata": {},
   "outputs": [],
   "source": [
    "from sklearn.svm import SVC\n",
    "from sklearn.multiclass import OneVsOneClassifier\n",
    "from sklearn.linear_model import LogisticRegression\n",
    "from sklearn.ensemble import RandomForestClassifier, BaggingClassifier\n",
    "from sklearn.preprocessing import StandardScaler, LabelEncoder\n",
    "# 将原数据同比例缩放，可以理解为实际空间距离与地图的关系\n",
    "# 用地图上的1厘米来表示实际距离的1千米\n",
    "\n",
    "trainEmbarked = trainName[['Survived', 'Pclass', 'Fare', 'Cabin', 'Ticket', 'Embarked']]\n",
    "\n",
    "embarked_dummies_Survived = pd.get_dummies(trainEmbarked['Survived'], prefix='Survived')\n",
    "embarked_dummies_Pclass = pd.get_dummies(trainEmbarked['Pclass'], prefix='Pclass')\n",
    "embarked_dummies_Cabin = pd.get_dummies(trainEmbarked['Cabin'], prefix='Cabin')\n",
    "embarked_dummies_Ticket = pd.get_dummies(trainEmbarked['Ticket'], prefix='Ticket')\n",
    "\n",
    "scalerEmbarked = StandardScaler()\n",
    "trainEmbarked.insert(0, 'Fare_scaled', scalerEmbarked.fit_transform(trainEmbarked['Fare'][:, np.newaxis]))\n",
    "\n",
    "embarked_concated = pd.concat([embarked_dummies_Survived, embarked_dummies_Pclass, embarked_dummies_Cabin,\n",
    "                               embarked_dummies_Ticket, trainEmbarked], axis=1)\n",
    "\n",
    "embarked_final = embarked_concated.drop(['Survived', 'Pclass', 'Fare', 'Cabin', 'Ticket'], axis=1)\n",
    "\n",
    "known_embarked = embarked_final[embarked_final.Embarked.notnull()]\n",
    "unknown_embarked = embarked_final[embarked_final.Embarked.isnull()]\n",
    "\n",
    "X_train_embarked = known_embarked.as_matrix()[:, :-1]\n",
    "X_predict_embarked = unknown_embarked.as_matrix()[:, :-1]\n",
    "\n",
    "y_train_embarked = known_embarked.as_matrix()[:, -1]\n",
    "\n",
    "leEmbarked = LabelEncoder()\n",
    "y_train_embarked_lable = leEmbarked.fit_transform(y_train_embarked)\n",
    "\n",
    "ovoEmbarked = OneVsOneClassifier(SVC(kernel='rbf'))\n",
    "ovoEmbarked.fit(X_train_embarked, y_train_embarked_lable)\n",
    "\n",
    "rfcEmbarked = RandomForestClassifier(n_estimators=2000, random_state=0, n_jobs=-1)\n",
    "rfcEmbarked.fit(X_train_embarked, y_train_embarked_lable)\n",
    "\n",
    "lrEmbarked = LogisticRegression(tol=1e-6, multi_class='ovr')\n",
    "lrEmbarked.fit(X_train_embarked, y_train_embarked_lable)\n",
    "\n",
    "predictEmbarked = ovoEmbarked.predict(X_predict_embarked)"
   ]
  },
  {
   "cell_type": "code",
   "execution_count": 70,
   "metadata": {},
   "outputs": [
    {
     "data": {
      "text/plain": [
       "array([2, 2])"
      ]
     },
     "execution_count": 70,
     "metadata": {},
     "output_type": "execute_result"
    }
   ],
   "source": [
    "predictEmbarked"
   ]
  },
  {
   "cell_type": "code",
   "execution_count": 71,
   "metadata": {},
   "outputs": [
    {
     "data": {
      "text/plain": [
       "array([2, 2])"
      ]
     },
     "execution_count": 71,
     "metadata": {},
     "output_type": "execute_result"
    }
   ],
   "source": [
    "rfcEmbarked.predict(X_predict_embarked)"
   ]
  },
  {
   "cell_type": "code",
   "execution_count": 72,
   "metadata": {},
   "outputs": [
    {
     "data": {
      "text/plain": [
       "array([2, 2])"
      ]
     },
     "execution_count": 72,
     "metadata": {},
     "output_type": "execute_result"
    }
   ],
   "source": [
    "lrEmbarked.predict(X_predict_embarked)"
   ]
  },
  {
   "cell_type": "code",
   "execution_count": 73,
   "metadata": {},
   "outputs": [
    {
     "data": {
      "text/plain": [
       "array([2, 0, 2, 2, 2, 1, 2, 2, 2, 0])"
      ]
     },
     "execution_count": 73,
     "metadata": {},
     "output_type": "execute_result"
    }
   ],
   "source": [
    "y_train_embarked_lable[:10]"
   ]
  },
  {
   "cell_type": "code",
   "execution_count": 74,
   "metadata": {},
   "outputs": [
    {
     "data": {
      "text/plain": [
       "array(['S', 'C', 'S', 'S', 'S', 'Q', 'S', 'S', 'S', 'C'], dtype=object)"
      ]
     },
     "execution_count": 74,
     "metadata": {},
     "output_type": "execute_result"
    }
   ],
   "source": [
    "y_train_embarked[:10]"
   ]
  },
  {
   "cell_type": "markdown",
   "metadata": {},
   "source": [
    "2 $\\Rightarrow$ S $\\hspace{1cm}$ 0 $\\Rightarrow$ C  $\\hspace{1cm}$  1 $\\Rightarrow$ Q"
   ]
  },
  {
   "cell_type": "code",
   "execution_count": 75,
   "metadata": {},
   "outputs": [],
   "source": [
    "val_scoreEmbarked_rfc, val_predictEmbarked_rfc, val_splitEmbarked_test_rfc = cross_validate_score_for_discrete_values(rfcEmbarked, known_embarked, 0.3)"
   ]
  },
  {
   "cell_type": "code",
   "execution_count": 76,
   "metadata": {},
   "outputs": [
    {
     "data": {
      "text/plain": [
       "0.8651685393258427"
      ]
     },
     "execution_count": 76,
     "metadata": {},
     "output_type": "execute_result"
    }
   ],
   "source": [
    "val_scoreEmbarked_rfc"
   ]
  },
  {
   "cell_type": "code",
   "execution_count": 77,
   "metadata": {},
   "outputs": [],
   "source": [
    "val_scoreEmbarked_ovo, val_predictEmbarked_ovo, val_splitEmbarked_test_ovo = cross_validate_score_for_discrete_values(ovoEmbarked, known_embarked, 0.3)"
   ]
  },
  {
   "cell_type": "code",
   "execution_count": 78,
   "metadata": {},
   "outputs": [
    {
     "data": {
      "text/plain": [
       "0.7340823970037453"
      ]
     },
     "execution_count": 78,
     "metadata": {},
     "output_type": "execute_result"
    }
   ],
   "source": [
    "val_scoreEmbarked_ovo"
   ]
  },
  {
   "cell_type": "code",
   "execution_count": 79,
   "metadata": {},
   "outputs": [],
   "source": [
    "val_scoreEmbarked_lr, val_predictEmbarked_lr, val_splitEmbarked_test_lr = cross_validate_score_for_discrete_values(lrEmbarked, known_embarked, 0.3)"
   ]
  },
  {
   "cell_type": "code",
   "execution_count": 80,
   "metadata": {},
   "outputs": [
    {
     "data": {
      "text/plain": [
       "0.7865168539325843"
      ]
     },
     "execution_count": 80,
     "metadata": {},
     "output_type": "execute_result"
    }
   ],
   "source": [
    "val_scoreEmbarked_lr"
   ]
  },
  {
   "cell_type": "code",
   "execution_count": 81,
   "metadata": {},
   "outputs": [],
   "source": [
    "trainName.loc[(trainName.Embarked.isnull()), 'Embarked'] = 'S'"
   ]
  },
  {
   "cell_type": "markdown",
   "metadata": {},
   "source": [
    "数据都已经补齐了，那我们就来准备预测Survived的事~"
   ]
  },
  {
   "cell_type": "code",
   "execution_count": 82,
   "metadata": {},
   "outputs": [],
   "source": [
    "# 训练集数据预处理\n",
    "\n",
    "# 取出有用特征\n",
    "trainSurvived = trainName[['Pclass', 'SibSp', 'Parch', 'Sex', 'Cabin', 'Embarked', 'Age', 'Fare', 'Survived']]\n",
    "\n",
    "# 离散化类别特征\n",
    "train_dummies_Pclass = pd.get_dummies(trainSurvived.Pclass, prefix='Pclass')\n",
    "train_dummies_SibSp = pd.get_dummies(trainSurvived.SibSp, prefix='SibSp')\n",
    "train_dummies_Parch = pd.get_dummies(trainSurvived.Parch, prefix='Parch')\n",
    "train_dummies_Sex = pd.get_dummies(trainSurvived.Sex, prefix='Sex')\n",
    "train_dummies_Cabin_Embarked = pd.get_dummies(trainSurvived[['Cabin', 'Embarked']])\n",
    "\n",
    "# 标准化数值型特征（缩放所有特征到同一量级，亦为使得目标函数快速收敛）\n",
    "scalerSurvived = StandardScaler()\n",
    "trainSurvived.insert(0, 'Age_Scaled', scalerSurvived.fit_transform(trainSurvived['Age'][:, np.newaxis]))\n",
    "trainSurvived.insert(1, 'Fare_Scaled', scalerSurvived.fit_transform(trainSurvived['Fare'][:, np.newaxis]))\n",
    "\n",
    "# 合并数据\n",
    "train_concated = pd.concat([train_dummies_Pclass, train_dummies_SibSp, train_dummies_Parch,\n",
    "                           train_dummies_Sex, train_dummies_Cabin_Embarked, trainSurvived], axis=1)\n",
    "train_final = train_concated.drop(['Pclass', 'SibSp', 'Parch', 'Sex', 'Cabin', 'Embarked', 'Age', 'Fare'], axis=1)\n",
    "train_final.insert(17, 'Parch_9', 0)"
   ]
  },
  {
   "cell_type": "code",
   "execution_count": 83,
   "metadata": {},
   "outputs": [
    {
     "data": {
      "text/plain": [
       "RandomForestClassifier(bootstrap=True, class_weight=None, criterion='gini',\n",
       "            max_depth=6, max_features='auto', max_leaf_nodes=None,\n",
       "            min_impurity_decrease=0.0, min_impurity_split=None,\n",
       "            min_samples_leaf=1, min_samples_split=2,\n",
       "            min_weight_fraction_leaf=0.0, n_estimators=500, n_jobs=-1,\n",
       "            oob_score=False, random_state=0, verbose=0, warm_start=False)"
      ]
     },
     "execution_count": 83,
     "metadata": {},
     "output_type": "execute_result"
    }
   ],
   "source": [
    "from sklearn.linear_model import LogisticRegression\n",
    "from sklearn.ensemble import RandomForestRegressor, BaggingClassifier\n",
    "from sklearn.model_selection import GridSearchCV\n",
    "\n",
    "# 数据矩阵化\n",
    "train_matrix = train_final.as_matrix()\n",
    "\n",
    "# 取出X, y\n",
    "X_train = train_matrix[:, :-1]\n",
    "y_train = train_matrix[:, -1]\n",
    "\n",
    "# 训练模型\n",
    "lrSurvived = LogisticRegression(C=0.5)\n",
    "lrSurvived.fit(X_train, y_train)\n",
    "\n",
    "bagginglrSurvived = BaggingClassifier(lrSurvived, n_estimators=10, max_samples=0.8, max_features=1.0, bootstrap=True, bootstrap_features=False, n_jobs=-1)\n",
    "bagginglrSurvived.fit(X_train, y_train)\n",
    "\n",
    "rfrSurvived = RandomForestClassifier(n_estimators=500, max_depth=6, random_state=0, n_jobs=-1)\n",
    "rfrSurvived.fit(X_train, y_train)"
   ]
  },
  {
   "cell_type": "markdown",
   "metadata": {},
   "source": [
    "先来看下模型的性能："
   ]
  },
  {
   "cell_type": "code",
   "execution_count": 84,
   "metadata": {},
   "outputs": [],
   "source": [
    "val_scoreSurvived_rfr, val_predictSurvived_rfr, val_splitSurvived_test_rfr = cross_validate_score_for_discrete_values(rfrSurvived, train_final, 0.3)"
   ]
  },
  {
   "cell_type": "code",
   "execution_count": 85,
   "metadata": {},
   "outputs": [
    {
     "data": {
      "text/plain": [
       "0.8097014925373134"
      ]
     },
     "execution_count": 85,
     "metadata": {},
     "output_type": "execute_result"
    }
   ],
   "source": [
    "val_scoreSurvived_rfr"
   ]
  },
  {
   "cell_type": "code",
   "execution_count": 86,
   "metadata": {},
   "outputs": [],
   "source": [
    "val_scoreSurvived_lr, val_predictSurvived_lr, val_splitSurvived_test_lr = cross_validate_score_for_discrete_values(lrSurvived, train_final, 0.3)"
   ]
  },
  {
   "cell_type": "code",
   "execution_count": 87,
   "metadata": {},
   "outputs": [
    {
     "data": {
      "text/plain": [
       "0.8171641791044776"
      ]
     },
     "execution_count": 87,
     "metadata": {},
     "output_type": "execute_result"
    }
   ],
   "source": [
    "val_scoreSurvived_lr"
   ]
  },
  {
   "cell_type": "code",
   "execution_count": 88,
   "metadata": {},
   "outputs": [],
   "source": [
    "val_scoreSurvived_bagginglr, val_predictSurvived_bagginglr, val_splitSurvived_test_bagginglr = cross_validate_score_for_discrete_values(bagginglrSurvived, train_final, 0.3)"
   ]
  },
  {
   "cell_type": "code",
   "execution_count": 89,
   "metadata": {},
   "outputs": [
    {
     "data": {
      "text/plain": [
       "0.8208955223880597"
      ]
     },
     "execution_count": 89,
     "metadata": {},
     "output_type": "execute_result"
    }
   ],
   "source": [
    "val_scoreSurvived_bagginglr"
   ]
  },
  {
   "cell_type": "markdown",
   "metadata": {},
   "source": [
    "现在要开始对测试集数据进行预测了，不过测试集数据还没有来得及处理呢，也需要像训练集做一样的处理！"
   ]
  },
  {
   "cell_type": "code",
   "execution_count": 90,
   "metadata": {},
   "outputs": [
    {
     "name": "stdout",
     "output_type": "stream",
     "text": [
      "<class 'pandas.core.frame.DataFrame'>\n",
      "RangeIndex: 418 entries, 0 to 417\n",
      "Data columns (total 11 columns):\n",
      "PassengerId    418 non-null int64\n",
      "Pclass         418 non-null int64\n",
      "Name           418 non-null object\n",
      "Sex            418 non-null object\n",
      "Age            332 non-null float64\n",
      "SibSp          418 non-null int64\n",
      "Parch          418 non-null int64\n",
      "Ticket         418 non-null object\n",
      "Fare           417 non-null float64\n",
      "Cabin          91 non-null object\n",
      "Embarked       418 non-null object\n",
      "dtypes: float64(2), int64(4), object(5)\n",
      "memory usage: 36.0+ KB\n"
     ]
    }
   ],
   "source": [
    "test.info()"
   ]
  },
  {
   "cell_type": "markdown",
   "metadata": {},
   "source": [
    "有缺失数据的字段为Age字段，Fare字段，Cabin字段，Age和Fare都为数值型数据，需要做填充处理，而Cabin字段我们直接用有无填充Yes和No..."
   ]
  },
  {
   "cell_type": "markdown",
   "metadata": {},
   "source": [
    "在此之前，我们先来将Name字段重填充下："
   ]
  },
  {
   "cell_type": "code",
   "execution_count": 91,
   "metadata": {},
   "outputs": [
    {
     "name": "stderr",
     "output_type": "stream",
     "text": [
      "/Users/johnnie/anaconda3/lib/python3.6/site-packages/pandas/core/indexing.py:537: SettingWithCopyWarning: \n",
      "A value is trying to be set on a copy of a slice from a DataFrame.\n",
      "Try using .loc[row_indexer,col_indexer] = value instead\n",
      "\n",
      "See the caveats in the documentation: http://pandas.pydata.org/pandas-docs/stable/indexing.html#indexing-view-versus-copy\n",
      "  self.obj[item] = s\n"
     ]
    }
   ],
   "source": [
    "testNameMrs = test[test.Name.str.contains('Mrs')]\n",
    "testNameMiss = test[test.Name.str.contains('Miss')]\n",
    "testNameMr = test[(test.Name.str.contains('Mr')) & ((test.Name.str.contains('Mrs')) == False)]\n",
    "testNameNotContainsMrMrsMiss = test[(test.Name.str.contains('Mr') == False) & (test.Name.str.contains('Miss') == False)]\n",
    "\n",
    "testNameMrs.loc[:].Name = 'Mrs'\n",
    "testNameMiss.loc[:].Name = 'Miss'\n",
    "testNameMr.loc[:].Name = 'Mr'\n",
    "testNameNotContainsMrMrsMiss.loc[(testNameNotContainsMrMrsMiss.Sex == 'male'), 'Name'] = 'Mr'\n",
    "testNameNotContainsMrMrsMiss.loc[(testNameNotContainsMrMrsMiss.Sex == 'female'), 'Name'] = 'unknown'\n",
    "\n",
    "testName = pd.concat([testNameMrs, testNameMiss, testNameMr, testNameNotContainsMrMrsMiss])"
   ]
  },
  {
   "cell_type": "code",
   "execution_count": 92,
   "metadata": {},
   "outputs": [
    {
     "data": {
      "text/html": [
       "<div>\n",
       "<style scoped>\n",
       "    .dataframe tbody tr th:only-of-type {\n",
       "        vertical-align: middle;\n",
       "    }\n",
       "\n",
       "    .dataframe tbody tr th {\n",
       "        vertical-align: top;\n",
       "    }\n",
       "\n",
       "    .dataframe thead th {\n",
       "        text-align: right;\n",
       "    }\n",
       "</style>\n",
       "<table border=\"1\" class=\"dataframe\">\n",
       "  <thead>\n",
       "    <tr style=\"text-align: right;\">\n",
       "      <th></th>\n",
       "      <th>PassengerId</th>\n",
       "      <th>Pclass</th>\n",
       "      <th>Name</th>\n",
       "      <th>Sex</th>\n",
       "      <th>Age</th>\n",
       "      <th>SibSp</th>\n",
       "      <th>Parch</th>\n",
       "      <th>Ticket</th>\n",
       "      <th>Fare</th>\n",
       "      <th>Cabin</th>\n",
       "      <th>Embarked</th>\n",
       "    </tr>\n",
       "  </thead>\n",
       "  <tbody>\n",
       "    <tr>\n",
       "      <th>88</th>\n",
       "      <td>980</td>\n",
       "      <td>3</td>\n",
       "      <td>unknown</td>\n",
       "      <td>female</td>\n",
       "      <td>NaN</td>\n",
       "      <td>0</td>\n",
       "      <td>0</td>\n",
       "      <td>364856</td>\n",
       "      <td>7.75</td>\n",
       "      <td>NaN</td>\n",
       "      <td>Q</td>\n",
       "    </tr>\n",
       "    <tr>\n",
       "      <th>414</th>\n",
       "      <td>1306</td>\n",
       "      <td>1</td>\n",
       "      <td>unknown</td>\n",
       "      <td>female</td>\n",
       "      <td>39.0</td>\n",
       "      <td>0</td>\n",
       "      <td>0</td>\n",
       "      <td>PC 17758</td>\n",
       "      <td>108.90</td>\n",
       "      <td>C105</td>\n",
       "      <td>C</td>\n",
       "    </tr>\n",
       "  </tbody>\n",
       "</table>\n",
       "</div>"
      ],
      "text/plain": [
       "     PassengerId  Pclass     Name     Sex   Age  SibSp  Parch    Ticket  \\\n",
       "88           980       3  unknown  female   NaN      0      0    364856   \n",
       "414         1306       1  unknown  female  39.0      0      0  PC 17758   \n",
       "\n",
       "       Fare Cabin Embarked  \n",
       "88     7.75   NaN        Q  \n",
       "414  108.90  C105        C  "
      ]
     },
     "execution_count": 92,
     "metadata": {},
     "output_type": "execute_result"
    }
   ],
   "source": [
    "testName[testName.Name == 'unknown']"
   ]
  },
  {
   "cell_type": "markdown",
   "metadata": {},
   "source": [
    "还是像训练集一样用已知数据训练模型填充位置unknown内容："
   ]
  },
  {
   "cell_type": "code",
   "execution_count": 93,
   "metadata": {},
   "outputs": [
    {
     "name": "stderr",
     "output_type": "stream",
     "text": [
      "/Users/johnnie/anaconda3/lib/python3.6/site-packages/pandas/core/indexing.py:537: SettingWithCopyWarning: \n",
      "A value is trying to be set on a copy of a slice from a DataFrame.\n",
      "Try using .loc[row_indexer,col_indexer] = value instead\n",
      "\n",
      "See the caveats in the documentation: http://pandas.pydata.org/pandas-docs/stable/indexing.html#indexing-view-versus-copy\n",
      "  self.obj[item] = s\n"
     ]
    },
    {
     "data": {
      "text/plain": [
       "BaggingClassifier(base_estimator=SVC(C=1.0, cache_size=200, class_weight=None, coef0=0.0,\n",
       "  decision_function_shape='ovr', degree=3, gamma='auto', kernel='rbf',\n",
       "  max_iter=-1, probability=False, random_state=None, shrinking=True,\n",
       "  tol=0.001, verbose=False),\n",
       "         bootstrap=True, bootstrap_features=False, max_features=1.0,\n",
       "         max_samples=0.8, n_estimators=10, n_jobs=-1, oob_score=False,\n",
       "         random_state=None, verbose=0, warm_start=False)"
      ]
     },
     "execution_count": 93,
     "metadata": {},
     "output_type": "execute_result"
    }
   ],
   "source": [
    "from sklearn.preprocessing import StandardScaler, LabelEncoder\n",
    "from sklearn.linear_model import LogisticRegression\n",
    "from sklearn.ensemble import RandomForestClassifier\n",
    "from sklearn.ensemble import BaggingClassifier\n",
    "from sklearn.svm import SVC\n",
    "\n",
    "testNameAgeNotnull = testName.loc[(testName.Age.notnull())]\n",
    "\n",
    "nametest = testNameAgeNotnull[['Pclass', 'SibSp', 'Parch', 'Sex', 'Cabin', 'Embarked', 'Age', 'Fare', 'Name']]\n",
    "nametest.loc[(nametest.Fare.isnull()), 'Fare'] = 0\n",
    "\n",
    "name_dummies_Pclass = pd.get_dummies(nametest.Pclass, prefix='Pclass')\n",
    "name_dummies_SibSp = pd.get_dummies(nametest.SibSp, prefix='SibSp')\n",
    "name_dummies_Parch = pd.get_dummies(nametest.Parch, prefix='Parch')\n",
    "name_dummies_Sex= pd.get_dummies(nametest.Sex, prefix='Sex')\n",
    "name_dummies_Cabin_Embarked = pd.get_dummies(nametest[['Cabin', 'Embarked']])\n",
    "\n",
    "scalerNametest = StandardScaler()\n",
    "nametest.insert(6, 'Age_Scaled', scalerNametest.fit_transform(nametest.Age[:, np.newaxis]))\n",
    "nametest.insert(7, 'Fare_Scaled', scalerNametest.fit_transform(nametest.Fare[:, np.newaxis]))\n",
    "\n",
    "name_concated = pd.concat([name_dummies_Pclass, name_dummies_SibSp, name_dummies_Parch,\n",
    "                          name_dummies_Sex, name_dummies_Cabin_Embarked, nametest], axis=1)\n",
    "final_name_test = name_concated.drop(['Pclass', 'SibSp', 'Parch', 'Sex', 'Cabin', 'Embarked', 'Age', 'Fare'], axis=1)\n",
    "\n",
    "known_name_test = final_name_test[final_name_test.Name != 'unknown']\n",
    "unknown_name_test = final_name_test[final_name_test.Name == 'unknown']\n",
    "\n",
    "X_test_name = known_name_test.as_matrix()[:, :-1]\n",
    "y_test_name = known_name_test.as_matrix()[:, -1]\n",
    "\n",
    "X_predict_name_test = unknown_name_test.as_matrix()[:, :-1]\n",
    "\n",
    "leNametest = LabelEncoder()\n",
    "y_test_name_label = leNametest.fit_transform(y_test_name)\n",
    "\n",
    "lrNametest = LogisticRegression(penalty='l1', tol=1e-6, random_state=0, multi_class='ovr')\n",
    "lrNametest.fit(X_test_name, y_test_name_label)\n",
    "\n",
    "bagginglrNametest = BaggingClassifier(lrName, n_estimators=10, max_samples=0.8, max_features=1.0, bootstrap=True, bootstrap_features=False, n_jobs=-1)\n",
    "bagginglrNametest.fit(X_test_name, y_test_name_label)\n",
    "\n",
    "rfcNametest = RandomForestClassifier(n_estimators=2000, n_jobs=-1)\n",
    "rfcNametest.fit(X_test_name, y_test_name_label)\n",
    "\n",
    "baggingsvcNametest = BaggingClassifier(SVC(C=1.0, kernel='rbf'), n_estimators=10, max_samples=0.8, max_features=1.0, bootstrap=True, bootstrap_features=False, n_jobs=-1)\n",
    "baggingsvcNametest.fit(X_test_name, y_test_name_label)"
   ]
  },
  {
   "cell_type": "code",
   "execution_count": 94,
   "metadata": {},
   "outputs": [
    {
     "data": {
      "text/plain": [
       "array([2])"
      ]
     },
     "execution_count": 94,
     "metadata": {},
     "output_type": "execute_result"
    }
   ],
   "source": [
    "lrNametest.predict(X_predict_name_test)"
   ]
  },
  {
   "cell_type": "code",
   "execution_count": 95,
   "metadata": {},
   "outputs": [
    {
     "data": {
      "text/plain": [
       "array([2])"
      ]
     },
     "execution_count": 95,
     "metadata": {},
     "output_type": "execute_result"
    }
   ],
   "source": [
    "bagginglrNametest.predict(X_predict_name_test)"
   ]
  },
  {
   "cell_type": "code",
   "execution_count": 96,
   "metadata": {},
   "outputs": [
    {
     "data": {
      "text/plain": [
       "array([0])"
      ]
     },
     "execution_count": 96,
     "metadata": {},
     "output_type": "execute_result"
    }
   ],
   "source": [
    "rfcNametest.predict(X_predict_name_test)"
   ]
  },
  {
   "cell_type": "code",
   "execution_count": 97,
   "metadata": {},
   "outputs": [
    {
     "data": {
      "text/plain": [
       "array([2])"
      ]
     },
     "execution_count": 97,
     "metadata": {},
     "output_type": "execute_result"
    }
   ],
   "source": [
    "baggingsvcNametest.predict(X_predict_name_test)"
   ]
  },
  {
   "cell_type": "code",
   "execution_count": 98,
   "metadata": {},
   "outputs": [],
   "source": [
    "val_scoretestName_lr, val_predicttestName_lr, val_splittestName_test_lr = cross_validate_score_for_discrete_values(lrNametest, known_name_test, 0.3)"
   ]
  },
  {
   "cell_type": "code",
   "execution_count": 99,
   "metadata": {},
   "outputs": [
    {
     "data": {
      "text/plain": [
       "0.94"
      ]
     },
     "execution_count": 99,
     "metadata": {},
     "output_type": "execute_result"
    }
   ],
   "source": [
    "val_scoretestName_lr"
   ]
  },
  {
   "cell_type": "code",
   "execution_count": 100,
   "metadata": {},
   "outputs": [],
   "source": [
    "val_scoretestName_bagginglr, val_predicttestName_bagginglr, val_splittestName_test_bagginglr = cross_validate_score_for_discrete_values(bagginglrNametest, known_name_test, 0.3)"
   ]
  },
  {
   "cell_type": "code",
   "execution_count": 101,
   "metadata": {},
   "outputs": [
    {
     "data": {
      "text/plain": [
       "0.94"
      ]
     },
     "execution_count": 101,
     "metadata": {},
     "output_type": "execute_result"
    }
   ],
   "source": [
    "val_scoretestName_bagginglr"
   ]
  },
  {
   "cell_type": "code",
   "execution_count": 102,
   "metadata": {},
   "outputs": [],
   "source": [
    "val_scoretestName_rfc, val_predicttestName_rfc, val_splittestName_test_rfc = cross_validate_score_for_discrete_values(rfcNametest, known_name_test, 0.3)"
   ]
  },
  {
   "cell_type": "code",
   "execution_count": 103,
   "metadata": {},
   "outputs": [
    {
     "data": {
      "text/plain": [
       "0.92"
      ]
     },
     "execution_count": 103,
     "metadata": {},
     "output_type": "execute_result"
    }
   ],
   "source": [
    "val_scoretestName_rfc"
   ]
  },
  {
   "cell_type": "code",
   "execution_count": 104,
   "metadata": {},
   "outputs": [],
   "source": [
    "val_scoretestName_baggingsvc, val_predicttestName_baggingsvc, val_splittestName_test_baggingsvc = cross_validate_score_for_discrete_values(baggingsvcNametest, known_name_test, 0.3)"
   ]
  },
  {
   "cell_type": "code",
   "execution_count": 105,
   "metadata": {},
   "outputs": [
    {
     "data": {
      "text/plain": [
       "0.9"
      ]
     },
     "execution_count": 105,
     "metadata": {},
     "output_type": "execute_result"
    }
   ],
   "source": [
    "val_scoretestName_baggingsvc"
   ]
  },
  {
   "cell_type": "code",
   "execution_count": 106,
   "metadata": {},
   "outputs": [
    {
     "data": {
      "text/html": [
       "<div>\n",
       "<style scoped>\n",
       "    .dataframe tbody tr th:only-of-type {\n",
       "        vertical-align: middle;\n",
       "    }\n",
       "\n",
       "    .dataframe tbody tr th {\n",
       "        vertical-align: top;\n",
       "    }\n",
       "\n",
       "    .dataframe thead th {\n",
       "        text-align: right;\n",
       "    }\n",
       "</style>\n",
       "<table border=\"1\" class=\"dataframe\">\n",
       "  <thead>\n",
       "    <tr style=\"text-align: right;\">\n",
       "      <th></th>\n",
       "      <th>PassengerId</th>\n",
       "      <th>Pclass</th>\n",
       "      <th>Name</th>\n",
       "      <th>Sex</th>\n",
       "      <th>Age</th>\n",
       "      <th>SibSp</th>\n",
       "      <th>Parch</th>\n",
       "      <th>Ticket</th>\n",
       "      <th>Fare</th>\n",
       "      <th>Cabin</th>\n",
       "      <th>Embarked</th>\n",
       "    </tr>\n",
       "  </thead>\n",
       "  <tbody>\n",
       "    <tr>\n",
       "      <th>88</th>\n",
       "      <td>980</td>\n",
       "      <td>3</td>\n",
       "      <td>unknown</td>\n",
       "      <td>female</td>\n",
       "      <td>NaN</td>\n",
       "      <td>0</td>\n",
       "      <td>0</td>\n",
       "      <td>364856</td>\n",
       "      <td>7.75</td>\n",
       "      <td>NaN</td>\n",
       "      <td>Q</td>\n",
       "    </tr>\n",
       "    <tr>\n",
       "      <th>414</th>\n",
       "      <td>1306</td>\n",
       "      <td>1</td>\n",
       "      <td>unknown</td>\n",
       "      <td>female</td>\n",
       "      <td>39.0</td>\n",
       "      <td>0</td>\n",
       "      <td>0</td>\n",
       "      <td>PC 17758</td>\n",
       "      <td>108.90</td>\n",
       "      <td>C105</td>\n",
       "      <td>C</td>\n",
       "    </tr>\n",
       "  </tbody>\n",
       "</table>\n",
       "</div>"
      ],
      "text/plain": [
       "     PassengerId  Pclass     Name     Sex   Age  SibSp  Parch    Ticket  \\\n",
       "88           980       3  unknown  female   NaN      0      0    364856   \n",
       "414         1306       1  unknown  female  39.0      0      0  PC 17758   \n",
       "\n",
       "       Fare Cabin Embarked  \n",
       "88     7.75   NaN        Q  \n",
       "414  108.90  C105        C  "
      ]
     },
     "execution_count": 106,
     "metadata": {},
     "output_type": "execute_result"
    }
   ],
   "source": [
    "testName[testName.Name == 'unknown']"
   ]
  },
  {
   "cell_type": "markdown",
   "metadata": {},
   "source": [
    "通过比较最终结果，应该是2，也就是['Mrs']，而对于另外一个Age为空的，不好用模型来预测，我们就先自己猜测个，也把她定义为['Mrs']吧！"
   ]
  },
  {
   "cell_type": "code",
   "execution_count": 107,
   "metadata": {},
   "outputs": [],
   "source": [
    "testName.loc[(testName.Name == 'unknown'), 'Name'] = 'Mrs'"
   ]
  },
  {
   "cell_type": "markdown",
   "metadata": {},
   "source": [
    "Cabin字段还是填充Yes和No..."
   ]
  },
  {
   "cell_type": "code",
   "execution_count": 108,
   "metadata": {},
   "outputs": [],
   "source": [
    "testName.loc[(testName.Cabin.notnull()), 'Cabin'] = 'Yes'"
   ]
  },
  {
   "cell_type": "code",
   "execution_count": 109,
   "metadata": {},
   "outputs": [],
   "source": [
    "testName.loc[(testName.Cabin.isnull()), 'Cabin'] = 'No'"
   ]
  },
  {
   "cell_type": "code",
   "execution_count": 110,
   "metadata": {},
   "outputs": [
    {
     "data": {
      "text/plain": [
       "No     327\n",
       "Yes     91\n",
       "Name: Cabin, dtype: int64"
      ]
     },
     "execution_count": 110,
     "metadata": {},
     "output_type": "execute_result"
    }
   ],
   "source": [
    "testName.Cabin.value_counts()"
   ]
  },
  {
   "cell_type": "markdown",
   "metadata": {},
   "source": [
    "Fare字段看下~"
   ]
  },
  {
   "cell_type": "code",
   "execution_count": 111,
   "metadata": {},
   "outputs": [
    {
     "data": {
      "text/html": [
       "<div>\n",
       "<style scoped>\n",
       "    .dataframe tbody tr th:only-of-type {\n",
       "        vertical-align: middle;\n",
       "    }\n",
       "\n",
       "    .dataframe tbody tr th {\n",
       "        vertical-align: top;\n",
       "    }\n",
       "\n",
       "    .dataframe thead th {\n",
       "        text-align: right;\n",
       "    }\n",
       "</style>\n",
       "<table border=\"1\" class=\"dataframe\">\n",
       "  <thead>\n",
       "    <tr style=\"text-align: right;\">\n",
       "      <th></th>\n",
       "      <th>PassengerId</th>\n",
       "      <th>Pclass</th>\n",
       "      <th>Name</th>\n",
       "      <th>Sex</th>\n",
       "      <th>Age</th>\n",
       "      <th>SibSp</th>\n",
       "      <th>Parch</th>\n",
       "      <th>Ticket</th>\n",
       "      <th>Fare</th>\n",
       "      <th>Cabin</th>\n",
       "      <th>Embarked</th>\n",
       "    </tr>\n",
       "  </thead>\n",
       "  <tbody>\n",
       "    <tr>\n",
       "      <th>152</th>\n",
       "      <td>1044</td>\n",
       "      <td>3</td>\n",
       "      <td>Mr</td>\n",
       "      <td>male</td>\n",
       "      <td>60.5</td>\n",
       "      <td>0</td>\n",
       "      <td>0</td>\n",
       "      <td>3701</td>\n",
       "      <td>NaN</td>\n",
       "      <td>No</td>\n",
       "      <td>S</td>\n",
       "    </tr>\n",
       "  </tbody>\n",
       "</table>\n",
       "</div>"
      ],
      "text/plain": [
       "     PassengerId  Pclass Name   Sex   Age  SibSp  Parch Ticket  Fare Cabin  \\\n",
       "152         1044       3   Mr  male  60.5      0      0   3701   NaN    No   \n",
       "\n",
       "    Embarked  \n",
       "152        S  "
      ]
     },
     "execution_count": 111,
     "metadata": {},
     "output_type": "execute_result"
    }
   ],
   "source": [
    "testName[testName.Fare.isnull()]"
   ]
  },
  {
   "cell_type": "code",
   "execution_count": 112,
   "metadata": {},
   "outputs": [],
   "source": [
    "testName.Fare.fillna(0, inplace=True) # 先填充为0"
   ]
  },
  {
   "cell_type": "code",
   "execution_count": 113,
   "metadata": {},
   "outputs": [
    {
     "data": {
      "text/html": [
       "<div>\n",
       "<style scoped>\n",
       "    .dataframe tbody tr th:only-of-type {\n",
       "        vertical-align: middle;\n",
       "    }\n",
       "\n",
       "    .dataframe tbody tr th {\n",
       "        vertical-align: top;\n",
       "    }\n",
       "\n",
       "    .dataframe thead th {\n",
       "        text-align: right;\n",
       "    }\n",
       "</style>\n",
       "<table border=\"1\" class=\"dataframe\">\n",
       "  <thead>\n",
       "    <tr style=\"text-align: right;\">\n",
       "      <th></th>\n",
       "      <th>PassengerId</th>\n",
       "      <th>Pclass</th>\n",
       "      <th>Age</th>\n",
       "      <th>SibSp</th>\n",
       "      <th>Parch</th>\n",
       "      <th>Fare</th>\n",
       "    </tr>\n",
       "  </thead>\n",
       "  <tbody>\n",
       "    <tr>\n",
       "      <th>PassengerId</th>\n",
       "      <td>1.000000</td>\n",
       "      <td>-0.026751</td>\n",
       "      <td>-0.034102</td>\n",
       "      <td>0.003818</td>\n",
       "      <td>0.043080</td>\n",
       "      <td>0.008921</td>\n",
       "    </tr>\n",
       "    <tr>\n",
       "      <th>Pclass</th>\n",
       "      <td>-0.026751</td>\n",
       "      <td>1.000000</td>\n",
       "      <td>-0.492143</td>\n",
       "      <td>0.001087</td>\n",
       "      <td>0.018721</td>\n",
       "      <td>-0.577673</td>\n",
       "    </tr>\n",
       "    <tr>\n",
       "      <th>Age</th>\n",
       "      <td>-0.034102</td>\n",
       "      <td>-0.492143</td>\n",
       "      <td>1.000000</td>\n",
       "      <td>-0.091587</td>\n",
       "      <td>-0.061249</td>\n",
       "      <td>0.331057</td>\n",
       "    </tr>\n",
       "    <tr>\n",
       "      <th>SibSp</th>\n",
       "      <td>0.003818</td>\n",
       "      <td>0.001087</td>\n",
       "      <td>-0.091587</td>\n",
       "      <td>1.000000</td>\n",
       "      <td>0.306895</td>\n",
       "      <td>0.172167</td>\n",
       "    </tr>\n",
       "    <tr>\n",
       "      <th>Parch</th>\n",
       "      <td>0.043080</td>\n",
       "      <td>0.018721</td>\n",
       "      <td>-0.061249</td>\n",
       "      <td>0.306895</td>\n",
       "      <td>1.000000</td>\n",
       "      <td>0.230501</td>\n",
       "    </tr>\n",
       "    <tr>\n",
       "      <th>Fare</th>\n",
       "      <td>0.008921</td>\n",
       "      <td>-0.577673</td>\n",
       "      <td>0.331057</td>\n",
       "      <td>0.172167</td>\n",
       "      <td>0.230501</td>\n",
       "      <td>1.000000</td>\n",
       "    </tr>\n",
       "  </tbody>\n",
       "</table>\n",
       "</div>"
      ],
      "text/plain": [
       "             PassengerId    Pclass       Age     SibSp     Parch      Fare\n",
       "PassengerId     1.000000 -0.026751 -0.034102  0.003818  0.043080  0.008921\n",
       "Pclass         -0.026751  1.000000 -0.492143  0.001087  0.018721 -0.577673\n",
       "Age            -0.034102 -0.492143  1.000000 -0.091587 -0.061249  0.331057\n",
       "SibSp           0.003818  0.001087 -0.091587  1.000000  0.306895  0.172167\n",
       "Parch           0.043080  0.018721 -0.061249  0.306895  1.000000  0.230501\n",
       "Fare            0.008921 -0.577673  0.331057  0.172167  0.230501  1.000000"
      ]
     },
     "execution_count": 113,
     "metadata": {},
     "output_type": "execute_result"
    }
   ],
   "source": [
    "testName.corr()"
   ]
  },
  {
   "cell_type": "code",
   "execution_count": 114,
   "metadata": {
    "scrolled": false
   },
   "outputs": [
    {
     "name": "stderr",
     "output_type": "stream",
     "text": [
      "/Users/johnnie/anaconda3/lib/python3.6/site-packages/sklearn/utils/validation.py:475: DataConversionWarning: Data with input dtype int64 was converted to float64 by StandardScaler.\n",
      "  warnings.warn(msg, DataConversionWarning)\n"
     ]
    },
    {
     "data": {
      "text/plain": [
       "BaggingRegressor(base_estimator=SVR(C=1.0, cache_size=200, coef0=0.0, degree=3, epsilon=0.1, gamma='auto',\n",
       "  kernel='rbf', max_iter=-1, shrinking=True, tol=0.001, verbose=False),\n",
       "         bootstrap=True, bootstrap_features=False, max_features=1.0,\n",
       "         max_samples=0.8, n_estimators=10, n_jobs=-1, oob_score=False,\n",
       "         random_state=None, verbose=0, warm_start=False)"
      ]
     },
     "execution_count": 114,
     "metadata": {},
     "output_type": "execute_result"
    }
   ],
   "source": [
    "# 分别处理Age字段和Fare字段\n",
    "\n",
    "testAge = testName[['PassengerId', 'Pclass', 'SibSp', 'Parch', 'Fare', 'Ticket', 'Name', 'Cabin', 'Age']]\n",
    "\n",
    "test_dummies_Pclass = pd.get_dummies(testAge.Pclass, prefix='Pclass')\n",
    "test_dummies_SibSp = pd.get_dummies(testAge.SibSp, prefix='SibSp')\n",
    "test_dummies_Parch = pd.get_dummies(testAge.Parch, prefix='Parch')\n",
    "test_dummies_Ticket = pd.get_dummies(testAge.Ticket, prefix='Ticket')\n",
    "test_dummies_Name = pd.get_dummies(testAge.Name, prefix='Name')\n",
    "test_dummies_Cabin = pd.get_dummies(testAge.Cabin, prefix='Cabin')\n",
    "\n",
    "scalertestAge = StandardScaler()\n",
    "testAge.insert(0, 'PassengerId_Scaled', scalertestAge.fit_transform(testAge.PassengerId[:, np.newaxis]))\n",
    "testAge.insert(1, 'Fare_Scaled', scalertestAge.fit_transform(testAge.Fare[:, np.newaxis]))\n",
    "\n",
    "testAge_concated = pd.concat([test_dummies_Pclass, test_dummies_SibSp,\n",
    "                          test_dummies_Parch, test_dummies_Ticket, test_dummies_Name,\n",
    "                          test_dummies_Cabin, testAge], axis=1)\n",
    "testAge_final = testAge_concated.drop(['PassengerId', 'Pclass', 'SibSp', 'Parch', 'Fare', 'Ticket', 'Name', 'Cabin'], axis=1)\n",
    "\n",
    "test_known_age = testAge_final[testAge_final.Age.notnull()]\n",
    "test_unknown_age = testAge_final[testAge_final.Age.isnull()]\n",
    "\n",
    "X_testAge_train = test_known_age.as_matrix()[:, :-1]\n",
    "y_testAge_train = test_known_age.as_matrix()[:, -1]\n",
    "X_testAge_predict = test_unknown_age.as_matrix()[:, :-1]\n",
    "\n",
    "rfrtestAge = RandomForestRegressor(n_estimators=2000, random_state=1, n_jobs=-1)\n",
    "rfrtestAge.fit(X_testAge_train, y_testAge_train)\n",
    "\n",
    "baggingtestsvrAge = BaggingRegressor(SVR(), n_estimators=10, max_samples=0.8, \n",
    "                                    max_features=1.0, bootstrap=True, bootstrap_features=False, n_jobs=-1)\n",
    "baggingtestsvrAge.fit(X_testAge_train, y_testAge_train)"
   ]
  },
  {
   "cell_type": "code",
   "execution_count": 115,
   "metadata": {},
   "outputs": [],
   "source": [
    "val_scoretestAge_rfr, val_predicttestAge_rfr, val_splittestAge_test_rfr = cross_validate_score_for_discrete_values(rfrtestAge, test_known_age, 0.3)"
   ]
  },
  {
   "cell_type": "code",
   "execution_count": 116,
   "metadata": {},
   "outputs": [
    {
     "data": {
      "text/plain": [
       "-0.7529535397736167"
      ]
     },
     "execution_count": 116,
     "metadata": {},
     "output_type": "execute_result"
    }
   ],
   "source": [
    "val_scoretestAge_rfr"
   ]
  },
  {
   "cell_type": "code",
   "execution_count": 117,
   "metadata": {},
   "outputs": [],
   "source": [
    "val_scoretestAge_baggingsvr, val_predicttestAge_baggingsvr, val_splittestAge_test_baggingsvr = cross_validate_score_for_discrete_values(baggingtestsvrAge, test_known_age, 0.3)"
   ]
  },
  {
   "cell_type": "code",
   "execution_count": 118,
   "metadata": {},
   "outputs": [
    {
     "data": {
      "text/plain": [
       "-0.36086755060326814"
      ]
     },
     "execution_count": 118,
     "metadata": {},
     "output_type": "execute_result"
    }
   ],
   "source": [
    "val_scoretestAge_baggingsvr"
   ]
  },
  {
   "cell_type": "code",
   "execution_count": 119,
   "metadata": {},
   "outputs": [],
   "source": [
    "testpredictAge = baggingtestsvrAge.predict(X_testAge_predict)"
   ]
  },
  {
   "cell_type": "code",
   "execution_count": 120,
   "metadata": {},
   "outputs": [],
   "source": [
    "testName.loc[(testName.Age.isnull()), 'Age'] = testpredictAge"
   ]
  },
  {
   "cell_type": "code",
   "execution_count": 121,
   "metadata": {},
   "outputs": [
    {
     "data": {
      "text/html": [
       "<div>\n",
       "<style scoped>\n",
       "    .dataframe tbody tr th:only-of-type {\n",
       "        vertical-align: middle;\n",
       "    }\n",
       "\n",
       "    .dataframe tbody tr th {\n",
       "        vertical-align: top;\n",
       "    }\n",
       "\n",
       "    .dataframe thead th {\n",
       "        text-align: right;\n",
       "    }\n",
       "</style>\n",
       "<table border=\"1\" class=\"dataframe\">\n",
       "  <thead>\n",
       "    <tr style=\"text-align: right;\">\n",
       "      <th></th>\n",
       "      <th>PassengerId</th>\n",
       "      <th>Pclass</th>\n",
       "      <th>Age</th>\n",
       "      <th>SibSp</th>\n",
       "      <th>Parch</th>\n",
       "      <th>Fare</th>\n",
       "    </tr>\n",
       "  </thead>\n",
       "  <tbody>\n",
       "    <tr>\n",
       "      <th>PassengerId</th>\n",
       "      <td>1.000000</td>\n",
       "      <td>-0.026751</td>\n",
       "      <td>-0.031520</td>\n",
       "      <td>0.003818</td>\n",
       "      <td>0.043080</td>\n",
       "      <td>0.008921</td>\n",
       "    </tr>\n",
       "    <tr>\n",
       "      <th>Pclass</th>\n",
       "      <td>-0.026751</td>\n",
       "      <td>1.000000</td>\n",
       "      <td>-0.445880</td>\n",
       "      <td>0.001087</td>\n",
       "      <td>0.018721</td>\n",
       "      <td>-0.577673</td>\n",
       "    </tr>\n",
       "    <tr>\n",
       "      <th>Age</th>\n",
       "      <td>-0.031520</td>\n",
       "      <td>-0.445880</td>\n",
       "      <td>1.000000</td>\n",
       "      <td>-0.078488</td>\n",
       "      <td>-0.044150</td>\n",
       "      <td>0.325569</td>\n",
       "    </tr>\n",
       "    <tr>\n",
       "      <th>SibSp</th>\n",
       "      <td>0.003818</td>\n",
       "      <td>0.001087</td>\n",
       "      <td>-0.078488</td>\n",
       "      <td>1.000000</td>\n",
       "      <td>0.306895</td>\n",
       "      <td>0.172167</td>\n",
       "    </tr>\n",
       "    <tr>\n",
       "      <th>Parch</th>\n",
       "      <td>0.043080</td>\n",
       "      <td>0.018721</td>\n",
       "      <td>-0.044150</td>\n",
       "      <td>0.306895</td>\n",
       "      <td>1.000000</td>\n",
       "      <td>0.230501</td>\n",
       "    </tr>\n",
       "    <tr>\n",
       "      <th>Fare</th>\n",
       "      <td>0.008921</td>\n",
       "      <td>-0.577673</td>\n",
       "      <td>0.325569</td>\n",
       "      <td>0.172167</td>\n",
       "      <td>0.230501</td>\n",
       "      <td>1.000000</td>\n",
       "    </tr>\n",
       "  </tbody>\n",
       "</table>\n",
       "</div>"
      ],
      "text/plain": [
       "             PassengerId    Pclass       Age     SibSp     Parch      Fare\n",
       "PassengerId     1.000000 -0.026751 -0.031520  0.003818  0.043080  0.008921\n",
       "Pclass         -0.026751  1.000000 -0.445880  0.001087  0.018721 -0.577673\n",
       "Age            -0.031520 -0.445880  1.000000 -0.078488 -0.044150  0.325569\n",
       "SibSp           0.003818  0.001087 -0.078488  1.000000  0.306895  0.172167\n",
       "Parch           0.043080  0.018721 -0.044150  0.306895  1.000000  0.230501\n",
       "Fare            0.008921 -0.577673  0.325569  0.172167  0.230501  1.000000"
      ]
     },
     "execution_count": 121,
     "metadata": {},
     "output_type": "execute_result"
    }
   ],
   "source": [
    "testName.corr()"
   ]
  },
  {
   "cell_type": "code",
   "execution_count": 122,
   "metadata": {},
   "outputs": [
    {
     "data": {
      "text/plain": [
       "BaggingRegressor(base_estimator=SVR(C=1.0, cache_size=200, coef0=0.0, degree=3, epsilon=0.1, gamma='auto',\n",
       "  kernel='rbf', max_iter=-1, shrinking=True, tol=0.001, verbose=False),\n",
       "         bootstrap=True, bootstrap_features=False, max_features=1.0,\n",
       "         max_samples=0.8, n_estimators=10, n_jobs=-1, oob_score=False,\n",
       "         random_state=None, verbose=0, warm_start=False)"
      ]
     },
     "execution_count": 122,
     "metadata": {},
     "output_type": "execute_result"
    }
   ],
   "source": [
    "testFare = testName[['Pclass', 'Age', 'SibSp', 'Parch', 'Ticket', 'Fare']]\n",
    "\n",
    "test_dummies_Pclass = pd.get_dummies(testFare.Pclass, prefix='Pclass')\n",
    "test_dummies_SibSp = pd.get_dummies(testFare.SibSp, prefix='SibSp')\n",
    "test_dummies_Parch = pd.get_dummies(testFare.Parch, prefix='Parch')\n",
    "test_dummies_Ticket = pd.get_dummies(testFare.Ticket, prefix='Ticket')\n",
    "\n",
    "scaler = StandardScaler()\n",
    "testFare.insert(0, 'Age_Scaled', scaler.fit_transform(testFare.Age[:, np.newaxis]))\n",
    "\n",
    "testFare_concated = pd.concat([test_dummies_Pclass, test_dummies_SibSp,\n",
    "                               test_dummies_Parch, test_dummies_Ticket, testFare], axis=1)\n",
    "                               \n",
    "test_fare_final = testFare_concated.drop(['Pclass', 'Age', 'SibSp', 'Parch', 'Ticket'], axis=1)\n",
    "\n",
    "test_known_fare = test_fare_final[test_fare_final.index != 152]\n",
    "test_unknown_fare = test_fare_final[test_fare_final.index == 152]\n",
    "\n",
    "X_testFare_train = test_known_fare.as_matrix()[:, :-1]\n",
    "y_testFare_train = test_known_fare.as_matrix()[:, -1]\n",
    "X_testFare_predict = test_unknown_fare.as_matrix()[:, :-1]\n",
    "\n",
    "rfrtestFare = RandomForestRegressor(n_estimators=2000, n_jobs=-1)\n",
    "rfrtestFare.fit(X_testFare_train, y_testFare_train)\n",
    "\n",
    "baggingtestsvrFare = BaggingRegressor(SVR(), n_estimators=10, max_samples=0.8, \n",
    "                                    max_features=1.0, bootstrap=True, bootstrap_features=False, n_jobs=-1)\n",
    "baggingtestsvrFare.fit(X_testFare_train, y_testFare_train)"
   ]
  },
  {
   "cell_type": "code",
   "execution_count": 123,
   "metadata": {},
   "outputs": [],
   "source": [
    "val_scoretestFare_rfr, val_predicttestFare_rfr, val_splittestFare_test_rfr = cross_validate_score_for_discrete_values(rfrtestFare, test_known_fare, 0.3)"
   ]
  },
  {
   "cell_type": "code",
   "execution_count": 124,
   "metadata": {},
   "outputs": [
    {
     "data": {
      "text/plain": [
       "-0.7039203734552142"
      ]
     },
     "execution_count": 124,
     "metadata": {},
     "output_type": "execute_result"
    }
   ],
   "source": [
    "val_scoretestFare_rfr"
   ]
  },
  {
   "cell_type": "code",
   "execution_count": 125,
   "metadata": {},
   "outputs": [],
   "source": [
    "val_scoretestFare_baggingsvr, val_predicttestFare_baggingsvr, val_splittestFare_test_baggingsvr = cross_validate_score_for_discrete_values(baggingtestsvrFare, test_known_fare, 0.3)"
   ]
  },
  {
   "cell_type": "code",
   "execution_count": 126,
   "metadata": {},
   "outputs": [
    {
     "data": {
      "text/plain": [
       "-0.3404976999070919"
      ]
     },
     "execution_count": 126,
     "metadata": {},
     "output_type": "execute_result"
    }
   ],
   "source": [
    "val_scoretestFare_baggingsvr"
   ]
  },
  {
   "cell_type": "code",
   "execution_count": 127,
   "metadata": {},
   "outputs": [
    {
     "data": {
      "text/plain": [
       "array([46.87668329])"
      ]
     },
     "execution_count": 127,
     "metadata": {},
     "output_type": "execute_result"
    }
   ],
   "source": [
    "baggingtestsvrFare.predict(X_testFare_predict)"
   ]
  },
  {
   "cell_type": "code",
   "execution_count": 128,
   "metadata": {},
   "outputs": [],
   "source": [
    "testpredictFare = baggingtestsvrFare.predict(X_testFare_predict)"
   ]
  },
  {
   "cell_type": "code",
   "execution_count": 129,
   "metadata": {
    "scrolled": false
   },
   "outputs": [],
   "source": [
    "testName.loc[152, 'Fare'] = testpredictFare[0]"
   ]
  },
  {
   "cell_type": "code",
   "execution_count": 130,
   "metadata": {},
   "outputs": [],
   "source": [
    "# 终于到预测了\n",
    "\n",
    "# 先对测试集数据进行预处理\n",
    "# 取出有用特征\n",
    "testSurvived = testName[['Pclass', 'SibSp', 'Parch', 'Sex', 'Cabin', 'Embarked', 'Age', 'Fare']]\n",
    "\n",
    "# 离散化类别特征\n",
    "test_dummies_Pclass = pd.get_dummies(testSurvived.Pclass, prefix='Pclass')\n",
    "test_dummies_SibSp = pd.get_dummies(testSurvived.SibSp, prefix='SibSp')\n",
    "test_dummies_Parch = pd.get_dummies(testSurvived.Parch, prefix='Parch')\n",
    "test_dummies_Sex = pd.get_dummies(testSurvived.Sex, prefix='Sex')\n",
    "test_dummies_Cabin_Embarked = pd.get_dummies(testSurvived[['Cabin', 'Embarked']])\n",
    "\n",
    "# 标准化数值型特征\n",
    "scalertestSurvived = StandardScaler()\n",
    "testSurvived.insert(0, 'Age_Scaled', scalertestSurvived.fit_transform(testSurvived['Age'][:, np.newaxis]))\n",
    "testSurvived.insert(1, 'Fare_Scaled', scalertestSurvived.fit_transform(testSurvived['Fare'][:, np.newaxis]))\n",
    "\n",
    "# 合并数据\n",
    "testSurvived_concated = pd.concat([test_dummies_Pclass, test_dummies_SibSp, test_dummies_Parch,\n",
    "                           test_dummies_Sex, test_dummies_Cabin_Embarked, testSurvived], axis=1)\n",
    "test_final = testSurvived_concated.drop(['Pclass', 'SibSp', 'Parch', 'Sex', 'Cabin', 'Embarked', 'Age', 'Fare'], axis=1)\n",
    "\n",
    "\n",
    "# 取出测试集的X和y\n",
    "X_test = test_final.as_matrix()\n",
    "\n",
    "# 预测测试集数据\n",
    "testPredict = lrSurvived.predict(X_test)"
   ]
  },
  {
   "cell_type": "code",
   "execution_count": 131,
   "metadata": {},
   "outputs": [
    {
     "name": "stdout",
     "output_type": "stream",
     "text": [
      "<class 'pandas.core.frame.DataFrame'>\n",
      "Int64Index: 891 entries, 0 to 890\n",
      "Data columns (total 28 columns):\n",
      "Pclass_1       891 non-null uint8\n",
      "Pclass_2       891 non-null uint8\n",
      "Pclass_3       891 non-null uint8\n",
      "SibSp_0        891 non-null uint8\n",
      "SibSp_1        891 non-null uint8\n",
      "SibSp_2        891 non-null uint8\n",
      "SibSp_3        891 non-null uint8\n",
      "SibSp_4        891 non-null uint8\n",
      "SibSp_5        891 non-null uint8\n",
      "SibSp_8        891 non-null uint8\n",
      "Parch_0        891 non-null uint8\n",
      "Parch_1        891 non-null uint8\n",
      "Parch_2        891 non-null uint8\n",
      "Parch_3        891 non-null uint8\n",
      "Parch_4        891 non-null uint8\n",
      "Parch_5        891 non-null uint8\n",
      "Parch_6        891 non-null uint8\n",
      "Parch_9        891 non-null int64\n",
      "Sex_female     891 non-null uint8\n",
      "Sex_male       891 non-null uint8\n",
      "Cabin_No       891 non-null uint8\n",
      "Cabin_Yes      891 non-null uint8\n",
      "Embarked_C     891 non-null uint8\n",
      "Embarked_Q     891 non-null uint8\n",
      "Embarked_S     891 non-null uint8\n",
      "Age_Scaled     891 non-null float64\n",
      "Fare_Scaled    891 non-null float64\n",
      "Survived       891 non-null int64\n",
      "dtypes: float64(2), int64(2), uint8(24)\n",
      "memory usage: 55.7 KB\n"
     ]
    }
   ],
   "source": [
    "train_final.info()"
   ]
  },
  {
   "cell_type": "code",
   "execution_count": 132,
   "metadata": {},
   "outputs": [
    {
     "name": "stdout",
     "output_type": "stream",
     "text": [
      "<class 'pandas.core.frame.DataFrame'>\n",
      "Int64Index: 418 entries, 1 to 417\n",
      "Data columns (total 27 columns):\n",
      "Pclass_1       418 non-null uint8\n",
      "Pclass_2       418 non-null uint8\n",
      "Pclass_3       418 non-null uint8\n",
      "SibSp_0        418 non-null uint8\n",
      "SibSp_1        418 non-null uint8\n",
      "SibSp_2        418 non-null uint8\n",
      "SibSp_3        418 non-null uint8\n",
      "SibSp_4        418 non-null uint8\n",
      "SibSp_5        418 non-null uint8\n",
      "SibSp_8        418 non-null uint8\n",
      "Parch_0        418 non-null uint8\n",
      "Parch_1        418 non-null uint8\n",
      "Parch_2        418 non-null uint8\n",
      "Parch_3        418 non-null uint8\n",
      "Parch_4        418 non-null uint8\n",
      "Parch_5        418 non-null uint8\n",
      "Parch_6        418 non-null uint8\n",
      "Parch_9        418 non-null uint8\n",
      "Sex_female     418 non-null uint8\n",
      "Sex_male       418 non-null uint8\n",
      "Cabin_No       418 non-null uint8\n",
      "Cabin_Yes      418 non-null uint8\n",
      "Embarked_C     418 non-null uint8\n",
      "Embarked_Q     418 non-null uint8\n",
      "Embarked_S     418 non-null uint8\n",
      "Age_Scaled     418 non-null float64\n",
      "Fare_Scaled    418 non-null float64\n",
      "dtypes: float64(2), uint8(25)\n",
      "memory usage: 40.0 KB\n"
     ]
    }
   ],
   "source": [
    "test_final.info()"
   ]
  },
  {
   "cell_type": "markdown",
   "metadata": {},
   "source": [
    "我们可以看到test测试集中有Parch是9个的乘客，而训练集中并没有，我们来看下这个字段的数据："
   ]
  },
  {
   "cell_type": "code",
   "execution_count": 133,
   "metadata": {},
   "outputs": [
    {
     "data": {
      "text/plain": [
       "0    891\n",
       "Name: Parch_9, dtype: int64"
      ]
     },
     "execution_count": 133,
     "metadata": {},
     "output_type": "execute_result"
    }
   ],
   "source": [
    "train_final.Parch_9.value_counts()"
   ]
  },
  {
   "cell_type": "code",
   "execution_count": 134,
   "metadata": {},
   "outputs": [
    {
     "data": {
      "text/plain": [
       "0    416\n",
       "1      2\n",
       "Name: Parch_9, dtype: int64"
      ]
     },
     "execution_count": 134,
     "metadata": {},
     "output_type": "execute_result"
    }
   ],
   "source": [
    "test_final.Parch_9.value_counts()"
   ]
  },
  {
   "cell_type": "markdown",
   "metadata": {},
   "source": [
    "共有两位乘客，是有9个家庭成员的，而在训练集中并没有，该如何办呢，是在训练集中添加一列呢，还是把这里字段删除掉呢，我们都可以试下！！"
   ]
  },
  {
   "cell_type": "code",
   "execution_count": 135,
   "metadata": {
    "scrolled": false
   },
   "outputs": [
    {
     "data": {
      "text/html": [
       "<div>\n",
       "<style scoped>\n",
       "    .dataframe tbody tr th:only-of-type {\n",
       "        vertical-align: middle;\n",
       "    }\n",
       "\n",
       "    .dataframe tbody tr th {\n",
       "        vertical-align: top;\n",
       "    }\n",
       "\n",
       "    .dataframe thead th {\n",
       "        text-align: right;\n",
       "    }\n",
       "</style>\n",
       "<table border=\"1\" class=\"dataframe\">\n",
       "  <thead>\n",
       "    <tr style=\"text-align: right;\">\n",
       "      <th></th>\n",
       "      <th>PassengerId</th>\n",
       "      <th>Pclass</th>\n",
       "      <th>Name</th>\n",
       "      <th>Sex</th>\n",
       "      <th>Age</th>\n",
       "      <th>SibSp</th>\n",
       "      <th>Parch</th>\n",
       "      <th>Ticket</th>\n",
       "      <th>Fare</th>\n",
       "      <th>Cabin</th>\n",
       "      <th>Embarked</th>\n",
       "      <th>Survived</th>\n",
       "    </tr>\n",
       "  </thead>\n",
       "  <tbody>\n",
       "    <tr>\n",
       "      <th>0</th>\n",
       "      <td>892</td>\n",
       "      <td>3</td>\n",
       "      <td>Mr</td>\n",
       "      <td>male</td>\n",
       "      <td>34.5</td>\n",
       "      <td>0</td>\n",
       "      <td>0</td>\n",
       "      <td>330911</td>\n",
       "      <td>7.8292</td>\n",
       "      <td>No</td>\n",
       "      <td>Q</td>\n",
       "      <td>0</td>\n",
       "    </tr>\n",
       "    <tr>\n",
       "      <th>1</th>\n",
       "      <td>893</td>\n",
       "      <td>3</td>\n",
       "      <td>Mrs</td>\n",
       "      <td>female</td>\n",
       "      <td>47.0</td>\n",
       "      <td>1</td>\n",
       "      <td>0</td>\n",
       "      <td>363272</td>\n",
       "      <td>7.0000</td>\n",
       "      <td>No</td>\n",
       "      <td>S</td>\n",
       "      <td>1</td>\n",
       "    </tr>\n",
       "    <tr>\n",
       "      <th>2</th>\n",
       "      <td>894</td>\n",
       "      <td>2</td>\n",
       "      <td>Mr</td>\n",
       "      <td>male</td>\n",
       "      <td>62.0</td>\n",
       "      <td>0</td>\n",
       "      <td>0</td>\n",
       "      <td>240276</td>\n",
       "      <td>9.6875</td>\n",
       "      <td>No</td>\n",
       "      <td>Q</td>\n",
       "      <td>1</td>\n",
       "    </tr>\n",
       "    <tr>\n",
       "      <th>3</th>\n",
       "      <td>895</td>\n",
       "      <td>3</td>\n",
       "      <td>Mr</td>\n",
       "      <td>male</td>\n",
       "      <td>27.0</td>\n",
       "      <td>0</td>\n",
       "      <td>0</td>\n",
       "      <td>315154</td>\n",
       "      <td>8.6625</td>\n",
       "      <td>No</td>\n",
       "      <td>S</td>\n",
       "      <td>1</td>\n",
       "    </tr>\n",
       "    <tr>\n",
       "      <th>4</th>\n",
       "      <td>896</td>\n",
       "      <td>3</td>\n",
       "      <td>Mrs</td>\n",
       "      <td>female</td>\n",
       "      <td>22.0</td>\n",
       "      <td>1</td>\n",
       "      <td>1</td>\n",
       "      <td>3101298</td>\n",
       "      <td>12.2875</td>\n",
       "      <td>No</td>\n",
       "      <td>S</td>\n",
       "      <td>1</td>\n",
       "    </tr>\n",
       "  </tbody>\n",
       "</table>\n",
       "</div>"
      ],
      "text/plain": [
       "   PassengerId  Pclass Name     Sex   Age  SibSp  Parch   Ticket     Fare  \\\n",
       "0          892       3   Mr    male  34.5      0      0   330911   7.8292   \n",
       "1          893       3  Mrs  female  47.0      1      0   363272   7.0000   \n",
       "2          894       2   Mr    male  62.0      0      0   240276   9.6875   \n",
       "3          895       3   Mr    male  27.0      0      0   315154   8.6625   \n",
       "4          896       3  Mrs  female  22.0      1      1  3101298  12.2875   \n",
       "\n",
       "  Cabin Embarked  Survived  \n",
       "0    No        Q         0  \n",
       "1    No        S         1  \n",
       "2    No        Q         1  \n",
       "3    No        S         1  \n",
       "4    No        S         1  "
      ]
     },
     "execution_count": 135,
     "metadata": {},
     "output_type": "execute_result"
    }
   ],
   "source": [
    "# 在训练集上加上Parch_9字段\n",
    "\n",
    "predictResult = pd.DataFrame({'Survived': testPredict}, dtype='int')\n",
    "result = pd.concat([testName, predictResult], axis=1)\n",
    "result.head()"
   ]
  },
  {
   "attachments": {
    "learning%20curve.png": {
     "image/png": "[encoded data removed]"
    }
   },
   "cell_type": "markdown",
   "metadata": {},
   "source": [
    "到此，我们已经能够对测试集数据进行预测了，但是显然我们不确定其训练出的模型是好是坏。模型的过拟合/欠拟合都会对预测结果产生影响！\n",
    "\n",
    "而对于过拟合的优化策略有：\n",
    "\n",
    "* 挑选出合适的特征来，使得能够在测试集上表现较佳，可以先通过验证集来验证模型性能；\n",
    "* 那如果数据过少引起的，我们可以再加入更多的数据来训练；\n",
    "\n",
    "而对于欠拟合，就是模型没有学好，一般是不断挖掘相关性特征来训练！\n",
    "\n",
    "衡量模型所处状态判定方法，有注明的Learning curve！\n",
    "\n",
    "![learning%20curve.png](attachment:learning%20curve.png)"
   ]
  },
  {
   "cell_type": "markdown",
   "metadata": {},
   "source": [
    "下面我们就来画一下这个learning curve~"
   ]
  },
  {
   "cell_type": "code",
   "execution_count": 136,
   "metadata": {},
   "outputs": [
    {
     "name": "stdout",
     "output_type": "stream",
     "text": [
      "训练集得分： 0.8207865168539327\n",
      "验证集得分： 0.8114660788208472\n",
      "期望得分： 0.8101456178103372\n",
      "模型误差： 0.025845864606649394\n"
     ]
    },
    {
     "data": {
      "image/png": "[encoded data removed]",
      "text/plain": [
       "<Figure size 1152x576 with 1 Axes>"
      ]
     },
     "metadata": {},
     "output_type": "display_data"
    }
   ],
   "source": [
    "from sklearn.model_selection import learning_curve\n",
    "\n",
    "train_sizes, train_scores, validate_scores = learning_curve(lrSurvived, X_train, y_train,\n",
    "                                                train_sizes=np.linspace(0.05, 1., 20), cv=5, n_jobs=-1,\n",
    "                                                verbose=0)\n",
    "\n",
    "# 关键参数解释：\n",
    "# estimator：要验证模型的训练器\n",
    "# X：输入特征\n",
    "# y：目标label\n",
    "# train_sizes：将输入样本数据（去掉验证集的数据）划分成多少份\n",
    "# cv：将训练数据分成几折（默认为三折）用于交叉验证，也就是其中一份为验证集，n-1为训练集数据\n",
    "# n_jobs：并行任务数，默认为1，与CPU核数相关\n",
    "\n",
    "train_scores_mean = np.mean(train_scores, axis=1)\n",
    "train_scores_std = np.std(train_scores, axis=1)\n",
    "validate_scores_mean = np.mean(validate_scores, axis=1)\n",
    "validate_scores_std = np.std(validate_scores, axis=1)\n",
    "\n",
    "midpoint = ((train_scores_mean + train_scores_std) + (validate_scores_mean - validate_scores_std)) / 2\n",
    "diff = ((train_scores_mean + train_scores_std) - (validate_scores_mean - validate_scores_std))\n",
    "\n",
    "# 绘制曲线图\n",
    "plt.figure(figsize=(16, 8), facecolor='#D5D8DC')\n",
    "\n",
    "plt.fill_between(train_sizes, train_scores_mean - train_scores_std,\n",
    "                 train_scores_mean + train_scores_std, color='b', alpha=0.1)\n",
    "plt.fill_between(train_sizes, validate_scores_mean - validate_scores_std,\n",
    "                 validate_scores_mean + validate_scores_std, color='r', alpha=0.1)\n",
    "\n",
    "plt.plot(train_sizes, train_scores_mean, 'o-', color='b')\n",
    "plt.plot(train_sizes, validate_scores_mean, 'o-', color='r')\n",
    "plt.plot(train_sizes, midpoint, 'o-', color='k')\n",
    "\n",
    "plt.xlabel('样本数', fontproperties=font)\n",
    "plt.ylabel('精度', fontproperties=font)\n",
    "plt.legend(['训练集上的得分', '验证集上的得分', '期望得分'], loc='best', prop=font)\n",
    "plt.title('学习曲线', fontproperties=font)\n",
    "plt.grid(linestyle='dashed', alpha=0.2)\n",
    "print('训练集得分：', train_scores_mean[-1])\n",
    "print('验证集得分：', validate_scores_mean[-1])\n",
    "print('期望得分：', midpoint[-1])\n",
    "print('模型误差：', diff[-1])"
   ]
  },
  {
   "cell_type": "code",
   "execution_count": 144,
   "metadata": {},
   "outputs": [
    {
     "data": {
      "text/plain": [
       "{'C': 0.5,\n",
       " 'class_weight': None,\n",
       " 'dual': False,\n",
       " 'fit_intercept': True,\n",
       " 'intercept_scaling': 1,\n",
       " 'max_iter': 100,\n",
       " 'multi_class': 'ovr',\n",
       " 'n_jobs': 1,\n",
       " 'penalty': 'l2',\n",
       " 'random_state': None,\n",
       " 'solver': 'liblinear',\n",
       " 'tol': 0.0001,\n",
       " 'verbose': 0,\n",
       " 'warm_start': False}"
      ]
     },
     "execution_count": 144,
     "metadata": {},
     "output_type": "execute_result"
    }
   ],
   "source": [
    "lrSurvived.get_params(deep=True)"
   ]
  },
  {
   "cell_type": "markdown",
   "metadata": {},
   "source": [
    "从以上曲线可以看出，模型还是处在一个比较好的状态的，泛化能力不错，没有出现过拟合，训练得分不是特别高，训练集得分和验证集得分两者最终都能够聚到一起（期望值位置）。因此，我们还可以再提高下得分，加入一些新特征~"
   ]
  },
  {
   "cell_type": "markdown",
   "metadata": {},
   "source": [
    "哪应该从哪些方面进行优化呢？\n",
    "\n",
    "* Name字段和Ticket字段（之前完全被舍弃的，现在拿过来再看看~）\n",
    "* Age字段采用连续值拟合的形式，不是很准确，无法对应到生活中的，老人和小孩应收到照顾的情况\n",
    "* 同时我们在训练模型时，要时刻检验模型好坏，要使用<font color='red'>交叉验证！</font>"
   ]
  },
  {
   "cell_type": "markdown",
   "metadata": {},
   "source": [
    "我们可以先看下模型的系数，因模型系数是与最终判定能力正相关的！"
   ]
  },
  {
   "cell_type": "code",
   "execution_count": 137,
   "metadata": {},
   "outputs": [
    {
     "data": {
      "text/html": [
       "<div>\n",
       "<style scoped>\n",
       "    .dataframe tbody tr th:only-of-type {\n",
       "        vertical-align: middle;\n",
       "    }\n",
       "\n",
       "    .dataframe tbody tr th {\n",
       "        vertical-align: top;\n",
       "    }\n",
       "\n",
       "    .dataframe thead th {\n",
       "        text-align: right;\n",
       "    }\n",
       "</style>\n",
       "<table border=\"1\" class=\"dataframe\">\n",
       "  <thead>\n",
       "    <tr style=\"text-align: right;\">\n",
       "      <th></th>\n",
       "      <th>模型特征</th>\n",
       "      <th>模型权重</th>\n",
       "    </tr>\n",
       "  </thead>\n",
       "  <tbody>\n",
       "    <tr>\n",
       "      <th>0</th>\n",
       "      <td>Pclass_1</td>\n",
       "      <td>[0.5627363811668965]</td>\n",
       "    </tr>\n",
       "    <tr>\n",
       "      <th>1</th>\n",
       "      <td>Pclass_2</td>\n",
       "      <td>[0.20604832486285968]</td>\n",
       "    </tr>\n",
       "    <tr>\n",
       "      <th>2</th>\n",
       "      <td>Pclass_3</td>\n",
       "      <td>[-0.9207891431561782]</td>\n",
       "    </tr>\n",
       "    <tr>\n",
       "      <th>3</th>\n",
       "      <td>SibSp_0</td>\n",
       "      <td>[0.7060387067421935]</td>\n",
       "    </tr>\n",
       "    <tr>\n",
       "      <th>4</th>\n",
       "      <td>SibSp_1</td>\n",
       "      <td>[0.8951201376760323]</td>\n",
       "    </tr>\n",
       "    <tr>\n",
       "      <th>5</th>\n",
       "      <td>SibSp_2</td>\n",
       "      <td>[0.2067578876239722]</td>\n",
       "    </tr>\n",
       "    <tr>\n",
       "      <th>6</th>\n",
       "      <td>SibSp_3</td>\n",
       "      <td>[-0.8196401967671827]</td>\n",
       "    </tr>\n",
       "    <tr>\n",
       "      <th>7</th>\n",
       "      <td>SibSp_4</td>\n",
       "      <td>[-0.5167979382172815]</td>\n",
       "    </tr>\n",
       "    <tr>\n",
       "      <th>8</th>\n",
       "      <td>SibSp_5</td>\n",
       "      <td>[-0.09696198108228618]</td>\n",
       "    </tr>\n",
       "    <tr>\n",
       "      <th>9</th>\n",
       "      <td>SibSp_8</td>\n",
       "      <td>[-0.526521053101861]</td>\n",
       "    </tr>\n",
       "    <tr>\n",
       "      <th>10</th>\n",
       "      <td>Parch_0</td>\n",
       "      <td>[0.1905474916576448]</td>\n",
       "    </tr>\n",
       "    <tr>\n",
       "      <th>11</th>\n",
       "      <td>Parch_1</td>\n",
       "      <td>[0.2698487052431738]</td>\n",
       "    </tr>\n",
       "    <tr>\n",
       "      <th>12</th>\n",
       "      <td>Parch_2</td>\n",
       "      <td>[-0.3211571523570205]</td>\n",
       "    </tr>\n",
       "    <tr>\n",
       "      <th>13</th>\n",
       "      <td>Parch_3</td>\n",
       "      <td>[0.19030042264042285]</td>\n",
       "    </tr>\n",
       "    <tr>\n",
       "      <th>14</th>\n",
       "      <td>Parch_4</td>\n",
       "      <td>[-0.13437267573191297]</td>\n",
       "    </tr>\n",
       "    <tr>\n",
       "      <th>15</th>\n",
       "      <td>Parch_5</td>\n",
       "      <td>[-0.16433879767707377]</td>\n",
       "    </tr>\n",
       "    <tr>\n",
       "      <th>16</th>\n",
       "      <td>Parch_6</td>\n",
       "      <td>[-0.182832430901651]</td>\n",
       "    </tr>\n",
       "    <tr>\n",
       "      <th>17</th>\n",
       "      <td>Parch_9</td>\n",
       "      <td>[0.0]</td>\n",
       "    </tr>\n",
       "    <tr>\n",
       "      <th>18</th>\n",
       "      <td>Sex_female</td>\n",
       "      <td>[1.1555528430075555]</td>\n",
       "    </tr>\n",
       "    <tr>\n",
       "      <th>19</th>\n",
       "      <td>Sex_male</td>\n",
       "      <td>[-1.3075572801339699]</td>\n",
       "    </tr>\n",
       "    <tr>\n",
       "      <th>20</th>\n",
       "      <td>Cabin_No</td>\n",
       "      <td>[-0.4622986820694367]</td>\n",
       "    </tr>\n",
       "    <tr>\n",
       "      <th>21</th>\n",
       "      <td>Cabin_Yes</td>\n",
       "      <td>[0.31029424494301483]</td>\n",
       "    </tr>\n",
       "    <tr>\n",
       "      <th>22</th>\n",
       "      <td>Embarked_C</td>\n",
       "      <td>[0.11678628864205039]</td>\n",
       "    </tr>\n",
       "    <tr>\n",
       "      <th>23</th>\n",
       "      <td>Embarked_Q</td>\n",
       "      <td>[0.06427537938361469]</td>\n",
       "    </tr>\n",
       "    <tr>\n",
       "      <th>24</th>\n",
       "      <td>Embarked_S</td>\n",
       "      <td>[-0.33306610515208274]</td>\n",
       "    </tr>\n",
       "    <tr>\n",
       "      <th>25</th>\n",
       "      <td>Age_Scaled</td>\n",
       "      <td>[-0.5511192596943233]</td>\n",
       "    </tr>\n",
       "    <tr>\n",
       "      <th>26</th>\n",
       "      <td>Fare_Scaled</td>\n",
       "      <td>[0.06041536527527804]</td>\n",
       "    </tr>\n",
       "  </tbody>\n",
       "</table>\n",
       "</div>"
      ],
      "text/plain": [
       "           模型特征                    模型权重\n",
       "0      Pclass_1    [0.5627363811668965]\n",
       "1      Pclass_2   [0.20604832486285968]\n",
       "2      Pclass_3   [-0.9207891431561782]\n",
       "3       SibSp_0    [0.7060387067421935]\n",
       "4       SibSp_1    [0.8951201376760323]\n",
       "5       SibSp_2    [0.2067578876239722]\n",
       "6       SibSp_3   [-0.8196401967671827]\n",
       "7       SibSp_4   [-0.5167979382172815]\n",
       "8       SibSp_5  [-0.09696198108228618]\n",
       "9       SibSp_8    [-0.526521053101861]\n",
       "10      Parch_0    [0.1905474916576448]\n",
       "11      Parch_1    [0.2698487052431738]\n",
       "12      Parch_2   [-0.3211571523570205]\n",
       "13      Parch_3   [0.19030042264042285]\n",
       "14      Parch_4  [-0.13437267573191297]\n",
       "15      Parch_5  [-0.16433879767707377]\n",
       "16      Parch_6    [-0.182832430901651]\n",
       "17      Parch_9                   [0.0]\n",
       "18   Sex_female    [1.1555528430075555]\n",
       "19     Sex_male   [-1.3075572801339699]\n",
       "20     Cabin_No   [-0.4622986820694367]\n",
       "21    Cabin_Yes   [0.31029424494301483]\n",
       "22   Embarked_C   [0.11678628864205039]\n",
       "23   Embarked_Q   [0.06427537938361469]\n",
       "24   Embarked_S  [-0.33306610515208274]\n",
       "25   Age_Scaled   [-0.5511192596943233]\n",
       "26  Fare_Scaled   [0.06041536527527804]"
      ]
     },
     "execution_count": 137,
     "metadata": {},
     "output_type": "execute_result"
    }
   ],
   "source": [
    "pd.DataFrame({'模型特征': test_final.columns.values, '模型权重': list(lrSurvived.coef_.T)},\n",
    "             columns=['模型特征', '模型权重'])"
   ]
  },
  {
   "cell_type": "markdown",
   "metadata": {},
   "source": [
    "我们来一一分析一下上面的系数关系：\n",
    "\n",
    "* Pclass字段：很显然一等乘客的生还率要远大于二等/三等乘客的，且三等乘客的生还率出现了负相关拉低了整体生还率；\n",
    "* SibSp字段：与之前验证的生还率随着兄弟姊妹人数增多逐一下降相对应；\n",
    "* Parch字段：也差不多，出现0个生还率低，1个变高，2个又变低，3个又变高，然后就负相关，猜想是独身时也就无牵挂了，可能会选择让其他乘客活下来，而1个的话，可能是孩子，父母，有了牵挂和压力，需要活下去，2个的话，或许是父母，孩子，有了选择，又变低了，三个，可能是一孩子，两父母...\n",
    "* Sex字段：是影响最大的，很明显，女性的生还率要远大于男性，而男性的存在反而拉低了这个概率！！\n",
    "* Cabin字段：也是有船舱号的生还率要大于没有的，没有的就是负相关\n",
    "* Embarked字段：S登船港口的生还率是负相关，C和Q则好很多\n",
    "* Age字段和Fare字段：我们可以考虑离散化处理~"
   ]
  },
  {
   "cell_type": "code",
   "execution_count": 138,
   "metadata": {},
   "outputs": [
    {
     "name": "stdout",
     "output_type": "stream",
     "text": [
      "整体数据打分情况： 0.8103424833152293\n",
      "三折验证集打分情况： 0.8171641791044776\n"
     ]
    }
   ],
   "source": [
    "from sklearn.model_selection import cross_val_score, train_test_split\n",
    "from sklearn.preprocessing import LabelEncoder\n",
    "\n",
    "le = LabelEncoder()\n",
    "    \n",
    "# 先看看全部数据的打分情况\n",
    "print('整体数据打分情况：', cross_val_score(lrSurvived, X_train, y_train, cv=5).mean())\n",
    "\n",
    "# 对样本集进行分割，进行交叉验证\n",
    "split_train, split_test = train_test_split(train_final, test_size=0.3, random_state=0)\n",
    "\n",
    "X_split_train = split_train.as_matrix()[:, :-1]\n",
    "X_split_test = split_test.as_matrix()[:, :-1]\n",
    "y_split_train = le.fit_transform(split_train.as_matrix()[:, -1])\n",
    "y_split_test = le.fit_transform(split_test.as_matrix()[:, -1])\n",
    "\n",
    "# 生成模型\n",
    "clf = LogisticRegression(C=1.0, penalty='l1', tol=1e-6)\n",
    "clf.fit(X_split_train, y_split_train)\n",
    "\n",
    "# 交叉验证\n",
    "predicts = clf.predict(X_split_test)\n",
    "print('三折验证集打分情况：', clf.score(X_split_test, y_split_test))"
   ]
  },
  {
   "cell_type": "code",
   "execution_count": 139,
   "metadata": {
    "scrolled": false
   },
   "outputs": [
    {
     "data": {
      "text/html": [
       "<div>\n",
       "<style scoped>\n",
       "    .dataframe tbody tr th:only-of-type {\n",
       "        vertical-align: middle;\n",
       "    }\n",
       "\n",
       "    .dataframe tbody tr th {\n",
       "        vertical-align: top;\n",
       "    }\n",
       "\n",
       "    .dataframe thead th {\n",
       "        text-align: right;\n",
       "    }\n",
       "</style>\n",
       "<table border=\"1\" class=\"dataframe\">\n",
       "  <thead>\n",
       "    <tr style=\"text-align: right;\">\n",
       "      <th></th>\n",
       "      <th>PassengerId</th>\n",
       "      <th>Survived</th>\n",
       "      <th>Pclass</th>\n",
       "      <th>Name</th>\n",
       "      <th>Sex</th>\n",
       "      <th>Age</th>\n",
       "      <th>SibSp</th>\n",
       "      <th>Parch</th>\n",
       "      <th>Ticket</th>\n",
       "      <th>Fare</th>\n",
       "      <th>Cabin</th>\n",
       "      <th>Embarked</th>\n",
       "    </tr>\n",
       "  </thead>\n",
       "  <tbody>\n",
       "    <tr>\n",
       "      <th>5</th>\n",
       "      <td>6</td>\n",
       "      <td>0</td>\n",
       "      <td>3</td>\n",
       "      <td>Mr</td>\n",
       "      <td>male</td>\n",
       "      <td>24.199750</td>\n",
       "      <td>0</td>\n",
       "      <td>0</td>\n",
       "      <td>330877</td>\n",
       "      <td>8.4583</td>\n",
       "      <td>No</td>\n",
       "      <td>Q</td>\n",
       "    </tr>\n",
       "    <tr>\n",
       "      <th>15</th>\n",
       "      <td>16</td>\n",
       "      <td>1</td>\n",
       "      <td>2</td>\n",
       "      <td>Mrs</td>\n",
       "      <td>female</td>\n",
       "      <td>55.000000</td>\n",
       "      <td>0</td>\n",
       "      <td>0</td>\n",
       "      <td>248706</td>\n",
       "      <td>16.0000</td>\n",
       "      <td>No</td>\n",
       "      <td>S</td>\n",
       "    </tr>\n",
       "    <tr>\n",
       "      <th>19</th>\n",
       "      <td>20</td>\n",
       "      <td>1</td>\n",
       "      <td>3</td>\n",
       "      <td>Mrs</td>\n",
       "      <td>female</td>\n",
       "      <td>27.142250</td>\n",
       "      <td>0</td>\n",
       "      <td>0</td>\n",
       "      <td>2649</td>\n",
       "      <td>7.2250</td>\n",
       "      <td>No</td>\n",
       "      <td>C</td>\n",
       "    </tr>\n",
       "    <tr>\n",
       "      <th>24</th>\n",
       "      <td>25</td>\n",
       "      <td>0</td>\n",
       "      <td>3</td>\n",
       "      <td>Miss</td>\n",
       "      <td>female</td>\n",
       "      <td>8.000000</td>\n",
       "      <td>3</td>\n",
       "      <td>1</td>\n",
       "      <td>349909</td>\n",
       "      <td>21.0750</td>\n",
       "      <td>No</td>\n",
       "      <td>S</td>\n",
       "    </tr>\n",
       "    <tr>\n",
       "      <th>33</th>\n",
       "      <td>34</td>\n",
       "      <td>0</td>\n",
       "      <td>2</td>\n",
       "      <td>Mr</td>\n",
       "      <td>male</td>\n",
       "      <td>66.000000</td>\n",
       "      <td>0</td>\n",
       "      <td>0</td>\n",
       "      <td>C.A. 24579</td>\n",
       "      <td>10.5000</td>\n",
       "      <td>No</td>\n",
       "      <td>S</td>\n",
       "    </tr>\n",
       "    <tr>\n",
       "      <th>40</th>\n",
       "      <td>41</td>\n",
       "      <td>0</td>\n",
       "      <td>3</td>\n",
       "      <td>Mrs</td>\n",
       "      <td>female</td>\n",
       "      <td>40.000000</td>\n",
       "      <td>1</td>\n",
       "      <td>0</td>\n",
       "      <td>7546</td>\n",
       "      <td>9.4750</td>\n",
       "      <td>No</td>\n",
       "      <td>S</td>\n",
       "    </tr>\n",
       "    <tr>\n",
       "      <th>50</th>\n",
       "      <td>51</td>\n",
       "      <td>0</td>\n",
       "      <td>3</td>\n",
       "      <td>Mr</td>\n",
       "      <td>male</td>\n",
       "      <td>7.000000</td>\n",
       "      <td>4</td>\n",
       "      <td>1</td>\n",
       "      <td>3101295</td>\n",
       "      <td>39.6875</td>\n",
       "      <td>No</td>\n",
       "      <td>S</td>\n",
       "    </tr>\n",
       "    <tr>\n",
       "      <th>59</th>\n",
       "      <td>60</td>\n",
       "      <td>0</td>\n",
       "      <td>3</td>\n",
       "      <td>Mr</td>\n",
       "      <td>male</td>\n",
       "      <td>11.000000</td>\n",
       "      <td>5</td>\n",
       "      <td>2</td>\n",
       "      <td>CA 2144</td>\n",
       "      <td>46.9000</td>\n",
       "      <td>No</td>\n",
       "      <td>S</td>\n",
       "    </tr>\n",
       "    <tr>\n",
       "      <th>61</th>\n",
       "      <td>62</td>\n",
       "      <td>1</td>\n",
       "      <td>1</td>\n",
       "      <td>Miss</td>\n",
       "      <td>female</td>\n",
       "      <td>38.000000</td>\n",
       "      <td>0</td>\n",
       "      <td>0</td>\n",
       "      <td>113572</td>\n",
       "      <td>80.0000</td>\n",
       "      <td>Yes</td>\n",
       "      <td>S</td>\n",
       "    </tr>\n",
       "    <tr>\n",
       "      <th>64</th>\n",
       "      <td>65</td>\n",
       "      <td>0</td>\n",
       "      <td>1</td>\n",
       "      <td>Mr</td>\n",
       "      <td>male</td>\n",
       "      <td>44.669500</td>\n",
       "      <td>0</td>\n",
       "      <td>0</td>\n",
       "      <td>PC 17605</td>\n",
       "      <td>27.7208</td>\n",
       "      <td>No</td>\n",
       "      <td>C</td>\n",
       "    </tr>\n",
       "    <tr>\n",
       "      <th>71</th>\n",
       "      <td>72</td>\n",
       "      <td>0</td>\n",
       "      <td>3</td>\n",
       "      <td>Miss</td>\n",
       "      <td>female</td>\n",
       "      <td>16.000000</td>\n",
       "      <td>5</td>\n",
       "      <td>2</td>\n",
       "      <td>CA 2144</td>\n",
       "      <td>46.9000</td>\n",
       "      <td>No</td>\n",
       "      <td>S</td>\n",
       "    </tr>\n",
       "    <tr>\n",
       "      <th>75</th>\n",
       "      <td>76</td>\n",
       "      <td>0</td>\n",
       "      <td>3</td>\n",
       "      <td>Mr</td>\n",
       "      <td>male</td>\n",
       "      <td>25.000000</td>\n",
       "      <td>0</td>\n",
       "      <td>0</td>\n",
       "      <td>348123</td>\n",
       "      <td>7.6500</td>\n",
       "      <td>Yes</td>\n",
       "      <td>S</td>\n",
       "    </tr>\n",
       "    <tr>\n",
       "      <th>81</th>\n",
       "      <td>82</td>\n",
       "      <td>1</td>\n",
       "      <td>3</td>\n",
       "      <td>Mr</td>\n",
       "      <td>male</td>\n",
       "      <td>29.000000</td>\n",
       "      <td>0</td>\n",
       "      <td>0</td>\n",
       "      <td>345779</td>\n",
       "      <td>9.5000</td>\n",
       "      <td>No</td>\n",
       "      <td>S</td>\n",
       "    </tr>\n",
       "    <tr>\n",
       "      <th>82</th>\n",
       "      <td>83</td>\n",
       "      <td>1</td>\n",
       "      <td>3</td>\n",
       "      <td>Miss</td>\n",
       "      <td>female</td>\n",
       "      <td>20.863750</td>\n",
       "      <td>0</td>\n",
       "      <td>0</td>\n",
       "      <td>330932</td>\n",
       "      <td>7.7875</td>\n",
       "      <td>No</td>\n",
       "      <td>Q</td>\n",
       "    </tr>\n",
       "    <tr>\n",
       "      <th>87</th>\n",
       "      <td>88</td>\n",
       "      <td>0</td>\n",
       "      <td>3</td>\n",
       "      <td>Mr</td>\n",
       "      <td>male</td>\n",
       "      <td>23.895250</td>\n",
       "      <td>0</td>\n",
       "      <td>0</td>\n",
       "      <td>SOTON/OQ 392086</td>\n",
       "      <td>8.0500</td>\n",
       "      <td>No</td>\n",
       "      <td>S</td>\n",
       "    </tr>\n",
       "    <tr>\n",
       "      <th>89</th>\n",
       "      <td>90</td>\n",
       "      <td>0</td>\n",
       "      <td>3</td>\n",
       "      <td>Mr</td>\n",
       "      <td>male</td>\n",
       "      <td>24.000000</td>\n",
       "      <td>0</td>\n",
       "      <td>0</td>\n",
       "      <td>343275</td>\n",
       "      <td>8.0500</td>\n",
       "      <td>No</td>\n",
       "      <td>S</td>\n",
       "    </tr>\n",
       "    <tr>\n",
       "      <th>104</th>\n",
       "      <td>105</td>\n",
       "      <td>0</td>\n",
       "      <td>3</td>\n",
       "      <td>Mr</td>\n",
       "      <td>male</td>\n",
       "      <td>37.000000</td>\n",
       "      <td>2</td>\n",
       "      <td>0</td>\n",
       "      <td>3101276</td>\n",
       "      <td>7.9250</td>\n",
       "      <td>No</td>\n",
       "      <td>S</td>\n",
       "    </tr>\n",
       "    <tr>\n",
       "      <th>112</th>\n",
       "      <td>113</td>\n",
       "      <td>0</td>\n",
       "      <td>3</td>\n",
       "      <td>Mr</td>\n",
       "      <td>male</td>\n",
       "      <td>22.000000</td>\n",
       "      <td>0</td>\n",
       "      <td>0</td>\n",
       "      <td>324669</td>\n",
       "      <td>8.0500</td>\n",
       "      <td>No</td>\n",
       "      <td>S</td>\n",
       "    </tr>\n",
       "    <tr>\n",
       "      <th>113</th>\n",
       "      <td>114</td>\n",
       "      <td>0</td>\n",
       "      <td>3</td>\n",
       "      <td>Miss</td>\n",
       "      <td>female</td>\n",
       "      <td>20.000000</td>\n",
       "      <td>1</td>\n",
       "      <td>0</td>\n",
       "      <td>4136</td>\n",
       "      <td>9.8250</td>\n",
       "      <td>No</td>\n",
       "      <td>S</td>\n",
       "    </tr>\n",
       "    <tr>\n",
       "      <th>114</th>\n",
       "      <td>115</td>\n",
       "      <td>0</td>\n",
       "      <td>3</td>\n",
       "      <td>Miss</td>\n",
       "      <td>female</td>\n",
       "      <td>17.000000</td>\n",
       "      <td>0</td>\n",
       "      <td>0</td>\n",
       "      <td>2627</td>\n",
       "      <td>14.4583</td>\n",
       "      <td>No</td>\n",
       "      <td>C</td>\n",
       "    </tr>\n",
       "    <tr>\n",
       "      <th>120</th>\n",
       "      <td>121</td>\n",
       "      <td>0</td>\n",
       "      <td>2</td>\n",
       "      <td>Mr</td>\n",
       "      <td>male</td>\n",
       "      <td>21.000000</td>\n",
       "      <td>2</td>\n",
       "      <td>0</td>\n",
       "      <td>S.O.C. 14879</td>\n",
       "      <td>73.5000</td>\n",
       "      <td>No</td>\n",
       "      <td>S</td>\n",
       "    </tr>\n",
       "    <tr>\n",
       "      <th>127</th>\n",
       "      <td>128</td>\n",
       "      <td>1</td>\n",
       "      <td>3</td>\n",
       "      <td>Mr</td>\n",
       "      <td>male</td>\n",
       "      <td>24.000000</td>\n",
       "      <td>0</td>\n",
       "      <td>0</td>\n",
       "      <td>C 17369</td>\n",
       "      <td>7.1417</td>\n",
       "      <td>No</td>\n",
       "      <td>S</td>\n",
       "    </tr>\n",
       "    <tr>\n",
       "      <th>130</th>\n",
       "      <td>131</td>\n",
       "      <td>0</td>\n",
       "      <td>3</td>\n",
       "      <td>Mr</td>\n",
       "      <td>male</td>\n",
       "      <td>33.000000</td>\n",
       "      <td>0</td>\n",
       "      <td>0</td>\n",
       "      <td>349241</td>\n",
       "      <td>7.8958</td>\n",
       "      <td>No</td>\n",
       "      <td>C</td>\n",
       "    </tr>\n",
       "    <tr>\n",
       "      <th>133</th>\n",
       "      <td>134</td>\n",
       "      <td>1</td>\n",
       "      <td>2</td>\n",
       "      <td>Mrs</td>\n",
       "      <td>female</td>\n",
       "      <td>29.000000</td>\n",
       "      <td>1</td>\n",
       "      <td>0</td>\n",
       "      <td>228414</td>\n",
       "      <td>26.0000</td>\n",
       "      <td>No</td>\n",
       "      <td>S</td>\n",
       "    </tr>\n",
       "    <tr>\n",
       "      <th>143</th>\n",
       "      <td>144</td>\n",
       "      <td>0</td>\n",
       "      <td>3</td>\n",
       "      <td>Mr</td>\n",
       "      <td>male</td>\n",
       "      <td>19.000000</td>\n",
       "      <td>0</td>\n",
       "      <td>0</td>\n",
       "      <td>365222</td>\n",
       "      <td>6.7500</td>\n",
       "      <td>No</td>\n",
       "      <td>Q</td>\n",
       "    </tr>\n",
       "    <tr>\n",
       "      <th>145</th>\n",
       "      <td>146</td>\n",
       "      <td>0</td>\n",
       "      <td>2</td>\n",
       "      <td>Mr</td>\n",
       "      <td>male</td>\n",
       "      <td>19.000000</td>\n",
       "      <td>1</td>\n",
       "      <td>1</td>\n",
       "      <td>C.A. 33112</td>\n",
       "      <td>36.7500</td>\n",
       "      <td>No</td>\n",
       "      <td>S</td>\n",
       "    </tr>\n",
       "    <tr>\n",
       "      <th>157</th>\n",
       "      <td>158</td>\n",
       "      <td>0</td>\n",
       "      <td>3</td>\n",
       "      <td>Mr</td>\n",
       "      <td>male</td>\n",
       "      <td>30.000000</td>\n",
       "      <td>0</td>\n",
       "      <td>0</td>\n",
       "      <td>SOTON/OQ 392090</td>\n",
       "      <td>8.0500</td>\n",
       "      <td>No</td>\n",
       "      <td>S</td>\n",
       "    </tr>\n",
       "    <tr>\n",
       "      <th>158</th>\n",
       "      <td>159</td>\n",
       "      <td>0</td>\n",
       "      <td>3</td>\n",
       "      <td>Mr</td>\n",
       "      <td>male</td>\n",
       "      <td>22.666250</td>\n",
       "      <td>0</td>\n",
       "      <td>0</td>\n",
       "      <td>315037</td>\n",
       "      <td>8.6625</td>\n",
       "      <td>No</td>\n",
       "      <td>S</td>\n",
       "    </tr>\n",
       "    <tr>\n",
       "      <th>161</th>\n",
       "      <td>162</td>\n",
       "      <td>1</td>\n",
       "      <td>2</td>\n",
       "      <td>Mrs</td>\n",
       "      <td>female</td>\n",
       "      <td>40.000000</td>\n",
       "      <td>0</td>\n",
       "      <td>0</td>\n",
       "      <td>C.A. 33595</td>\n",
       "      <td>15.7500</td>\n",
       "      <td>No</td>\n",
       "      <td>S</td>\n",
       "    </tr>\n",
       "    <tr>\n",
       "      <th>163</th>\n",
       "      <td>164</td>\n",
       "      <td>0</td>\n",
       "      <td>3</td>\n",
       "      <td>Mr</td>\n",
       "      <td>male</td>\n",
       "      <td>17.000000</td>\n",
       "      <td>0</td>\n",
       "      <td>0</td>\n",
       "      <td>315093</td>\n",
       "      <td>8.6625</td>\n",
       "      <td>No</td>\n",
       "      <td>S</td>\n",
       "    </tr>\n",
       "    <tr>\n",
       "      <th>179</th>\n",
       "      <td>180</td>\n",
       "      <td>0</td>\n",
       "      <td>3</td>\n",
       "      <td>Mr</td>\n",
       "      <td>male</td>\n",
       "      <td>36.000000</td>\n",
       "      <td>0</td>\n",
       "      <td>0</td>\n",
       "      <td>LINE</td>\n",
       "      <td>0.0000</td>\n",
       "      <td>No</td>\n",
       "      <td>S</td>\n",
       "    </tr>\n",
       "    <tr>\n",
       "      <th>190</th>\n",
       "      <td>191</td>\n",
       "      <td>1</td>\n",
       "      <td>2</td>\n",
       "      <td>Mrs</td>\n",
       "      <td>female</td>\n",
       "      <td>32.000000</td>\n",
       "      <td>0</td>\n",
       "      <td>0</td>\n",
       "      <td>234604</td>\n",
       "      <td>13.0000</td>\n",
       "      <td>No</td>\n",
       "      <td>S</td>\n",
       "    </tr>\n",
       "    <tr>\n",
       "      <th>191</th>\n",
       "      <td>192</td>\n",
       "      <td>0</td>\n",
       "      <td>2</td>\n",
       "      <td>Mr</td>\n",
       "      <td>male</td>\n",
       "      <td>19.000000</td>\n",
       "      <td>0</td>\n",
       "      <td>0</td>\n",
       "      <td>28424</td>\n",
       "      <td>13.0000</td>\n",
       "      <td>No</td>\n",
       "      <td>S</td>\n",
       "    </tr>\n",
       "    <tr>\n",
       "      <th>198</th>\n",
       "      <td>199</td>\n",
       "      <td>1</td>\n",
       "      <td>3</td>\n",
       "      <td>Miss</td>\n",
       "      <td>female</td>\n",
       "      <td>19.751000</td>\n",
       "      <td>0</td>\n",
       "      <td>0</td>\n",
       "      <td>370370</td>\n",
       "      <td>7.7500</td>\n",
       "      <td>No</td>\n",
       "      <td>Q</td>\n",
       "    </tr>\n",
       "    <tr>\n",
       "      <th>200</th>\n",
       "      <td>201</td>\n",
       "      <td>0</td>\n",
       "      <td>3</td>\n",
       "      <td>Mr</td>\n",
       "      <td>male</td>\n",
       "      <td>28.000000</td>\n",
       "      <td>0</td>\n",
       "      <td>0</td>\n",
       "      <td>345770</td>\n",
       "      <td>9.5000</td>\n",
       "      <td>No</td>\n",
       "      <td>S</td>\n",
       "    </tr>\n",
       "    <tr>\n",
       "      <th>201</th>\n",
       "      <td>202</td>\n",
       "      <td>0</td>\n",
       "      <td>3</td>\n",
       "      <td>Mr</td>\n",
       "      <td>male</td>\n",
       "      <td>12.977335</td>\n",
       "      <td>8</td>\n",
       "      <td>2</td>\n",
       "      <td>CA. 2343</td>\n",
       "      <td>69.5500</td>\n",
       "      <td>No</td>\n",
       "      <td>S</td>\n",
       "    </tr>\n",
       "    <tr>\n",
       "      <th>204</th>\n",
       "      <td>205</td>\n",
       "      <td>1</td>\n",
       "      <td>3</td>\n",
       "      <td>Mr</td>\n",
       "      <td>male</td>\n",
       "      <td>18.000000</td>\n",
       "      <td>0</td>\n",
       "      <td>0</td>\n",
       "      <td>A/5 3540</td>\n",
       "      <td>8.0500</td>\n",
       "      <td>No</td>\n",
       "      <td>S</td>\n",
       "    </tr>\n",
       "    <tr>\n",
       "      <th>206</th>\n",
       "      <td>207</td>\n",
       "      <td>0</td>\n",
       "      <td>3</td>\n",
       "      <td>Mr</td>\n",
       "      <td>male</td>\n",
       "      <td>32.000000</td>\n",
       "      <td>1</td>\n",
       "      <td>0</td>\n",
       "      <td>3101278</td>\n",
       "      <td>15.8500</td>\n",
       "      <td>No</td>\n",
       "      <td>S</td>\n",
       "    </tr>\n",
       "    <tr>\n",
       "      <th>211</th>\n",
       "      <td>212</td>\n",
       "      <td>1</td>\n",
       "      <td>2</td>\n",
       "      <td>Miss</td>\n",
       "      <td>female</td>\n",
       "      <td>35.000000</td>\n",
       "      <td>0</td>\n",
       "      <td>0</td>\n",
       "      <td>F.C.C. 13528</td>\n",
       "      <td>21.0000</td>\n",
       "      <td>No</td>\n",
       "      <td>S</td>\n",
       "    </tr>\n",
       "    <tr>\n",
       "      <th>213</th>\n",
       "      <td>214</td>\n",
       "      <td>0</td>\n",
       "      <td>2</td>\n",
       "      <td>Mr</td>\n",
       "      <td>male</td>\n",
       "      <td>30.000000</td>\n",
       "      <td>0</td>\n",
       "      <td>0</td>\n",
       "      <td>250646</td>\n",
       "      <td>13.0000</td>\n",
       "      <td>No</td>\n",
       "      <td>S</td>\n",
       "    </tr>\n",
       "    <tr>\n",
       "      <th>217</th>\n",
       "      <td>218</td>\n",
       "      <td>0</td>\n",
       "      <td>2</td>\n",
       "      <td>Mr</td>\n",
       "      <td>male</td>\n",
       "      <td>42.000000</td>\n",
       "      <td>1</td>\n",
       "      <td>0</td>\n",
       "      <td>243847</td>\n",
       "      <td>27.0000</td>\n",
       "      <td>No</td>\n",
       "      <td>S</td>\n",
       "    </tr>\n",
       "    <tr>\n",
       "      <th>224</th>\n",
       "      <td>225</td>\n",
       "      <td>1</td>\n",
       "      <td>1</td>\n",
       "      <td>Mr</td>\n",
       "      <td>male</td>\n",
       "      <td>38.000000</td>\n",
       "      <td>1</td>\n",
       "      <td>0</td>\n",
       "      <td>19943</td>\n",
       "      <td>90.0000</td>\n",
       "      <td>Yes</td>\n",
       "      <td>S</td>\n",
       "    </tr>\n",
       "    <tr>\n",
       "      <th>228</th>\n",
       "      <td>229</td>\n",
       "      <td>0</td>\n",
       "      <td>2</td>\n",
       "      <td>Mr</td>\n",
       "      <td>male</td>\n",
       "      <td>18.000000</td>\n",
       "      <td>0</td>\n",
       "      <td>0</td>\n",
       "      <td>236171</td>\n",
       "      <td>13.0000</td>\n",
       "      <td>No</td>\n",
       "      <td>S</td>\n",
       "    </tr>\n",
       "    <tr>\n",
       "      <th>233</th>\n",
       "      <td>234</td>\n",
       "      <td>1</td>\n",
       "      <td>3</td>\n",
       "      <td>Miss</td>\n",
       "      <td>female</td>\n",
       "      <td>5.000000</td>\n",
       "      <td>4</td>\n",
       "      <td>2</td>\n",
       "      <td>347077</td>\n",
       "      <td>31.3875</td>\n",
       "      <td>No</td>\n",
       "      <td>S</td>\n",
       "    </tr>\n",
       "    <tr>\n",
       "      <th>245</th>\n",
       "      <td>246</td>\n",
       "      <td>0</td>\n",
       "      <td>1</td>\n",
       "      <td>Mr</td>\n",
       "      <td>male</td>\n",
       "      <td>44.000000</td>\n",
       "      <td>2</td>\n",
       "      <td>0</td>\n",
       "      <td>19928</td>\n",
       "      <td>90.0000</td>\n",
       "      <td>Yes</td>\n",
       "      <td>Q</td>\n",
       "    </tr>\n",
       "    <tr>\n",
       "      <th>246</th>\n",
       "      <td>247</td>\n",
       "      <td>0</td>\n",
       "      <td>3</td>\n",
       "      <td>Miss</td>\n",
       "      <td>female</td>\n",
       "      <td>25.000000</td>\n",
       "      <td>0</td>\n",
       "      <td>0</td>\n",
       "      <td>347071</td>\n",
       "      <td>7.7750</td>\n",
       "      <td>No</td>\n",
       "      <td>S</td>\n",
       "    </tr>\n",
       "    <tr>\n",
       "      <th>255</th>\n",
       "      <td>256</td>\n",
       "      <td>1</td>\n",
       "      <td>3</td>\n",
       "      <td>Mrs</td>\n",
       "      <td>female</td>\n",
       "      <td>29.000000</td>\n",
       "      <td>0</td>\n",
       "      <td>2</td>\n",
       "      <td>2650</td>\n",
       "      <td>15.2458</td>\n",
       "      <td>No</td>\n",
       "      <td>C</td>\n",
       "    </tr>\n",
       "    <tr>\n",
       "      <th>257</th>\n",
       "      <td>258</td>\n",
       "      <td>1</td>\n",
       "      <td>1</td>\n",
       "      <td>Miss</td>\n",
       "      <td>female</td>\n",
       "      <td>30.000000</td>\n",
       "      <td>0</td>\n",
       "      <td>0</td>\n",
       "      <td>110152</td>\n",
       "      <td>86.5000</td>\n",
       "      <td>Yes</td>\n",
       "      <td>S</td>\n",
       "    </tr>\n",
       "    <tr>\n",
       "      <th>258</th>\n",
       "      <td>259</td>\n",
       "      <td>1</td>\n",
       "      <td>1</td>\n",
       "      <td>Miss</td>\n",
       "      <td>female</td>\n",
       "      <td>35.000000</td>\n",
       "      <td>0</td>\n",
       "      <td>0</td>\n",
       "      <td>PC 17755</td>\n",
       "      <td>512.3292</td>\n",
       "      <td>No</td>\n",
       "      <td>C</td>\n",
       "    </tr>\n",
       "  </tbody>\n",
       "</table>\n",
       "</div>"
      ],
      "text/plain": [
       "     PassengerId  Survived  Pclass  Name     Sex        Age  SibSp  Parch  \\\n",
       "5              6         0       3    Mr    male  24.199750      0      0   \n",
       "15            16         1       2   Mrs  female  55.000000      0      0   \n",
       "19            20         1       3   Mrs  female  27.142250      0      0   \n",
       "24            25         0       3  Miss  female   8.000000      3      1   \n",
       "33            34         0       2    Mr    male  66.000000      0      0   \n",
       "40            41         0       3   Mrs  female  40.000000      1      0   \n",
       "50            51         0       3    Mr    male   7.000000      4      1   \n",
       "59            60         0       3    Mr    male  11.000000      5      2   \n",
       "61            62         1       1  Miss  female  38.000000      0      0   \n",
       "64            65         0       1    Mr    male  44.669500      0      0   \n",
       "71            72         0       3  Miss  female  16.000000      5      2   \n",
       "75            76         0       3    Mr    male  25.000000      0      0   \n",
       "81            82         1       3    Mr    male  29.000000      0      0   \n",
       "82            83         1       3  Miss  female  20.863750      0      0   \n",
       "87            88         0       3    Mr    male  23.895250      0      0   \n",
       "89            90         0       3    Mr    male  24.000000      0      0   \n",
       "104          105         0       3    Mr    male  37.000000      2      0   \n",
       "112          113         0       3    Mr    male  22.000000      0      0   \n",
       "113          114         0       3  Miss  female  20.000000      1      0   \n",
       "114          115         0       3  Miss  female  17.000000      0      0   \n",
       "120          121         0       2    Mr    male  21.000000      2      0   \n",
       "127          128         1       3    Mr    male  24.000000      0      0   \n",
       "130          131         0       3    Mr    male  33.000000      0      0   \n",
       "133          134         1       2   Mrs  female  29.000000      1      0   \n",
       "143          144         0       3    Mr    male  19.000000      0      0   \n",
       "145          146         0       2    Mr    male  19.000000      1      1   \n",
       "157          158         0       3    Mr    male  30.000000      0      0   \n",
       "158          159         0       3    Mr    male  22.666250      0      0   \n",
       "161          162         1       2   Mrs  female  40.000000      0      0   \n",
       "163          164         0       3    Mr    male  17.000000      0      0   \n",
       "179          180         0       3    Mr    male  36.000000      0      0   \n",
       "190          191         1       2   Mrs  female  32.000000      0      0   \n",
       "191          192         0       2    Mr    male  19.000000      0      0   \n",
       "198          199         1       3  Miss  female  19.751000      0      0   \n",
       "200          201         0       3    Mr    male  28.000000      0      0   \n",
       "201          202         0       3    Mr    male  12.977335      8      2   \n",
       "204          205         1       3    Mr    male  18.000000      0      0   \n",
       "206          207         0       3    Mr    male  32.000000      1      0   \n",
       "211          212         1       2  Miss  female  35.000000      0      0   \n",
       "213          214         0       2    Mr    male  30.000000      0      0   \n",
       "217          218         0       2    Mr    male  42.000000      1      0   \n",
       "224          225         1       1    Mr    male  38.000000      1      0   \n",
       "228          229         0       2    Mr    male  18.000000      0      0   \n",
       "233          234         1       3  Miss  female   5.000000      4      2   \n",
       "245          246         0       1    Mr    male  44.000000      2      0   \n",
       "246          247         0       3  Miss  female  25.000000      0      0   \n",
       "255          256         1       3   Mrs  female  29.000000      0      2   \n",
       "257          258         1       1  Miss  female  30.000000      0      0   \n",
       "258          259         1       1  Miss  female  35.000000      0      0   \n",
       "\n",
       "              Ticket      Fare Cabin Embarked  \n",
       "5             330877    8.4583    No        Q  \n",
       "15            248706   16.0000    No        S  \n",
       "19              2649    7.2250    No        C  \n",
       "24            349909   21.0750    No        S  \n",
       "33        C.A. 24579   10.5000    No        S  \n",
       "40              7546    9.4750    No        S  \n",
       "50           3101295   39.6875    No        S  \n",
       "59           CA 2144   46.9000    No        S  \n",
       "61            113572   80.0000   Yes        S  \n",
       "64          PC 17605   27.7208    No        C  \n",
       "71           CA 2144   46.9000    No        S  \n",
       "75            348123    7.6500   Yes        S  \n",
       "81            345779    9.5000    No        S  \n",
       "82            330932    7.7875    No        Q  \n",
       "87   SOTON/OQ 392086    8.0500    No        S  \n",
       "89            343275    8.0500    No        S  \n",
       "104          3101276    7.9250    No        S  \n",
       "112           324669    8.0500    No        S  \n",
       "113             4136    9.8250    No        S  \n",
       "114             2627   14.4583    No        C  \n",
       "120     S.O.C. 14879   73.5000    No        S  \n",
       "127          C 17369    7.1417    No        S  \n",
       "130           349241    7.8958    No        C  \n",
       "133           228414   26.0000    No        S  \n",
       "143           365222    6.7500    No        Q  \n",
       "145       C.A. 33112   36.7500    No        S  \n",
       "157  SOTON/OQ 392090    8.0500    No        S  \n",
       "158           315037    8.6625    No        S  \n",
       "161       C.A. 33595   15.7500    No        S  \n",
       "163           315093    8.6625    No        S  \n",
       "179             LINE    0.0000    No        S  \n",
       "190           234604   13.0000    No        S  \n",
       "191            28424   13.0000    No        S  \n",
       "198           370370    7.7500    No        Q  \n",
       "200           345770    9.5000    No        S  \n",
       "201         CA. 2343   69.5500    No        S  \n",
       "204         A/5 3540    8.0500    No        S  \n",
       "206          3101278   15.8500    No        S  \n",
       "211     F.C.C. 13528   21.0000    No        S  \n",
       "213           250646   13.0000    No        S  \n",
       "217           243847   27.0000    No        S  \n",
       "224            19943   90.0000   Yes        S  \n",
       "228           236171   13.0000    No        S  \n",
       "233           347077   31.3875    No        S  \n",
       "245            19928   90.0000   Yes        Q  \n",
       "246           347071    7.7750    No        S  \n",
       "255             2650   15.2458    No        C  \n",
       "257           110152   86.5000   Yes        S  \n",
       "258         PC 17755  512.3292    No        C  "
      ]
     },
     "execution_count": 139,
     "metadata": {},
     "output_type": "execute_result"
    }
   ],
   "source": [
    "# 筛选预测错误的数据（也就是在预测错误的数据上进一步分析，为什么会预测错误！！）\n",
    "\n",
    "trainName.loc[predicts != y_split_test].sort_index()"
   ]
  },
  {
   "cell_type": "code",
   "execution_count": 140,
   "metadata": {},
   "outputs": [],
   "source": [
    "trainName.loc[predicts != y_split_test].sort_index().to_csv('/Users/johnnie/Desktop/bad_cases.csv')"
   ]
  },
  {
   "cell_type": "code",
   "execution_count": 141,
   "metadata": {},
   "outputs": [
    {
     "name": "stdout",
     "output_type": "stream",
     "text": [
      "<class 'pandas.core.frame.DataFrame'>\n",
      "Int64Index: 891 entries, 0 to 890\n",
      "Data columns (total 12 columns):\n",
      "PassengerId    891 non-null int64\n",
      "Survived       891 non-null int64\n",
      "Pclass         891 non-null int64\n",
      "Name           891 non-null object\n",
      "Sex            891 non-null object\n",
      "Age            891 non-null float64\n",
      "SibSp          891 non-null int64\n",
      "Parch          891 non-null int64\n",
      "Ticket         891 non-null object\n",
      "Fare           891 non-null float64\n",
      "Cabin          891 non-null object\n",
      "Embarked       891 non-null object\n",
      "dtypes: float64(2), int64(5), object(5)\n",
      "memory usage: 90.5+ KB\n"
     ]
    }
   ],
   "source": [
    "trainName.info()"
   ]
  },
  {
   "cell_type": "code",
   "execution_count": 142,
   "metadata": {},
   "outputs": [
    {
     "data": {
      "text/html": [
       "<div>\n",
       "<style scoped>\n",
       "    .dataframe tbody tr th:only-of-type {\n",
       "        vertical-align: middle;\n",
       "    }\n",
       "\n",
       "    .dataframe tbody tr th {\n",
       "        vertical-align: top;\n",
       "    }\n",
       "\n",
       "    .dataframe thead th {\n",
       "        text-align: right;\n",
       "    }\n",
       "</style>\n",
       "<table border=\"1\" class=\"dataframe\">\n",
       "  <thead>\n",
       "    <tr style=\"text-align: right;\">\n",
       "      <th></th>\n",
       "      <th>PassengerId</th>\n",
       "      <th>Survived</th>\n",
       "      <th>Pclass</th>\n",
       "      <th>Age</th>\n",
       "      <th>SibSp</th>\n",
       "      <th>Parch</th>\n",
       "      <th>Fare</th>\n",
       "    </tr>\n",
       "  </thead>\n",
       "  <tbody>\n",
       "    <tr>\n",
       "      <th>count</th>\n",
       "      <td>891.000000</td>\n",
       "      <td>891.000000</td>\n",
       "      <td>891.000000</td>\n",
       "      <td>891.000000</td>\n",
       "      <td>891.000000</td>\n",
       "      <td>891.000000</td>\n",
       "      <td>891.000000</td>\n",
       "    </tr>\n",
       "    <tr>\n",
       "      <th>mean</th>\n",
       "      <td>446.000000</td>\n",
       "      <td>0.383838</td>\n",
       "      <td>2.308642</td>\n",
       "      <td>29.028770</td>\n",
       "      <td>0.523008</td>\n",
       "      <td>0.381594</td>\n",
       "      <td>32.204208</td>\n",
       "    </tr>\n",
       "    <tr>\n",
       "      <th>std</th>\n",
       "      <td>257.353842</td>\n",
       "      <td>0.486592</td>\n",
       "      <td>0.836071</td>\n",
       "      <td>13.621854</td>\n",
       "      <td>1.102743</td>\n",
       "      <td>0.806057</td>\n",
       "      <td>49.693429</td>\n",
       "    </tr>\n",
       "    <tr>\n",
       "      <th>min</th>\n",
       "      <td>1.000000</td>\n",
       "      <td>0.000000</td>\n",
       "      <td>1.000000</td>\n",
       "      <td>0.420000</td>\n",
       "      <td>0.000000</td>\n",
       "      <td>0.000000</td>\n",
       "      <td>0.000000</td>\n",
       "    </tr>\n",
       "    <tr>\n",
       "      <th>25%</th>\n",
       "      <td>223.500000</td>\n",
       "      <td>0.000000</td>\n",
       "      <td>2.000000</td>\n",
       "      <td>21.000000</td>\n",
       "      <td>0.000000</td>\n",
       "      <td>0.000000</td>\n",
       "      <td>7.910400</td>\n",
       "    </tr>\n",
       "    <tr>\n",
       "      <th>50%</th>\n",
       "      <td>446.000000</td>\n",
       "      <td>0.000000</td>\n",
       "      <td>3.000000</td>\n",
       "      <td>27.000000</td>\n",
       "      <td>0.000000</td>\n",
       "      <td>0.000000</td>\n",
       "      <td>14.454200</td>\n",
       "    </tr>\n",
       "    <tr>\n",
       "      <th>75%</th>\n",
       "      <td>668.500000</td>\n",
       "      <td>1.000000</td>\n",
       "      <td>3.000000</td>\n",
       "      <td>36.000000</td>\n",
       "      <td>1.000000</td>\n",
       "      <td>0.000000</td>\n",
       "      <td>31.000000</td>\n",
       "    </tr>\n",
       "    <tr>\n",
       "      <th>max</th>\n",
       "      <td>891.000000</td>\n",
       "      <td>1.000000</td>\n",
       "      <td>3.000000</td>\n",
       "      <td>80.000000</td>\n",
       "      <td>8.000000</td>\n",
       "      <td>6.000000</td>\n",
       "      <td>512.329200</td>\n",
       "    </tr>\n",
       "  </tbody>\n",
       "</table>\n",
       "</div>"
      ],
      "text/plain": [
       "       PassengerId    Survived      Pclass         Age       SibSp  \\\n",
       "count   891.000000  891.000000  891.000000  891.000000  891.000000   \n",
       "mean    446.000000    0.383838    2.308642   29.028770    0.523008   \n",
       "std     257.353842    0.486592    0.836071   13.621854    1.102743   \n",
       "min       1.000000    0.000000    1.000000    0.420000    0.000000   \n",
       "25%     223.500000    0.000000    2.000000   21.000000    0.000000   \n",
       "50%     446.000000    0.000000    3.000000   27.000000    0.000000   \n",
       "75%     668.500000    1.000000    3.000000   36.000000    1.000000   \n",
       "max     891.000000    1.000000    3.000000   80.000000    8.000000   \n",
       "\n",
       "            Parch        Fare  \n",
       "count  891.000000  891.000000  \n",
       "mean     0.381594   32.204208  \n",
       "std      0.806057   49.693429  \n",
       "min      0.000000    0.000000  \n",
       "25%      0.000000    7.910400  \n",
       "50%      0.000000   14.454200  \n",
       "75%      0.000000   31.000000  \n",
       "max      6.000000  512.329200  "
      ]
     },
     "execution_count": 142,
     "metadata": {},
     "output_type": "execute_result"
    }
   ],
   "source": [
    "trainName.describe()"
   ]
  },
  {
   "cell_type": "markdown",
   "metadata": {},
   "source": [
    "我们先试试从以下几点来进行优化，看看分数是否会有提高：\n",
    "\n",
    "* Age字段：一般按照生活惯例，小孩和老人会受到照顾，我们对年龄字段按阶段进行分箱\n",
    "* Fare字段：船票价格，不同等级乘客的价格会不一样，可以看看是否存在关联\n",
    "* SibSp字段：按照之前的分析，可将0,1 | 2,3,4 | 5,8单独分组\n",
    "* Parch字段：0,1,2 | 3,5 | 4,6,9 分别放一块儿"
   ]
  }
 ],
 "metadata": {
  "kernelspec": {
   "display_name": "Python 3",
   "language": "python",
   "name": "python3"
  },
  "language_info": {
   "codemirror_mode": {
    "name": "ipython",
    "version": 3
   },
   "file_extension": ".py",
   "mimetype": "text/x-python",
   "name": "python",
   "nbconvert_exporter": "python",
   "pygments_lexer": "ipython3",
   "version": "3.6.5"
  }
 },
 "nbformat": 4,
 "nbformat_minor": 2
}
