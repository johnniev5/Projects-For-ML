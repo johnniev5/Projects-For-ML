{
 "cells": [
  {
   "cell_type": "code",
   "execution_count": 1,
   "metadata": {},
   "outputs": [],
   "source": [
    "import numpy as np\n",
    "import pandas as pd\n",
    "import matplotlib.pyplot as plt\n",
    "import seaborn as sns\n",
    "\n",
    "from sklearn.linear_model import LinearRegression\n",
    "from mpl_toolkits.mplot3d import axes3d\n",
    "\n",
    "% matplotlib inline\n",
    "\n",
    "pd.set_option('display.notebook_repr_html', False)\n",
    "pd.set_option('display.max_columns', None)\n",
    "pd.set_option('display.max_rows', 150)\n",
    "pd.set_option('display.max_seq_items', None)\n",
    "\n",
    "sns.set_context('notebook')\n",
    "sns.set_style('white')"
   ]
  },
  {
   "cell_type": "markdown",
   "metadata": {},
   "source": [
    "### 1. 熟悉numpy数组"
   ]
  },
  {
   "cell_type": "code",
   "execution_count": 2,
   "metadata": {},
   "outputs": [
    {
     "data": {
      "text/plain": [
       "array([[1, 0, 0, 0, 0, 0],\n",
       "       [0, 1, 0, 0, 0, 0],\n",
       "       [0, 0, 1, 0, 0, 0],\n",
       "       [0, 0, 0, 1, 0, 0],\n",
       "       [0, 0, 0, 0, 1, 0],\n",
       "       [0, 0, 0, 0, 0, 1]])"
      ]
     },
     "execution_count": 2,
     "metadata": {},
     "output_type": "execute_result"
    }
   ],
   "source": [
    "np.eye(6, dtype='int')"
   ]
  },
  {
   "cell_type": "code",
   "execution_count": 3,
   "metadata": {},
   "outputs": [
    {
     "data": {
      "text/plain": [
       "array([[1, 0, 0, 0, 0, 0],\n",
       "       [0, 1, 0, 0, 0, 0],\n",
       "       [0, 0, 1, 0, 0, 0],\n",
       "       [0, 0, 0, 1, 0, 0],\n",
       "       [0, 0, 0, 0, 1, 0],\n",
       "       [0, 0, 0, 0, 0, 1]])"
      ]
     },
     "execution_count": 3,
     "metadata": {},
     "output_type": "execute_result"
    }
   ],
   "source": [
    "np.identity(6, dtype='int')"
   ]
  },
  {
   "cell_type": "markdown",
   "metadata": {},
   "source": [
    "### 2. 单变量回归"
   ]
  },
  {
   "cell_type": "code",
   "execution_count": 4,
   "metadata": {},
   "outputs": [],
   "source": [
    "data = np.loadtxt('./linear_regression_data1.txt', delimiter=',')\n",
    "\n",
    "X = np.c_[np.ones(data.shape[0]), data[:,0]]\n",
    "y = data[:, 1]"
   ]
  },
  {
   "cell_type": "markdown",
   "metadata": {},
   "source": [
    "说明：一般的单变量函数关系为$f(x) = \\theta x + b = \\theta_1x_1 + \\theta_0x_0$，设$b = \\theta_0x_0$，并令$x_0 = 1$，也就是说$b = \\theta_0$，故而可以将截距项纳入到整个矩阵中参与运算.."
   ]
  },
  {
   "cell_type": "markdown",
   "metadata": {},
   "source": [
    "比如我们有如下方程组（三元）：\n",
    "\n",
    "$$\\begin{cases}\n",
    "    2x + 3y = 2 \\\\\n",
    "    3y + 7z = 3 \\\\\n",
    "    5x + y + z = 11\n",
    "\\end{cases}$$\n",
    "\n",
    "该方程组的行空间表示如下：\n",
    "\n",
    "$$\\begin{bmatrix}\n",
    "    2 & 3 & 0 \\\\\n",
    "    0 & 3 & 7 \\\\\n",
    "    5 & 1 & 1 \\\\\n",
    "    \\end{bmatrix}\n",
    "    \\begin{bmatrix}\n",
    "    x \\\\\n",
    "    y \\\\\n",
    "    z\n",
    "    \\end{bmatrix} =\n",
    "    \\begin{bmatrix}\n",
    "    2 \\\\\n",
    "    3 \\\\\n",
    "    11\n",
    "    \\end{bmatrix}$$\n",
    "    \n",
    "实则行空间的每一个方程表示的是一个三维平面，而多元则表示的是一个超平面。方程组的所有系数构成系数矩阵，与变量构成的列向量内积，得到结果列向量。\n",
    "\n",
    "而另一种列空间的表示方法为：\n",
    "\n",
    "$$\\begin{bmatrix}\n",
    "    2 \\\\\n",
    "    0 \\\\\n",
    "    5\n",
    "    \\end{bmatrix}x +\n",
    "    \\begin{bmatrix}\n",
    "    3 \\\\\n",
    "    3 \\\\\n",
    "    1\n",
    "    \\end{bmatrix}y +\n",
    "    \\begin{bmatrix}\n",
    "    0 \\\\\n",
    "    7 \\\\\n",
    "    1\n",
    "    \\end{bmatrix}z =\n",
    "    \\begin{bmatrix}\n",
    "    2 \\\\\n",
    "    3 \\\\\n",
    "    11\n",
    "    \\end{bmatrix}$$\n",
    "    \n",
    "列空间实则是有各参数系数列向量构成的线性组合张成的空间。\n",
    "\n",
    "故而，对于$f(x) = \\theta_1x_1 + \\theta_0x_0 =\n",
    "\\begin{bmatrix}\n",
    "    \\theta_1 & \\theta_0\n",
    "\\end{bmatrix}\n",
    "\\begin{bmatrix}\n",
    "    x_1 \\\\\n",
    "    x_0\n",
    "\\end{bmatrix} = \n",
    "\\begin{bmatrix}\n",
    "    \\theta_1 \\\\\n",
    "    \\theta_0\n",
    "\\end{bmatrix}^T\n",
    "\\begin{bmatrix}\n",
    "    x_1 \\\\\n",
    "    x_0\n",
    "\\end{bmatrix}$"
   ]
  },
  {
   "cell_type": "code",
   "execution_count": 5,
   "metadata": {},
   "outputs": [
    {
     "data": {
      "text/plain": [
       "Text(0,0.5,'Profit in $10,000s')"
      ]
     },
     "execution_count": 5,
     "metadata": {},
     "output_type": "execute_result"
    },
    {
     "data": {
      "image/png": "[encoded data removed]",
      "text/plain": [
       "<Figure size 720x432 with 1 Axes>"
      ]
     },
     "metadata": {},
     "output_type": "display_data"
    }
   ],
   "source": [
    "plt.figure(figsize=(10, 6))\n",
    "plt.scatter(X[:,1], y, marker='x', color='red', linewidths=1.2)\n",
    "plt.xticks(np.arange(5, 25, 5))\n",
    "plt.xlabel('Population of City in 10,000s')\n",
    "plt.ylabel('Profit in $10,000s')"
   ]
  },
  {
   "cell_type": "markdown",
   "metadata": {},
   "source": [
    "上图反应的是城市人口数与收入的关系，人口越多的地方，收入也就越高"
   ]
  },
  {
   "cell_type": "markdown",
   "metadata": {},
   "source": [
    "### 3、梯度下降"
   ]
  },
  {
   "cell_type": "code",
   "execution_count": 6,
   "metadata": {},
   "outputs": [],
   "source": [
    "# 定义损失函数\n",
    "\n",
    "def costFunction(X, y, theta=np.mat([[0], [0]])):\n",
    "    m = y.size\n",
    "    h = theta.T.dot(np.mat(X).T)\n",
    "    \n",
    "    J = 0\n",
    "    J = 1/(2*m) * np.square(h - np.mat(y))\n",
    "    return J.sum()"
   ]
  },
  {
   "cell_type": "code",
   "execution_count": 7,
   "metadata": {},
   "outputs": [
    {
     "data": {
      "text/plain": [
       "32.07273387745567"
      ]
     },
     "execution_count": 7,
     "metadata": {},
     "output_type": "execute_result"
    }
   ],
   "source": [
    "costFunction(X, y)"
   ]
  },
  {
   "cell_type": "code",
   "execution_count": 8,
   "metadata": {},
   "outputs": [],
   "source": [
    "# 梯度下降\n",
    "\n",
    "def gradientDescent(X, y, theta=np.mat([[0], [0]]), alpha=0.02, epsilon=4.2, num_iters=2000):\n",
    "    m = y.size\n",
    "    iters = 0\n",
    "    J_hist = []\n",
    "    \n",
    "    while iters <= num_iters:\n",
    "        h = theta.T.dot(np.mat(X).T)\n",
    "        theta = theta - alpha * 1/m * ((h - np.mat(y)).dot(np.mat(X))).T\n",
    "        J_hist.append(costFunction(X, y, theta))\n",
    "        if J_hist[-1] >= epsilon:\n",
    "            iters = iters + 1\n",
    "        else:\n",
    "            break\n",
    "    return iters, theta, J_hist, J_hist[-1]"
   ]
  },
  {
   "cell_type": "code",
   "execution_count": 9,
   "metadata": {},
   "outputs": [
    {
     "data": {
      "text/plain": [
       "Text(0.5,1,'迭代2001次的损失为：4.47697')"
      ]
     },
     "execution_count": 9,
     "metadata": {},
     "output_type": "execute_result"
    },
    {
     "data": {
      "image/png": "[encoded data removed]",
      "text/plain": [
       "<Figure size 720x432 with 1 Axes>"
      ]
     },
     "metadata": {},
     "output_type": "display_data"
    }
   ],
   "source": [
    "from matplotlib.font_manager import FontProperties\n",
    "\n",
    "font = FontProperties(family='sans-serif', \n",
    "                      fname='/Users/johnnie/Library/Fonts/Microsoft YaHei.ttf', \n",
    "                      style='italic', weight='bold', size='large')\n",
    "\n",
    "iters, theta, Cost_J, FinalCost = gradientDescent(X, y, alpha=0.024)\n",
    "\n",
    "plt.figure(figsize=(10, 6))\n",
    "plt.plot(Cost_J)\n",
    "plt.xlabel('Iterations')\n",
    "plt.ylabel('Cost_J')\n",
    "plt.grid(linestyle='dashed', alpha=0.2)\n",
    "plt.title('迭代%i次的损失为：%.5f' %(iters, FinalCost), fontproperties=font)"
   ]
  },
  {
   "cell_type": "code",
   "execution_count": 10,
   "metadata": {},
   "outputs": [
    {
     "name": "stderr",
     "output_type": "stream",
     "text": [
      "/Users/johnnie/anaconda3/lib/python3.6/site-packages/scipy/linalg/basic.py:1226: RuntimeWarning: internal gelsd driver lwork query error, required iwork dimension not returned. This is likely the result of LAPACK bug 0038, fixed in LAPACK 3.2.2 (released July 21, 2010). Falling back to 'gelss' driver.\n",
      "  warnings.warn(mesg, RuntimeWarning)\n"
     ]
    },
    {
     "data": {
      "text/plain": [
       "Text(0,0.5,'Profit in $10,000s')"
      ]
     },
     "execution_count": 10,
     "metadata": {},
     "output_type": "execute_result"
    },
    {
     "data": {
      "image/png": "[encoded data removed]",
      "text/plain": [
       "<Figure size 720x432 with 1 Axes>"
      ]
     },
     "metadata": {},
     "output_type": "display_data"
    }
   ],
   "source": [
    "# 对比使用Sklearn LogisticRegressor拟合出来的模型\n",
    "from sklearn.linear_model import LinearRegression\n",
    "\n",
    "lerg = LinearRegression()\n",
    "lerg.fit(X, y)\n",
    "\n",
    "xx = np.arange(5,23)\n",
    "yy = theta[1].A1 * xx + theta[0].A1\n",
    "\n",
    "plt.figure(figsize=(10, 6))\n",
    "plt.scatter(X[:,1], y, marker='x', color='red', linewidths=1.2)\n",
    "plt.plot(xx, yy, color='green')\n",
    "plt.plot(xx, lerg.intercept_ + lerg.coef_[1] * xx, color='orange')\n",
    "\n",
    "plt.xticks(np.arange(5, 25, 5))\n",
    "plt.xlabel('Population of City in 10,000s')\n",
    "plt.ylabel('Profit in $10,000s')"
   ]
  },
  {
   "cell_type": "code",
   "execution_count": 11,
   "metadata": {},
   "outputs": [
    {
     "name": "stdout",
     "output_type": "stream",
     "text": [
      "Sklearn LinearRegressor方法求得模型系数和截距项分别为： 1.1930336441895935 -3.8957808783118555\n",
      "自定义梯度下降法求得模型系数和截距项分别为： [1.19296547] [-3.89510223]\n"
     ]
    }
   ],
   "source": [
    "print('Sklearn LinearRegressor方法求得模型系数和截距项分别为：', lerg.coef_[1], lerg.intercept_)\n",
    "print('自定义梯度下降法求得模型系数和截距项分别为：', theta[1].A1, theta[0].A1)"
   ]
  },
  {
   "cell_type": "code",
   "execution_count": 12,
   "metadata": {},
   "outputs": [
    {
     "name": "stdout",
     "output_type": "stream",
     "text": [
      "Sklearn的得分为： 0.7020315537841397 1.6638310197451778\n",
      "自定义的得分为： 0.7020315509935202 1.66415990858717\n"
     ]
    }
   ],
   "source": [
    "# 再来看下预测数据的情况\n",
    "\n",
    "from sklearn.metrics import r2_score, median_absolute_error\n",
    "\n",
    "y_predict = lerg.predict(X)\n",
    "\n",
    "print('Sklearn的得分为：', r2_score(y, y_predict), median_absolute_error(y, y_predict))\n",
    "print('自定义的得分为：', r2_score(y, X.dot(theta)), median_absolute_error(y, X.dot(theta)))"
   ]
  },
  {
   "cell_type": "markdown",
   "metadata": {},
   "source": [
    "这边来简单梳理下matrix与numpy matrics的一些异同点：\n",
    "\n",
    "* matrix只能是两维，而matrics可以是多维的\n",
    "* matrics支持matrix的所有的运算操作\n",
    "* matrics和matrix都是.T操作，但是matrix会有.H和.I操作\n",
    "* 对于c\\*\\*2，matrix返回的是c\\*c，而matrics返回的是一个numpy array\n",
    "* 同时两者能够相互转换，如np.asmatrix，np.asarray\n",
    "\n",
    "建议以后还是使用numpy matrics进行矩阵操作，比较方便，使用matrix比较麻烦的一点是搞不清楚转置~\n",
    "\n",
    "参考：https://stackoverflow.com/questions/4151128/what-are-the-differences-between-numpy-arrays-and-matrices-which-one-should-i-u"
   ]
  }
 ],
 "metadata": {
  "kernelspec": {
   "display_name": "Python 3",
   "language": "python",
   "name": "python3"
  },
  "language_info": {
   "codemirror_mode": {
    "name": "ipython",
    "version": 3
   },
   "file_extension": ".py",
   "mimetype": "text/x-python",
   "name": "python",
   "nbconvert_exporter": "python",
   "pygments_lexer": "ipython3",
   "version": "3.6.4"
  }
 },
 "nbformat": 4,
 "nbformat_minor": 2
}
